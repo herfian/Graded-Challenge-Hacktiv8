{
  "nbformat": 4,
  "nbformat_minor": 0,
  "metadata": {
    "colab": {
      "name": "h8dsft_P0W1.ipynb",
      "provenance": [],
      "collapsed_sections": []
    },
    "kernelspec": {
      "name": "python3",
      "display_name": "Python 3"
    },
    "language_info": {
      "name": "python"
    }
  },
  "cells": [
    {
      "cell_type": "markdown",
      "metadata": {
        "id": "zkRUzhQSR5Od"
      },
      "source": [
        "#**Graded Challenge 1**\n",
        "\n",
        "##By : Muhammad Rizki Herfian (Batch 004)"
      ]
    },
    {
      "cell_type": "markdown",
      "metadata": {
        "id": "AnH0GJOcSlYH"
      },
      "source": [
        "##**STEP 1 : Perkenalan**\n",
        "\n",
        "Pada Graded Challenge 1 ini dataset yang akan digunakan adalah dataset Pokemon.csv, data ini berisikan kumpulan data yang mencakup 721 jenis Pokemon, yang disusun dengan kolom nomor, nama, tipe pertama dan kedua, statistik dasar pokemon seperti : HP, Serangan, Pertahanan, Serangan Khusus, Pertahanan Khusus, dan Kecepatan.\n",
        "\n",
        "Berikut penjelasan dari setiap kolom yang tersedia :\n",
        "\n",
        "*   #: ID untuk setiap pokemon.\n",
        "*   Name: Nama masing-masing pokemon.\n",
        "*   Type 1: Setiap pokemon memiliki tipe, ini menentukan kelemahan/ketahanan terhadap serangan.\n",
        "*   Type 2: Beberapa pokemon memiliki 2 tipe. \n",
        "*   Total: Jumlah semua statistik yang muncul setelah ini, panduan umum tentang seberapa kuat pokemon.\n",
        "*   HP: Hit Point, atau kesehatan, menentukan seberapa besar kerusakan yang dapat ditahan oleh pokemon sebelum pingsan.\n",
        "*   Attack: Pengubah dasar untuk serangan normal (Misalnya. Menggores, Pukulan).\n",
        "*   Defense: Resistensi kerusakan dasar terhadap serangan normal.\n",
        "*   SP Atk: serangan khusus, pengubah dasar untuk serangan khusus (misalnya ledakan api, balok gelembung).\n",
        "*   SP Def: Resistensi kerusakan dasar terhadap serangan khusus.\n",
        "*   Speed: Menentukan pokemon mana yang menyerang lebih dulu setiap putaran.\n",
        "\n",
        "Objecktive yang ingin dicapai adalah bisa menjalankan semua task yang termasuk (Assignment Rubrics)\n"
      ]
    },
    {
      "cell_type": "markdown",
      "metadata": {
        "id": "Cvsk_BZJXqaN"
      },
      "source": [
        "##**STEP 2 : Importing**\n",
        "###Langkah ini berisikan library apa saja yang akan digunakan."
      ]
    },
    {
      "cell_type": "code",
      "metadata": {
        "id": "WWIhYjixSaVY"
      },
      "source": [
        "import pandas as pd\n",
        "import numpy as np\n",
        "import matplotlib.pyplot as plt\n",
        "import seaborn as sns"
      ],
      "execution_count": 45,
      "outputs": []
    },
    {
      "cell_type": "markdown",
      "metadata": {
        "id": "yg8q8fM5X_w3"
      },
      "source": [
        "Ada 4 library yang akan digunakan, masing-masing memiliki fungsi sebagai :\n",
        "*   Pandas biasa digunakan untuk membuat tabel, mengubah dimensi data, mengecek data, dan lain sebagainya.\n",
        "*   Numpy berfungsi memudahkan operasi komputasi tipe data numerik seperti penjumlahan, pengurangan, perkalian, pangkat, dan operasi lainnya.\n",
        "*   Matplotlib adalah pustaka visualisasi data multiplatform yang dibangun di atas array numpy\n",
        "*   Seaborn adalah library untuk membuat grafik dan statistik dengan menggunakan Python. \n",
        "\n",
        "\n",
        "\n",
        "\n"
      ]
    },
    {
      "cell_type": "markdown",
      "metadata": {
        "id": "d69J_xJzY_ek"
      },
      "source": [
        "##**STEP 3 : Data Loading**\n",
        "###Bagian ini berisi proses data loading yang kemudian dilanjutkan dengan explorasi data secara sederhana.\n"
      ]
    },
    {
      "cell_type": "code",
      "metadata": {
        "id": "v__MHj9lZhbR"
      },
      "source": [
        "dpokemon = pd.read_csv('Pokemon.csv')"
      ],
      "execution_count": 46,
      "outputs": []
    },
    {
      "cell_type": "markdown",
      "metadata": {
        "id": "abkmXgpyZ79X"
      },
      "source": [
        "###Pertama membuat inisiasi awal yaitu dpokemon, data yang diambil adalah data Pokemon.csv dan cara membacanya dengan menggunakan perintah `pd.read_csv`."
      ]
    },
    {
      "cell_type": "markdown",
      "metadata": {
        "id": "mfrFxmFCagwC"
      },
      "source": [
        "##**Menampilkan Data**\n",
        "\n",
        "###Setelah berhasil membaca data, langkah berikutnya adalah menampilkan isi data dari Pokemon.csv, disini saya menggunakan 3 cara untuk menampilkan isi data.\n",
        "\n",
        "**(Assignment Rubrics)**"
      ]
    },
    {
      "cell_type": "code",
      "metadata": {
        "colab": {
          "base_uri": "https://localhost:8080/",
          "height": 572
        },
        "id": "BD0KWI_Wa47D",
        "outputId": "ba3e18c1-393c-4271-b7ca-2e14ca6b74e8"
      },
      "source": [
        "dpokemon.head(15)"
      ],
      "execution_count": 47,
      "outputs": [
        {
          "output_type": "execute_result",
          "data": {
            "text/html": [
              "<div>\n",
              "<style scoped>\n",
              "    .dataframe tbody tr th:only-of-type {\n",
              "        vertical-align: middle;\n",
              "    }\n",
              "\n",
              "    .dataframe tbody tr th {\n",
              "        vertical-align: top;\n",
              "    }\n",
              "\n",
              "    .dataframe thead th {\n",
              "        text-align: right;\n",
              "    }\n",
              "</style>\n",
              "<table border=\"1\" class=\"dataframe\">\n",
              "  <thead>\n",
              "    <tr style=\"text-align: right;\">\n",
              "      <th></th>\n",
              "      <th>#</th>\n",
              "      <th>Name</th>\n",
              "      <th>Type 1</th>\n",
              "      <th>Type 2</th>\n",
              "      <th>Total</th>\n",
              "      <th>HP</th>\n",
              "      <th>Attack</th>\n",
              "      <th>Defense</th>\n",
              "      <th>Sp. Atk</th>\n",
              "      <th>Sp. Def</th>\n",
              "      <th>Speed</th>\n",
              "      <th>Generation</th>\n",
              "      <th>Legendary</th>\n",
              "    </tr>\n",
              "  </thead>\n",
              "  <tbody>\n",
              "    <tr>\n",
              "      <th>0</th>\n",
              "      <td>1</td>\n",
              "      <td>Bulbasaur</td>\n",
              "      <td>Grass</td>\n",
              "      <td>Poison</td>\n",
              "      <td>318</td>\n",
              "      <td>45</td>\n",
              "      <td>49</td>\n",
              "      <td>49</td>\n",
              "      <td>65</td>\n",
              "      <td>65</td>\n",
              "      <td>45</td>\n",
              "      <td>1</td>\n",
              "      <td>False</td>\n",
              "    </tr>\n",
              "    <tr>\n",
              "      <th>1</th>\n",
              "      <td>2</td>\n",
              "      <td>Ivysaur</td>\n",
              "      <td>Grass</td>\n",
              "      <td>Poison</td>\n",
              "      <td>405</td>\n",
              "      <td>60</td>\n",
              "      <td>62</td>\n",
              "      <td>63</td>\n",
              "      <td>80</td>\n",
              "      <td>80</td>\n",
              "      <td>60</td>\n",
              "      <td>1</td>\n",
              "      <td>False</td>\n",
              "    </tr>\n",
              "    <tr>\n",
              "      <th>2</th>\n",
              "      <td>3</td>\n",
              "      <td>Venusaur</td>\n",
              "      <td>Grass</td>\n",
              "      <td>Poison</td>\n",
              "      <td>525</td>\n",
              "      <td>80</td>\n",
              "      <td>82</td>\n",
              "      <td>83</td>\n",
              "      <td>100</td>\n",
              "      <td>100</td>\n",
              "      <td>80</td>\n",
              "      <td>1</td>\n",
              "      <td>False</td>\n",
              "    </tr>\n",
              "    <tr>\n",
              "      <th>3</th>\n",
              "      <td>3</td>\n",
              "      <td>VenusaurMega Venusaur</td>\n",
              "      <td>Grass</td>\n",
              "      <td>Poison</td>\n",
              "      <td>625</td>\n",
              "      <td>80</td>\n",
              "      <td>100</td>\n",
              "      <td>123</td>\n",
              "      <td>122</td>\n",
              "      <td>120</td>\n",
              "      <td>80</td>\n",
              "      <td>1</td>\n",
              "      <td>False</td>\n",
              "    </tr>\n",
              "    <tr>\n",
              "      <th>4</th>\n",
              "      <td>4</td>\n",
              "      <td>Charmander</td>\n",
              "      <td>Fire</td>\n",
              "      <td>NaN</td>\n",
              "      <td>309</td>\n",
              "      <td>39</td>\n",
              "      <td>52</td>\n",
              "      <td>43</td>\n",
              "      <td>60</td>\n",
              "      <td>50</td>\n",
              "      <td>65</td>\n",
              "      <td>1</td>\n",
              "      <td>False</td>\n",
              "    </tr>\n",
              "    <tr>\n",
              "      <th>5</th>\n",
              "      <td>5</td>\n",
              "      <td>Charmeleon</td>\n",
              "      <td>Fire</td>\n",
              "      <td>NaN</td>\n",
              "      <td>405</td>\n",
              "      <td>58</td>\n",
              "      <td>64</td>\n",
              "      <td>58</td>\n",
              "      <td>80</td>\n",
              "      <td>65</td>\n",
              "      <td>80</td>\n",
              "      <td>1</td>\n",
              "      <td>False</td>\n",
              "    </tr>\n",
              "    <tr>\n",
              "      <th>6</th>\n",
              "      <td>6</td>\n",
              "      <td>Charizard</td>\n",
              "      <td>Fire</td>\n",
              "      <td>Flying</td>\n",
              "      <td>534</td>\n",
              "      <td>78</td>\n",
              "      <td>84</td>\n",
              "      <td>78</td>\n",
              "      <td>109</td>\n",
              "      <td>85</td>\n",
              "      <td>100</td>\n",
              "      <td>1</td>\n",
              "      <td>False</td>\n",
              "    </tr>\n",
              "    <tr>\n",
              "      <th>7</th>\n",
              "      <td>6</td>\n",
              "      <td>CharizardMega Charizard X</td>\n",
              "      <td>Fire</td>\n",
              "      <td>Dragon</td>\n",
              "      <td>634</td>\n",
              "      <td>78</td>\n",
              "      <td>130</td>\n",
              "      <td>111</td>\n",
              "      <td>130</td>\n",
              "      <td>85</td>\n",
              "      <td>100</td>\n",
              "      <td>1</td>\n",
              "      <td>False</td>\n",
              "    </tr>\n",
              "    <tr>\n",
              "      <th>8</th>\n",
              "      <td>6</td>\n",
              "      <td>CharizardMega Charizard Y</td>\n",
              "      <td>Fire</td>\n",
              "      <td>Flying</td>\n",
              "      <td>634</td>\n",
              "      <td>78</td>\n",
              "      <td>104</td>\n",
              "      <td>78</td>\n",
              "      <td>159</td>\n",
              "      <td>115</td>\n",
              "      <td>100</td>\n",
              "      <td>1</td>\n",
              "      <td>False</td>\n",
              "    </tr>\n",
              "    <tr>\n",
              "      <th>9</th>\n",
              "      <td>7</td>\n",
              "      <td>Squirtle</td>\n",
              "      <td>Water</td>\n",
              "      <td>NaN</td>\n",
              "      <td>314</td>\n",
              "      <td>44</td>\n",
              "      <td>48</td>\n",
              "      <td>65</td>\n",
              "      <td>50</td>\n",
              "      <td>64</td>\n",
              "      <td>43</td>\n",
              "      <td>1</td>\n",
              "      <td>False</td>\n",
              "    </tr>\n",
              "    <tr>\n",
              "      <th>10</th>\n",
              "      <td>8</td>\n",
              "      <td>Wartortle</td>\n",
              "      <td>Water</td>\n",
              "      <td>NaN</td>\n",
              "      <td>405</td>\n",
              "      <td>59</td>\n",
              "      <td>63</td>\n",
              "      <td>80</td>\n",
              "      <td>65</td>\n",
              "      <td>80</td>\n",
              "      <td>58</td>\n",
              "      <td>1</td>\n",
              "      <td>False</td>\n",
              "    </tr>\n",
              "    <tr>\n",
              "      <th>11</th>\n",
              "      <td>9</td>\n",
              "      <td>Blastoise</td>\n",
              "      <td>Water</td>\n",
              "      <td>NaN</td>\n",
              "      <td>530</td>\n",
              "      <td>79</td>\n",
              "      <td>83</td>\n",
              "      <td>100</td>\n",
              "      <td>85</td>\n",
              "      <td>105</td>\n",
              "      <td>78</td>\n",
              "      <td>1</td>\n",
              "      <td>False</td>\n",
              "    </tr>\n",
              "    <tr>\n",
              "      <th>12</th>\n",
              "      <td>9</td>\n",
              "      <td>BlastoiseMega Blastoise</td>\n",
              "      <td>Water</td>\n",
              "      <td>NaN</td>\n",
              "      <td>630</td>\n",
              "      <td>79</td>\n",
              "      <td>103</td>\n",
              "      <td>120</td>\n",
              "      <td>135</td>\n",
              "      <td>115</td>\n",
              "      <td>78</td>\n",
              "      <td>1</td>\n",
              "      <td>False</td>\n",
              "    </tr>\n",
              "    <tr>\n",
              "      <th>13</th>\n",
              "      <td>10</td>\n",
              "      <td>Caterpie</td>\n",
              "      <td>Bug</td>\n",
              "      <td>NaN</td>\n",
              "      <td>195</td>\n",
              "      <td>45</td>\n",
              "      <td>30</td>\n",
              "      <td>35</td>\n",
              "      <td>20</td>\n",
              "      <td>20</td>\n",
              "      <td>45</td>\n",
              "      <td>1</td>\n",
              "      <td>False</td>\n",
              "    </tr>\n",
              "    <tr>\n",
              "      <th>14</th>\n",
              "      <td>11</td>\n",
              "      <td>Metapod</td>\n",
              "      <td>Bug</td>\n",
              "      <td>NaN</td>\n",
              "      <td>205</td>\n",
              "      <td>50</td>\n",
              "      <td>20</td>\n",
              "      <td>55</td>\n",
              "      <td>25</td>\n",
              "      <td>25</td>\n",
              "      <td>30</td>\n",
              "      <td>1</td>\n",
              "      <td>False</td>\n",
              "    </tr>\n",
              "  </tbody>\n",
              "</table>\n",
              "</div>"
            ],
            "text/plain": [
              "     #                       Name Type 1  ... Speed  Generation  Legendary\n",
              "0    1                  Bulbasaur  Grass  ...    45           1      False\n",
              "1    2                    Ivysaur  Grass  ...    60           1      False\n",
              "2    3                   Venusaur  Grass  ...    80           1      False\n",
              "3    3      VenusaurMega Venusaur  Grass  ...    80           1      False\n",
              "4    4                 Charmander   Fire  ...    65           1      False\n",
              "5    5                 Charmeleon   Fire  ...    80           1      False\n",
              "6    6                  Charizard   Fire  ...   100           1      False\n",
              "7    6  CharizardMega Charizard X   Fire  ...   100           1      False\n",
              "8    6  CharizardMega Charizard Y   Fire  ...   100           1      False\n",
              "9    7                   Squirtle  Water  ...    43           1      False\n",
              "10   8                  Wartortle  Water  ...    58           1      False\n",
              "11   9                  Blastoise  Water  ...    78           1      False\n",
              "12   9    BlastoiseMega Blastoise  Water  ...    78           1      False\n",
              "13  10                   Caterpie    Bug  ...    45           1      False\n",
              "14  11                    Metapod    Bug  ...    30           1      False\n",
              "\n",
              "[15 rows x 13 columns]"
            ]
          },
          "metadata": {},
          "execution_count": 47
        }
      ]
    },
    {
      "cell_type": "markdown",
      "metadata": {
        "id": "JJ2HasNmbfct"
      },
      "source": [
        "###Cara pertamma yaitu dengan menggunakan perintah `dpokemon.head(15)` untuk menampilkan isi 15 data pertama dari Pokemon.csv."
      ]
    },
    {
      "cell_type": "code",
      "metadata": {
        "colab": {
          "base_uri": "https://localhost:8080/",
          "height": 572
        },
        "id": "YE35Ns0Ka5vs",
        "outputId": "11d34db6-6957-475b-a1f6-87ffd39fc257"
      },
      "source": [
        "dpokemon[401:416]"
      ],
      "execution_count": 48,
      "outputs": [
        {
          "output_type": "execute_result",
          "data": {
            "text/html": [
              "<div>\n",
              "<style scoped>\n",
              "    .dataframe tbody tr th:only-of-type {\n",
              "        vertical-align: middle;\n",
              "    }\n",
              "\n",
              "    .dataframe tbody tr th {\n",
              "        vertical-align: top;\n",
              "    }\n",
              "\n",
              "    .dataframe thead th {\n",
              "        text-align: right;\n",
              "    }\n",
              "</style>\n",
              "<table border=\"1\" class=\"dataframe\">\n",
              "  <thead>\n",
              "    <tr style=\"text-align: right;\">\n",
              "      <th></th>\n",
              "      <th>#</th>\n",
              "      <th>Name</th>\n",
              "      <th>Type 1</th>\n",
              "      <th>Type 2</th>\n",
              "      <th>Total</th>\n",
              "      <th>HP</th>\n",
              "      <th>Attack</th>\n",
              "      <th>Defense</th>\n",
              "      <th>Sp. Atk</th>\n",
              "      <th>Sp. Def</th>\n",
              "      <th>Speed</th>\n",
              "      <th>Generation</th>\n",
              "      <th>Legendary</th>\n",
              "    </tr>\n",
              "  </thead>\n",
              "  <tbody>\n",
              "    <tr>\n",
              "      <th>401</th>\n",
              "      <td>366</td>\n",
              "      <td>Clamperl</td>\n",
              "      <td>Water</td>\n",
              "      <td>NaN</td>\n",
              "      <td>345</td>\n",
              "      <td>35</td>\n",
              "      <td>64</td>\n",
              "      <td>85</td>\n",
              "      <td>74</td>\n",
              "      <td>55</td>\n",
              "      <td>32</td>\n",
              "      <td>3</td>\n",
              "      <td>False</td>\n",
              "    </tr>\n",
              "    <tr>\n",
              "      <th>402</th>\n",
              "      <td>367</td>\n",
              "      <td>Huntail</td>\n",
              "      <td>Water</td>\n",
              "      <td>NaN</td>\n",
              "      <td>485</td>\n",
              "      <td>55</td>\n",
              "      <td>104</td>\n",
              "      <td>105</td>\n",
              "      <td>94</td>\n",
              "      <td>75</td>\n",
              "      <td>52</td>\n",
              "      <td>3</td>\n",
              "      <td>False</td>\n",
              "    </tr>\n",
              "    <tr>\n",
              "      <th>403</th>\n",
              "      <td>368</td>\n",
              "      <td>Gorebyss</td>\n",
              "      <td>Water</td>\n",
              "      <td>NaN</td>\n",
              "      <td>485</td>\n",
              "      <td>55</td>\n",
              "      <td>84</td>\n",
              "      <td>105</td>\n",
              "      <td>114</td>\n",
              "      <td>75</td>\n",
              "      <td>52</td>\n",
              "      <td>3</td>\n",
              "      <td>False</td>\n",
              "    </tr>\n",
              "    <tr>\n",
              "      <th>404</th>\n",
              "      <td>369</td>\n",
              "      <td>Relicanth</td>\n",
              "      <td>Water</td>\n",
              "      <td>Rock</td>\n",
              "      <td>485</td>\n",
              "      <td>100</td>\n",
              "      <td>90</td>\n",
              "      <td>130</td>\n",
              "      <td>45</td>\n",
              "      <td>65</td>\n",
              "      <td>55</td>\n",
              "      <td>3</td>\n",
              "      <td>False</td>\n",
              "    </tr>\n",
              "    <tr>\n",
              "      <th>405</th>\n",
              "      <td>370</td>\n",
              "      <td>Luvdisc</td>\n",
              "      <td>Water</td>\n",
              "      <td>NaN</td>\n",
              "      <td>330</td>\n",
              "      <td>43</td>\n",
              "      <td>30</td>\n",
              "      <td>55</td>\n",
              "      <td>40</td>\n",
              "      <td>65</td>\n",
              "      <td>97</td>\n",
              "      <td>3</td>\n",
              "      <td>False</td>\n",
              "    </tr>\n",
              "    <tr>\n",
              "      <th>406</th>\n",
              "      <td>371</td>\n",
              "      <td>Bagon</td>\n",
              "      <td>Dragon</td>\n",
              "      <td>NaN</td>\n",
              "      <td>300</td>\n",
              "      <td>45</td>\n",
              "      <td>75</td>\n",
              "      <td>60</td>\n",
              "      <td>40</td>\n",
              "      <td>30</td>\n",
              "      <td>50</td>\n",
              "      <td>3</td>\n",
              "      <td>False</td>\n",
              "    </tr>\n",
              "    <tr>\n",
              "      <th>407</th>\n",
              "      <td>372</td>\n",
              "      <td>Shelgon</td>\n",
              "      <td>Dragon</td>\n",
              "      <td>NaN</td>\n",
              "      <td>420</td>\n",
              "      <td>65</td>\n",
              "      <td>95</td>\n",
              "      <td>100</td>\n",
              "      <td>60</td>\n",
              "      <td>50</td>\n",
              "      <td>50</td>\n",
              "      <td>3</td>\n",
              "      <td>False</td>\n",
              "    </tr>\n",
              "    <tr>\n",
              "      <th>408</th>\n",
              "      <td>373</td>\n",
              "      <td>Salamence</td>\n",
              "      <td>Dragon</td>\n",
              "      <td>Flying</td>\n",
              "      <td>600</td>\n",
              "      <td>95</td>\n",
              "      <td>135</td>\n",
              "      <td>80</td>\n",
              "      <td>110</td>\n",
              "      <td>80</td>\n",
              "      <td>100</td>\n",
              "      <td>3</td>\n",
              "      <td>False</td>\n",
              "    </tr>\n",
              "    <tr>\n",
              "      <th>409</th>\n",
              "      <td>373</td>\n",
              "      <td>SalamenceMega Salamence</td>\n",
              "      <td>Dragon</td>\n",
              "      <td>Flying</td>\n",
              "      <td>700</td>\n",
              "      <td>95</td>\n",
              "      <td>145</td>\n",
              "      <td>130</td>\n",
              "      <td>120</td>\n",
              "      <td>90</td>\n",
              "      <td>120</td>\n",
              "      <td>3</td>\n",
              "      <td>False</td>\n",
              "    </tr>\n",
              "    <tr>\n",
              "      <th>410</th>\n",
              "      <td>374</td>\n",
              "      <td>Beldum</td>\n",
              "      <td>Steel</td>\n",
              "      <td>Psychic</td>\n",
              "      <td>300</td>\n",
              "      <td>40</td>\n",
              "      <td>55</td>\n",
              "      <td>80</td>\n",
              "      <td>35</td>\n",
              "      <td>60</td>\n",
              "      <td>30</td>\n",
              "      <td>3</td>\n",
              "      <td>False</td>\n",
              "    </tr>\n",
              "    <tr>\n",
              "      <th>411</th>\n",
              "      <td>375</td>\n",
              "      <td>Metang</td>\n",
              "      <td>Steel</td>\n",
              "      <td>Psychic</td>\n",
              "      <td>420</td>\n",
              "      <td>60</td>\n",
              "      <td>75</td>\n",
              "      <td>100</td>\n",
              "      <td>55</td>\n",
              "      <td>80</td>\n",
              "      <td>50</td>\n",
              "      <td>3</td>\n",
              "      <td>False</td>\n",
              "    </tr>\n",
              "    <tr>\n",
              "      <th>412</th>\n",
              "      <td>376</td>\n",
              "      <td>Metagross</td>\n",
              "      <td>Steel</td>\n",
              "      <td>Psychic</td>\n",
              "      <td>600</td>\n",
              "      <td>80</td>\n",
              "      <td>135</td>\n",
              "      <td>130</td>\n",
              "      <td>95</td>\n",
              "      <td>90</td>\n",
              "      <td>70</td>\n",
              "      <td>3</td>\n",
              "      <td>False</td>\n",
              "    </tr>\n",
              "    <tr>\n",
              "      <th>413</th>\n",
              "      <td>376</td>\n",
              "      <td>MetagrossMega Metagross</td>\n",
              "      <td>Steel</td>\n",
              "      <td>Psychic</td>\n",
              "      <td>700</td>\n",
              "      <td>80</td>\n",
              "      <td>145</td>\n",
              "      <td>150</td>\n",
              "      <td>105</td>\n",
              "      <td>110</td>\n",
              "      <td>110</td>\n",
              "      <td>3</td>\n",
              "      <td>False</td>\n",
              "    </tr>\n",
              "    <tr>\n",
              "      <th>414</th>\n",
              "      <td>377</td>\n",
              "      <td>Regirock</td>\n",
              "      <td>Rock</td>\n",
              "      <td>NaN</td>\n",
              "      <td>580</td>\n",
              "      <td>80</td>\n",
              "      <td>100</td>\n",
              "      <td>200</td>\n",
              "      <td>50</td>\n",
              "      <td>100</td>\n",
              "      <td>50</td>\n",
              "      <td>3</td>\n",
              "      <td>True</td>\n",
              "    </tr>\n",
              "    <tr>\n",
              "      <th>415</th>\n",
              "      <td>378</td>\n",
              "      <td>Regice</td>\n",
              "      <td>Ice</td>\n",
              "      <td>NaN</td>\n",
              "      <td>580</td>\n",
              "      <td>80</td>\n",
              "      <td>50</td>\n",
              "      <td>100</td>\n",
              "      <td>100</td>\n",
              "      <td>200</td>\n",
              "      <td>50</td>\n",
              "      <td>3</td>\n",
              "      <td>True</td>\n",
              "    </tr>\n",
              "  </tbody>\n",
              "</table>\n",
              "</div>"
            ],
            "text/plain": [
              "       #                     Name  Type 1  ... Speed  Generation  Legendary\n",
              "401  366                 Clamperl   Water  ...    32           3      False\n",
              "402  367                  Huntail   Water  ...    52           3      False\n",
              "403  368                 Gorebyss   Water  ...    52           3      False\n",
              "404  369                Relicanth   Water  ...    55           3      False\n",
              "405  370                  Luvdisc   Water  ...    97           3      False\n",
              "406  371                    Bagon  Dragon  ...    50           3      False\n",
              "407  372                  Shelgon  Dragon  ...    50           3      False\n",
              "408  373                Salamence  Dragon  ...   100           3      False\n",
              "409  373  SalamenceMega Salamence  Dragon  ...   120           3      False\n",
              "410  374                   Beldum   Steel  ...    30           3      False\n",
              "411  375                   Metang   Steel  ...    50           3      False\n",
              "412  376                Metagross   Steel  ...    70           3      False\n",
              "413  376  MetagrossMega Metagross   Steel  ...   110           3      False\n",
              "414  377                 Regirock    Rock  ...    50           3       True\n",
              "415  378                   Regice     Ice  ...    50           3       True\n",
              "\n",
              "[15 rows x 13 columns]"
            ]
          },
          "metadata": {},
          "execution_count": 48
        }
      ]
    },
    {
      "cell_type": "markdown",
      "metadata": {
        "id": "FfFGLR-xcIkl"
      },
      "source": [
        "###Cara kedua menggunakan perintah `dpokemon[401:416]` untuk mengambil range data yang lebih spesifik misal menampilkan isi 15 data tengah dari Pokemon.csv."
      ]
    },
    {
      "cell_type": "code",
      "metadata": {
        "colab": {
          "base_uri": "https://localhost:8080/",
          "height": 554
        },
        "id": "TYnIjdAYa-Sq",
        "outputId": "87dd6c1f-571c-4dea-a624-164566cece09"
      },
      "source": [
        "dpokemon.tail(15)"
      ],
      "execution_count": 49,
      "outputs": [
        {
          "output_type": "execute_result",
          "data": {
            "text/html": [
              "<div>\n",
              "<style scoped>\n",
              "    .dataframe tbody tr th:only-of-type {\n",
              "        vertical-align: middle;\n",
              "    }\n",
              "\n",
              "    .dataframe tbody tr th {\n",
              "        vertical-align: top;\n",
              "    }\n",
              "\n",
              "    .dataframe thead th {\n",
              "        text-align: right;\n",
              "    }\n",
              "</style>\n",
              "<table border=\"1\" class=\"dataframe\">\n",
              "  <thead>\n",
              "    <tr style=\"text-align: right;\">\n",
              "      <th></th>\n",
              "      <th>#</th>\n",
              "      <th>Name</th>\n",
              "      <th>Type 1</th>\n",
              "      <th>Type 2</th>\n",
              "      <th>Total</th>\n",
              "      <th>HP</th>\n",
              "      <th>Attack</th>\n",
              "      <th>Defense</th>\n",
              "      <th>Sp. Atk</th>\n",
              "      <th>Sp. Def</th>\n",
              "      <th>Speed</th>\n",
              "      <th>Generation</th>\n",
              "      <th>Legendary</th>\n",
              "    </tr>\n",
              "  </thead>\n",
              "  <tbody>\n",
              "    <tr>\n",
              "      <th>785</th>\n",
              "      <td>711</td>\n",
              "      <td>GourgeistSmall Size</td>\n",
              "      <td>Ghost</td>\n",
              "      <td>Grass</td>\n",
              "      <td>494</td>\n",
              "      <td>55</td>\n",
              "      <td>85</td>\n",
              "      <td>122</td>\n",
              "      <td>58</td>\n",
              "      <td>75</td>\n",
              "      <td>99</td>\n",
              "      <td>6</td>\n",
              "      <td>False</td>\n",
              "    </tr>\n",
              "    <tr>\n",
              "      <th>786</th>\n",
              "      <td>711</td>\n",
              "      <td>GourgeistLarge Size</td>\n",
              "      <td>Ghost</td>\n",
              "      <td>Grass</td>\n",
              "      <td>494</td>\n",
              "      <td>75</td>\n",
              "      <td>95</td>\n",
              "      <td>122</td>\n",
              "      <td>58</td>\n",
              "      <td>75</td>\n",
              "      <td>69</td>\n",
              "      <td>6</td>\n",
              "      <td>False</td>\n",
              "    </tr>\n",
              "    <tr>\n",
              "      <th>787</th>\n",
              "      <td>711</td>\n",
              "      <td>GourgeistSuper Size</td>\n",
              "      <td>Ghost</td>\n",
              "      <td>Grass</td>\n",
              "      <td>494</td>\n",
              "      <td>85</td>\n",
              "      <td>100</td>\n",
              "      <td>122</td>\n",
              "      <td>58</td>\n",
              "      <td>75</td>\n",
              "      <td>54</td>\n",
              "      <td>6</td>\n",
              "      <td>False</td>\n",
              "    </tr>\n",
              "    <tr>\n",
              "      <th>788</th>\n",
              "      <td>712</td>\n",
              "      <td>Bergmite</td>\n",
              "      <td>Ice</td>\n",
              "      <td>NaN</td>\n",
              "      <td>304</td>\n",
              "      <td>55</td>\n",
              "      <td>69</td>\n",
              "      <td>85</td>\n",
              "      <td>32</td>\n",
              "      <td>35</td>\n",
              "      <td>28</td>\n",
              "      <td>6</td>\n",
              "      <td>False</td>\n",
              "    </tr>\n",
              "    <tr>\n",
              "      <th>789</th>\n",
              "      <td>713</td>\n",
              "      <td>Avalugg</td>\n",
              "      <td>Ice</td>\n",
              "      <td>NaN</td>\n",
              "      <td>514</td>\n",
              "      <td>95</td>\n",
              "      <td>117</td>\n",
              "      <td>184</td>\n",
              "      <td>44</td>\n",
              "      <td>46</td>\n",
              "      <td>28</td>\n",
              "      <td>6</td>\n",
              "      <td>False</td>\n",
              "    </tr>\n",
              "    <tr>\n",
              "      <th>790</th>\n",
              "      <td>714</td>\n",
              "      <td>Noibat</td>\n",
              "      <td>Flying</td>\n",
              "      <td>Dragon</td>\n",
              "      <td>245</td>\n",
              "      <td>40</td>\n",
              "      <td>30</td>\n",
              "      <td>35</td>\n",
              "      <td>45</td>\n",
              "      <td>40</td>\n",
              "      <td>55</td>\n",
              "      <td>6</td>\n",
              "      <td>False</td>\n",
              "    </tr>\n",
              "    <tr>\n",
              "      <th>791</th>\n",
              "      <td>715</td>\n",
              "      <td>Noivern</td>\n",
              "      <td>Flying</td>\n",
              "      <td>Dragon</td>\n",
              "      <td>535</td>\n",
              "      <td>85</td>\n",
              "      <td>70</td>\n",
              "      <td>80</td>\n",
              "      <td>97</td>\n",
              "      <td>80</td>\n",
              "      <td>123</td>\n",
              "      <td>6</td>\n",
              "      <td>False</td>\n",
              "    </tr>\n",
              "    <tr>\n",
              "      <th>792</th>\n",
              "      <td>716</td>\n",
              "      <td>Xerneas</td>\n",
              "      <td>Fairy</td>\n",
              "      <td>NaN</td>\n",
              "      <td>680</td>\n",
              "      <td>126</td>\n",
              "      <td>131</td>\n",
              "      <td>95</td>\n",
              "      <td>131</td>\n",
              "      <td>98</td>\n",
              "      <td>99</td>\n",
              "      <td>6</td>\n",
              "      <td>True</td>\n",
              "    </tr>\n",
              "    <tr>\n",
              "      <th>793</th>\n",
              "      <td>717</td>\n",
              "      <td>Yveltal</td>\n",
              "      <td>Dark</td>\n",
              "      <td>Flying</td>\n",
              "      <td>680</td>\n",
              "      <td>126</td>\n",
              "      <td>131</td>\n",
              "      <td>95</td>\n",
              "      <td>131</td>\n",
              "      <td>98</td>\n",
              "      <td>99</td>\n",
              "      <td>6</td>\n",
              "      <td>True</td>\n",
              "    </tr>\n",
              "    <tr>\n",
              "      <th>794</th>\n",
              "      <td>718</td>\n",
              "      <td>Zygarde50% Forme</td>\n",
              "      <td>Dragon</td>\n",
              "      <td>Ground</td>\n",
              "      <td>600</td>\n",
              "      <td>108</td>\n",
              "      <td>100</td>\n",
              "      <td>121</td>\n",
              "      <td>81</td>\n",
              "      <td>95</td>\n",
              "      <td>95</td>\n",
              "      <td>6</td>\n",
              "      <td>True</td>\n",
              "    </tr>\n",
              "    <tr>\n",
              "      <th>795</th>\n",
              "      <td>719</td>\n",
              "      <td>Diancie</td>\n",
              "      <td>Rock</td>\n",
              "      <td>Fairy</td>\n",
              "      <td>600</td>\n",
              "      <td>50</td>\n",
              "      <td>100</td>\n",
              "      <td>150</td>\n",
              "      <td>100</td>\n",
              "      <td>150</td>\n",
              "      <td>50</td>\n",
              "      <td>6</td>\n",
              "      <td>True</td>\n",
              "    </tr>\n",
              "    <tr>\n",
              "      <th>796</th>\n",
              "      <td>719</td>\n",
              "      <td>DiancieMega Diancie</td>\n",
              "      <td>Rock</td>\n",
              "      <td>Fairy</td>\n",
              "      <td>700</td>\n",
              "      <td>50</td>\n",
              "      <td>160</td>\n",
              "      <td>110</td>\n",
              "      <td>160</td>\n",
              "      <td>110</td>\n",
              "      <td>110</td>\n",
              "      <td>6</td>\n",
              "      <td>True</td>\n",
              "    </tr>\n",
              "    <tr>\n",
              "      <th>797</th>\n",
              "      <td>720</td>\n",
              "      <td>HoopaHoopa Confined</td>\n",
              "      <td>Psychic</td>\n",
              "      <td>Ghost</td>\n",
              "      <td>600</td>\n",
              "      <td>80</td>\n",
              "      <td>110</td>\n",
              "      <td>60</td>\n",
              "      <td>150</td>\n",
              "      <td>130</td>\n",
              "      <td>70</td>\n",
              "      <td>6</td>\n",
              "      <td>True</td>\n",
              "    </tr>\n",
              "    <tr>\n",
              "      <th>798</th>\n",
              "      <td>720</td>\n",
              "      <td>HoopaHoopa Unbound</td>\n",
              "      <td>Psychic</td>\n",
              "      <td>Dark</td>\n",
              "      <td>680</td>\n",
              "      <td>80</td>\n",
              "      <td>160</td>\n",
              "      <td>60</td>\n",
              "      <td>170</td>\n",
              "      <td>130</td>\n",
              "      <td>80</td>\n",
              "      <td>6</td>\n",
              "      <td>True</td>\n",
              "    </tr>\n",
              "    <tr>\n",
              "      <th>799</th>\n",
              "      <td>721</td>\n",
              "      <td>Volcanion</td>\n",
              "      <td>Fire</td>\n",
              "      <td>Water</td>\n",
              "      <td>600</td>\n",
              "      <td>80</td>\n",
              "      <td>110</td>\n",
              "      <td>120</td>\n",
              "      <td>130</td>\n",
              "      <td>90</td>\n",
              "      <td>70</td>\n",
              "      <td>6</td>\n",
              "      <td>True</td>\n",
              "    </tr>\n",
              "  </tbody>\n",
              "</table>\n",
              "</div>"
            ],
            "text/plain": [
              "       #                 Name   Type 1  ... Speed  Generation  Legendary\n",
              "785  711  GourgeistSmall Size    Ghost  ...    99           6      False\n",
              "786  711  GourgeistLarge Size    Ghost  ...    69           6      False\n",
              "787  711  GourgeistSuper Size    Ghost  ...    54           6      False\n",
              "788  712             Bergmite      Ice  ...    28           6      False\n",
              "789  713              Avalugg      Ice  ...    28           6      False\n",
              "790  714               Noibat   Flying  ...    55           6      False\n",
              "791  715              Noivern   Flying  ...   123           6      False\n",
              "792  716              Xerneas    Fairy  ...    99           6       True\n",
              "793  717              Yveltal     Dark  ...    99           6       True\n",
              "794  718     Zygarde50% Forme   Dragon  ...    95           6       True\n",
              "795  719              Diancie     Rock  ...    50           6       True\n",
              "796  719  DiancieMega Diancie     Rock  ...   110           6       True\n",
              "797  720  HoopaHoopa Confined  Psychic  ...    70           6       True\n",
              "798  720   HoopaHoopa Unbound  Psychic  ...    80           6       True\n",
              "799  721            Volcanion     Fire  ...    70           6       True\n",
              "\n",
              "[15 rows x 13 columns]"
            ]
          },
          "metadata": {},
          "execution_count": 49
        }
      ]
    },
    {
      "cell_type": "markdown",
      "metadata": {
        "id": "AV-Pk92RdBV9"
      },
      "source": [
        "###Kemudian menggunakan perintah `dpokemon.tail(15)` guna untuk menampilkan isi 15 data terakhir dari Pokemon.csv."
      ]
    },
    {
      "cell_type": "code",
      "metadata": {
        "colab": {
          "base_uri": "https://localhost:8080/",
          "height": 494
        },
        "id": "AoYov3D7bESi",
        "outputId": "bc9015dd-82cf-4672-d1f0-a30ece8fb7f8"
      },
      "source": [
        "dpokemon.head(15).T"
      ],
      "execution_count": 50,
      "outputs": [
        {
          "output_type": "execute_result",
          "data": {
            "text/html": [
              "<div>\n",
              "<style scoped>\n",
              "    .dataframe tbody tr th:only-of-type {\n",
              "        vertical-align: middle;\n",
              "    }\n",
              "\n",
              "    .dataframe tbody tr th {\n",
              "        vertical-align: top;\n",
              "    }\n",
              "\n",
              "    .dataframe thead th {\n",
              "        text-align: right;\n",
              "    }\n",
              "</style>\n",
              "<table border=\"1\" class=\"dataframe\">\n",
              "  <thead>\n",
              "    <tr style=\"text-align: right;\">\n",
              "      <th></th>\n",
              "      <th>0</th>\n",
              "      <th>1</th>\n",
              "      <th>2</th>\n",
              "      <th>3</th>\n",
              "      <th>4</th>\n",
              "      <th>5</th>\n",
              "      <th>6</th>\n",
              "      <th>7</th>\n",
              "      <th>8</th>\n",
              "      <th>9</th>\n",
              "      <th>10</th>\n",
              "      <th>11</th>\n",
              "      <th>12</th>\n",
              "      <th>13</th>\n",
              "      <th>14</th>\n",
              "    </tr>\n",
              "  </thead>\n",
              "  <tbody>\n",
              "    <tr>\n",
              "      <th>#</th>\n",
              "      <td>1</td>\n",
              "      <td>2</td>\n",
              "      <td>3</td>\n",
              "      <td>3</td>\n",
              "      <td>4</td>\n",
              "      <td>5</td>\n",
              "      <td>6</td>\n",
              "      <td>6</td>\n",
              "      <td>6</td>\n",
              "      <td>7</td>\n",
              "      <td>8</td>\n",
              "      <td>9</td>\n",
              "      <td>9</td>\n",
              "      <td>10</td>\n",
              "      <td>11</td>\n",
              "    </tr>\n",
              "    <tr>\n",
              "      <th>Name</th>\n",
              "      <td>Bulbasaur</td>\n",
              "      <td>Ivysaur</td>\n",
              "      <td>Venusaur</td>\n",
              "      <td>VenusaurMega Venusaur</td>\n",
              "      <td>Charmander</td>\n",
              "      <td>Charmeleon</td>\n",
              "      <td>Charizard</td>\n",
              "      <td>CharizardMega Charizard X</td>\n",
              "      <td>CharizardMega Charizard Y</td>\n",
              "      <td>Squirtle</td>\n",
              "      <td>Wartortle</td>\n",
              "      <td>Blastoise</td>\n",
              "      <td>BlastoiseMega Blastoise</td>\n",
              "      <td>Caterpie</td>\n",
              "      <td>Metapod</td>\n",
              "    </tr>\n",
              "    <tr>\n",
              "      <th>Type 1</th>\n",
              "      <td>Grass</td>\n",
              "      <td>Grass</td>\n",
              "      <td>Grass</td>\n",
              "      <td>Grass</td>\n",
              "      <td>Fire</td>\n",
              "      <td>Fire</td>\n",
              "      <td>Fire</td>\n",
              "      <td>Fire</td>\n",
              "      <td>Fire</td>\n",
              "      <td>Water</td>\n",
              "      <td>Water</td>\n",
              "      <td>Water</td>\n",
              "      <td>Water</td>\n",
              "      <td>Bug</td>\n",
              "      <td>Bug</td>\n",
              "    </tr>\n",
              "    <tr>\n",
              "      <th>Type 2</th>\n",
              "      <td>Poison</td>\n",
              "      <td>Poison</td>\n",
              "      <td>Poison</td>\n",
              "      <td>Poison</td>\n",
              "      <td>NaN</td>\n",
              "      <td>NaN</td>\n",
              "      <td>Flying</td>\n",
              "      <td>Dragon</td>\n",
              "      <td>Flying</td>\n",
              "      <td>NaN</td>\n",
              "      <td>NaN</td>\n",
              "      <td>NaN</td>\n",
              "      <td>NaN</td>\n",
              "      <td>NaN</td>\n",
              "      <td>NaN</td>\n",
              "    </tr>\n",
              "    <tr>\n",
              "      <th>Total</th>\n",
              "      <td>318</td>\n",
              "      <td>405</td>\n",
              "      <td>525</td>\n",
              "      <td>625</td>\n",
              "      <td>309</td>\n",
              "      <td>405</td>\n",
              "      <td>534</td>\n",
              "      <td>634</td>\n",
              "      <td>634</td>\n",
              "      <td>314</td>\n",
              "      <td>405</td>\n",
              "      <td>530</td>\n",
              "      <td>630</td>\n",
              "      <td>195</td>\n",
              "      <td>205</td>\n",
              "    </tr>\n",
              "    <tr>\n",
              "      <th>HP</th>\n",
              "      <td>45</td>\n",
              "      <td>60</td>\n",
              "      <td>80</td>\n",
              "      <td>80</td>\n",
              "      <td>39</td>\n",
              "      <td>58</td>\n",
              "      <td>78</td>\n",
              "      <td>78</td>\n",
              "      <td>78</td>\n",
              "      <td>44</td>\n",
              "      <td>59</td>\n",
              "      <td>79</td>\n",
              "      <td>79</td>\n",
              "      <td>45</td>\n",
              "      <td>50</td>\n",
              "    </tr>\n",
              "    <tr>\n",
              "      <th>Attack</th>\n",
              "      <td>49</td>\n",
              "      <td>62</td>\n",
              "      <td>82</td>\n",
              "      <td>100</td>\n",
              "      <td>52</td>\n",
              "      <td>64</td>\n",
              "      <td>84</td>\n",
              "      <td>130</td>\n",
              "      <td>104</td>\n",
              "      <td>48</td>\n",
              "      <td>63</td>\n",
              "      <td>83</td>\n",
              "      <td>103</td>\n",
              "      <td>30</td>\n",
              "      <td>20</td>\n",
              "    </tr>\n",
              "    <tr>\n",
              "      <th>Defense</th>\n",
              "      <td>49</td>\n",
              "      <td>63</td>\n",
              "      <td>83</td>\n",
              "      <td>123</td>\n",
              "      <td>43</td>\n",
              "      <td>58</td>\n",
              "      <td>78</td>\n",
              "      <td>111</td>\n",
              "      <td>78</td>\n",
              "      <td>65</td>\n",
              "      <td>80</td>\n",
              "      <td>100</td>\n",
              "      <td>120</td>\n",
              "      <td>35</td>\n",
              "      <td>55</td>\n",
              "    </tr>\n",
              "    <tr>\n",
              "      <th>Sp. Atk</th>\n",
              "      <td>65</td>\n",
              "      <td>80</td>\n",
              "      <td>100</td>\n",
              "      <td>122</td>\n",
              "      <td>60</td>\n",
              "      <td>80</td>\n",
              "      <td>109</td>\n",
              "      <td>130</td>\n",
              "      <td>159</td>\n",
              "      <td>50</td>\n",
              "      <td>65</td>\n",
              "      <td>85</td>\n",
              "      <td>135</td>\n",
              "      <td>20</td>\n",
              "      <td>25</td>\n",
              "    </tr>\n",
              "    <tr>\n",
              "      <th>Sp. Def</th>\n",
              "      <td>65</td>\n",
              "      <td>80</td>\n",
              "      <td>100</td>\n",
              "      <td>120</td>\n",
              "      <td>50</td>\n",
              "      <td>65</td>\n",
              "      <td>85</td>\n",
              "      <td>85</td>\n",
              "      <td>115</td>\n",
              "      <td>64</td>\n",
              "      <td>80</td>\n",
              "      <td>105</td>\n",
              "      <td>115</td>\n",
              "      <td>20</td>\n",
              "      <td>25</td>\n",
              "    </tr>\n",
              "    <tr>\n",
              "      <th>Speed</th>\n",
              "      <td>45</td>\n",
              "      <td>60</td>\n",
              "      <td>80</td>\n",
              "      <td>80</td>\n",
              "      <td>65</td>\n",
              "      <td>80</td>\n",
              "      <td>100</td>\n",
              "      <td>100</td>\n",
              "      <td>100</td>\n",
              "      <td>43</td>\n",
              "      <td>58</td>\n",
              "      <td>78</td>\n",
              "      <td>78</td>\n",
              "      <td>45</td>\n",
              "      <td>30</td>\n",
              "    </tr>\n",
              "    <tr>\n",
              "      <th>Generation</th>\n",
              "      <td>1</td>\n",
              "      <td>1</td>\n",
              "      <td>1</td>\n",
              "      <td>1</td>\n",
              "      <td>1</td>\n",
              "      <td>1</td>\n",
              "      <td>1</td>\n",
              "      <td>1</td>\n",
              "      <td>1</td>\n",
              "      <td>1</td>\n",
              "      <td>1</td>\n",
              "      <td>1</td>\n",
              "      <td>1</td>\n",
              "      <td>1</td>\n",
              "      <td>1</td>\n",
              "    </tr>\n",
              "    <tr>\n",
              "      <th>Legendary</th>\n",
              "      <td>False</td>\n",
              "      <td>False</td>\n",
              "      <td>False</td>\n",
              "      <td>False</td>\n",
              "      <td>False</td>\n",
              "      <td>False</td>\n",
              "      <td>False</td>\n",
              "      <td>False</td>\n",
              "      <td>False</td>\n",
              "      <td>False</td>\n",
              "      <td>False</td>\n",
              "      <td>False</td>\n",
              "      <td>False</td>\n",
              "      <td>False</td>\n",
              "      <td>False</td>\n",
              "    </tr>\n",
              "  </tbody>\n",
              "</table>\n",
              "</div>"
            ],
            "text/plain": [
              "                   0        1   ...        13       14\n",
              "#                   1        2  ...        10       11\n",
              "Name        Bulbasaur  Ivysaur  ...  Caterpie  Metapod\n",
              "Type 1          Grass    Grass  ...       Bug      Bug\n",
              "Type 2         Poison   Poison  ...       NaN      NaN\n",
              "Total             318      405  ...       195      205\n",
              "HP                 45       60  ...        45       50\n",
              "Attack             49       62  ...        30       20\n",
              "Defense            49       63  ...        35       55\n",
              "Sp. Atk            65       80  ...        20       25\n",
              "Sp. Def            65       80  ...        20       25\n",
              "Speed              45       60  ...        45       30\n",
              "Generation          1        1  ...         1        1\n",
              "Legendary       False    False  ...     False    False\n",
              "\n",
              "[13 rows x 15 columns]"
            ]
          },
          "metadata": {},
          "execution_count": 50
        }
      ]
    },
    {
      "cell_type": "markdown",
      "metadata": {
        "id": "BvVS1QrIdZd7"
      },
      "source": [
        "###Adapun tambahan untuk menampilkan isi data, dengan perintah `dpokemon.head(15).T` Keterangan T atau Transpose memiliki fungsi untuk merubah baris menjadi kolom atau kolom menjadi baris."
      ]
    },
    {
      "cell_type": "markdown",
      "metadata": {
        "id": "PwtfVVzI1Tky"
      },
      "source": [
        "###Sebelum masuk ke data cleaning, hal yang perlu dilakukan adalah melakukan analisis nilai-nilai apa saja yang tersedia pada table pokemon, seperti nilai total, minimal, tengah, maksimum dan lain-lain, dengan menggunakan perintah `.describe()`"
      ]
    },
    {
      "cell_type": "code",
      "metadata": {
        "id": "-3HKhSQ0hFLM",
        "colab": {
          "base_uri": "https://localhost:8080/",
          "height": 300
        },
        "outputId": "c27b40f6-0fb7-4b3d-d9de-4424a0227532"
      },
      "source": [
        "dpokemon.describe()"
      ],
      "execution_count": 51,
      "outputs": [
        {
          "output_type": "execute_result",
          "data": {
            "text/html": [
              "<div>\n",
              "<style scoped>\n",
              "    .dataframe tbody tr th:only-of-type {\n",
              "        vertical-align: middle;\n",
              "    }\n",
              "\n",
              "    .dataframe tbody tr th {\n",
              "        vertical-align: top;\n",
              "    }\n",
              "\n",
              "    .dataframe thead th {\n",
              "        text-align: right;\n",
              "    }\n",
              "</style>\n",
              "<table border=\"1\" class=\"dataframe\">\n",
              "  <thead>\n",
              "    <tr style=\"text-align: right;\">\n",
              "      <th></th>\n",
              "      <th>#</th>\n",
              "      <th>Total</th>\n",
              "      <th>HP</th>\n",
              "      <th>Attack</th>\n",
              "      <th>Defense</th>\n",
              "      <th>Sp. Atk</th>\n",
              "      <th>Sp. Def</th>\n",
              "      <th>Speed</th>\n",
              "      <th>Generation</th>\n",
              "    </tr>\n",
              "  </thead>\n",
              "  <tbody>\n",
              "    <tr>\n",
              "      <th>count</th>\n",
              "      <td>800.000000</td>\n",
              "      <td>800.00000</td>\n",
              "      <td>800.000000</td>\n",
              "      <td>800.000000</td>\n",
              "      <td>800.000000</td>\n",
              "      <td>800.000000</td>\n",
              "      <td>800.000000</td>\n",
              "      <td>800.000000</td>\n",
              "      <td>800.00000</td>\n",
              "    </tr>\n",
              "    <tr>\n",
              "      <th>mean</th>\n",
              "      <td>362.813750</td>\n",
              "      <td>435.10250</td>\n",
              "      <td>69.258750</td>\n",
              "      <td>79.001250</td>\n",
              "      <td>73.842500</td>\n",
              "      <td>72.820000</td>\n",
              "      <td>71.902500</td>\n",
              "      <td>68.277500</td>\n",
              "      <td>3.32375</td>\n",
              "    </tr>\n",
              "    <tr>\n",
              "      <th>std</th>\n",
              "      <td>208.343798</td>\n",
              "      <td>119.96304</td>\n",
              "      <td>25.534669</td>\n",
              "      <td>32.457366</td>\n",
              "      <td>31.183501</td>\n",
              "      <td>32.722294</td>\n",
              "      <td>27.828916</td>\n",
              "      <td>29.060474</td>\n",
              "      <td>1.66129</td>\n",
              "    </tr>\n",
              "    <tr>\n",
              "      <th>min</th>\n",
              "      <td>1.000000</td>\n",
              "      <td>180.00000</td>\n",
              "      <td>1.000000</td>\n",
              "      <td>5.000000</td>\n",
              "      <td>5.000000</td>\n",
              "      <td>10.000000</td>\n",
              "      <td>20.000000</td>\n",
              "      <td>5.000000</td>\n",
              "      <td>1.00000</td>\n",
              "    </tr>\n",
              "    <tr>\n",
              "      <th>25%</th>\n",
              "      <td>184.750000</td>\n",
              "      <td>330.00000</td>\n",
              "      <td>50.000000</td>\n",
              "      <td>55.000000</td>\n",
              "      <td>50.000000</td>\n",
              "      <td>49.750000</td>\n",
              "      <td>50.000000</td>\n",
              "      <td>45.000000</td>\n",
              "      <td>2.00000</td>\n",
              "    </tr>\n",
              "    <tr>\n",
              "      <th>50%</th>\n",
              "      <td>364.500000</td>\n",
              "      <td>450.00000</td>\n",
              "      <td>65.000000</td>\n",
              "      <td>75.000000</td>\n",
              "      <td>70.000000</td>\n",
              "      <td>65.000000</td>\n",
              "      <td>70.000000</td>\n",
              "      <td>65.000000</td>\n",
              "      <td>3.00000</td>\n",
              "    </tr>\n",
              "    <tr>\n",
              "      <th>75%</th>\n",
              "      <td>539.250000</td>\n",
              "      <td>515.00000</td>\n",
              "      <td>80.000000</td>\n",
              "      <td>100.000000</td>\n",
              "      <td>90.000000</td>\n",
              "      <td>95.000000</td>\n",
              "      <td>90.000000</td>\n",
              "      <td>90.000000</td>\n",
              "      <td>5.00000</td>\n",
              "    </tr>\n",
              "    <tr>\n",
              "      <th>max</th>\n",
              "      <td>721.000000</td>\n",
              "      <td>780.00000</td>\n",
              "      <td>255.000000</td>\n",
              "      <td>190.000000</td>\n",
              "      <td>230.000000</td>\n",
              "      <td>194.000000</td>\n",
              "      <td>230.000000</td>\n",
              "      <td>180.000000</td>\n",
              "      <td>6.00000</td>\n",
              "    </tr>\n",
              "  </tbody>\n",
              "</table>\n",
              "</div>"
            ],
            "text/plain": [
              "                #      Total          HP  ...     Sp. Def       Speed  Generation\n",
              "count  800.000000  800.00000  800.000000  ...  800.000000  800.000000   800.00000\n",
              "mean   362.813750  435.10250   69.258750  ...   71.902500   68.277500     3.32375\n",
              "std    208.343798  119.96304   25.534669  ...   27.828916   29.060474     1.66129\n",
              "min      1.000000  180.00000    1.000000  ...   20.000000    5.000000     1.00000\n",
              "25%    184.750000  330.00000   50.000000  ...   50.000000   45.000000     2.00000\n",
              "50%    364.500000  450.00000   65.000000  ...   70.000000   65.000000     3.00000\n",
              "75%    539.250000  515.00000   80.000000  ...   90.000000   90.000000     5.00000\n",
              "max    721.000000  780.00000  255.000000  ...  230.000000  180.000000     6.00000\n",
              "\n",
              "[8 rows x 9 columns]"
            ]
          },
          "metadata": {},
          "execution_count": 51
        }
      ]
    },
    {
      "cell_type": "markdown",
      "metadata": {
        "id": "2sDWRlbEd88V"
      },
      "source": [
        "##**STEP 4 : Data Cleaning**\n",
        "###Bagian ini berisi proses penyiapan data berupa data cleaning sebelum dilakukan explorasi data lebih lanjut. Proses cleaning dapat berupa memberi nama baru untuk setiap kolom, mengisi missing values, menghapus kolom yang tidak dipakai, dan lain sebagainya.\n"
      ]
    },
    {
      "cell_type": "markdown",
      "metadata": {
        "id": "8SvZIIwY2DyJ"
      },
      "source": [
        "###Hal pertama yang ingin saya lakukan di proses cleaning data adalah mengecek apakah ada missing values pada data pokemon."
      ]
    },
    {
      "cell_type": "code",
      "metadata": {
        "id": "94nxBsmPezZh",
        "colab": {
          "base_uri": "https://localhost:8080/"
        },
        "outputId": "c7757180-a7cd-472a-8dbd-d9dd422788ac"
      },
      "source": [
        "dpokemon.info()"
      ],
      "execution_count": 52,
      "outputs": [
        {
          "output_type": "stream",
          "name": "stdout",
          "text": [
            "<class 'pandas.core.frame.DataFrame'>\n",
            "RangeIndex: 800 entries, 0 to 799\n",
            "Data columns (total 13 columns):\n",
            " #   Column      Non-Null Count  Dtype \n",
            "---  ------      --------------  ----- \n",
            " 0   #           800 non-null    int64 \n",
            " 1   Name        800 non-null    object\n",
            " 2   Type 1      800 non-null    object\n",
            " 3   Type 2      414 non-null    object\n",
            " 4   Total       800 non-null    int64 \n",
            " 5   HP          800 non-null    int64 \n",
            " 6   Attack      800 non-null    int64 \n",
            " 7   Defense     800 non-null    int64 \n",
            " 8   Sp. Atk     800 non-null    int64 \n",
            " 9   Sp. Def     800 non-null    int64 \n",
            " 10  Speed       800 non-null    int64 \n",
            " 11  Generation  800 non-null    int64 \n",
            " 12  Legendary   800 non-null    bool  \n",
            "dtypes: bool(1), int64(9), object(3)\n",
            "memory usage: 75.9+ KB\n"
          ]
        }
      ]
    },
    {
      "cell_type": "markdown",
      "metadata": {
        "id": "zGlgCDfz2Uhj"
      },
      "source": [
        "###Dengan menggunakan perintah `.info` akan membuka informasi mengenai isi data pada tiap-tiap kolom, pada `RangeIndex:` diberikan keterangan jika data berisi 800 entries, kemudian pada informasi `Non-Null Count` terdapat data yang hanya berisi 414 non-null, ini yang dimaksud jika ada data yang missing values pada suatu kolom, dalam kasus data pokemon, kolom **Type 2** mengandung missing values."
      ]
    },
    {
      "cell_type": "markdown",
      "metadata": {
        "id": "rckPGwjg3T1H"
      },
      "source": [
        "##**Tambahan :**\n",
        "###Berikut saya akan membreakdown analisis dpokemon.info()"
      ]
    },
    {
      "cell_type": "markdown",
      "metadata": {
        "id": "VjTGULKE3qCH"
      },
      "source": [
        "###`.dtypes` untuk mengetahui jenis tipe data pada tiap kolom."
      ]
    },
    {
      "cell_type": "code",
      "metadata": {
        "id": "-WGkhRZJhQDn",
        "colab": {
          "base_uri": "https://localhost:8080/"
        },
        "outputId": "129a5565-a6e6-4c8c-cb8c-0726e5695099"
      },
      "source": [
        "dpokemon.dtypes"
      ],
      "execution_count": 53,
      "outputs": [
        {
          "output_type": "execute_result",
          "data": {
            "text/plain": [
              "#              int64\n",
              "Name          object\n",
              "Type 1        object\n",
              "Type 2        object\n",
              "Total          int64\n",
              "HP             int64\n",
              "Attack         int64\n",
              "Defense        int64\n",
              "Sp. Atk        int64\n",
              "Sp. Def        int64\n",
              "Speed          int64\n",
              "Generation     int64\n",
              "Legendary       bool\n",
              "dtype: object"
            ]
          },
          "metadata": {},
          "execution_count": 53
        }
      ]
    },
    {
      "cell_type": "markdown",
      "metadata": {
        "id": "36yL402p31MO"
      },
      "source": [
        "###`.index` outputnya RangeIndex, untuk mengetahui jika data dimulai dari 0 dan berakhir di 800."
      ]
    },
    {
      "cell_type": "code",
      "metadata": {
        "id": "mNKD1rRNhYFN",
        "colab": {
          "base_uri": "https://localhost:8080/"
        },
        "outputId": "bf177a2e-d8e9-4a4f-d8ec-b1c8d730bf63"
      },
      "source": [
        "dpokemon.index"
      ],
      "execution_count": 54,
      "outputs": [
        {
          "output_type": "execute_result",
          "data": {
            "text/plain": [
              "RangeIndex(start=0, stop=800, step=1)"
            ]
          },
          "metadata": {},
          "execution_count": 54
        }
      ]
    },
    {
      "cell_type": "markdown",
      "metadata": {
        "id": "9Jto3eSC4L8n"
      },
      "source": [
        "###`len()` mengetahui total data pada tiap kolom."
      ]
    },
    {
      "cell_type": "code",
      "metadata": {
        "id": "V_K7jXwthazQ",
        "colab": {
          "base_uri": "https://localhost:8080/"
        },
        "outputId": "142351fe-4cc9-4131-f997-539239498a11"
      },
      "source": [
        "len(dpokemon)"
      ],
      "execution_count": 55,
      "outputs": [
        {
          "output_type": "execute_result",
          "data": {
            "text/plain": [
              "800"
            ]
          },
          "metadata": {},
          "execution_count": 55
        }
      ]
    },
    {
      "cell_type": "markdown",
      "metadata": {
        "id": "g1fXjzsA4hta"
      },
      "source": [
        "###`.shape`, memberikan keterangan terdapat 800 baris data dan 13 kolom data."
      ]
    },
    {
      "cell_type": "code",
      "metadata": {
        "id": "tvUb9gsahdeI",
        "colab": {
          "base_uri": "https://localhost:8080/"
        },
        "outputId": "b7a89085-fd54-400b-e3c7-bf85f17b72a5"
      },
      "source": [
        "dpokemon.shape"
      ],
      "execution_count": 56,
      "outputs": [
        {
          "output_type": "execute_result",
          "data": {
            "text/plain": [
              "(800, 13)"
            ]
          },
          "metadata": {},
          "execution_count": 56
        }
      ]
    },
    {
      "cell_type": "markdown",
      "metadata": {
        "id": "zqlJTy_g4uCX"
      },
      "source": [
        "###`.columns` menampilkan nama tiap kolom pada data dpokemon."
      ]
    },
    {
      "cell_type": "code",
      "metadata": {
        "id": "AH3NRYjThfZW",
        "colab": {
          "base_uri": "https://localhost:8080/"
        },
        "outputId": "587154d5-2f5f-4937-9d1d-fa2bde8cc14f"
      },
      "source": [
        "dpokemon.columns"
      ],
      "execution_count": 57,
      "outputs": [
        {
          "output_type": "execute_result",
          "data": {
            "text/plain": [
              "Index(['#', 'Name', 'Type 1', 'Type 2', 'Total', 'HP', 'Attack', 'Defense',\n",
              "       'Sp. Atk', 'Sp. Def', 'Speed', 'Generation', 'Legendary'],\n",
              "      dtype='object')"
            ]
          },
          "metadata": {},
          "execution_count": 57
        }
      ]
    },
    {
      "cell_type": "markdown",
      "metadata": {
        "id": "gR2Jdvwm46M1"
      },
      "source": [
        "###Kembali ke step mengatasi missing values pada data dpokemon, hal yang pertama perlu dilakukan dan diperhatikan adalah membuat copy data untuk menjaga orisinil dari data dpokemon dengan membuat inisiasi baru, disini perintah yang saya gunakan adalah `data = dpokemon.copy()` untuk mengcopy."
      ]
    },
    {
      "cell_type": "code",
      "metadata": {
        "id": "ICxWLHOChkJd"
      },
      "source": [
        "data = dpokemon.copy()"
      ],
      "execution_count": 58,
      "outputs": []
    },
    {
      "cell_type": "markdown",
      "metadata": {
        "id": "MAad3pQc5rnM"
      },
      "source": [
        "###Setelah berhasil mengcopy tinggal jalankan perintah dibawah ini."
      ]
    },
    {
      "cell_type": "code",
      "metadata": {
        "id": "Bz2GdV_vhnKS"
      },
      "source": [
        "data[\"Type 2\"].fillna(\n",
        "    value=\"Not yet evolving\",\n",
        "    inplace=True\n",
        ")"
      ],
      "execution_count": 59,
      "outputs": []
    },
    {
      "cell_type": "markdown",
      "metadata": {
        "id": "W1qNjW1L5zqf"
      },
      "source": [
        "###Maksud dari kode diatas adalah, pertama saya menselect kolom yang memiliki missing values yaitu kolom `\"Type 2\"` kemudian dengan perintah `.fillna`, akan otomatis mengisi data yang `NaN`, value yang saya input adalah `\"Not yet evolving\"` karena saya berasumsi jika `Type 2` itu merupakan evolusi dari `Type 1`, dan data `NaN` pada `Type 2` adalah pokemon yang belum berevolusi."
      ]
    },
    {
      "cell_type": "markdown",
      "metadata": {
        "id": "U46k4C476vLT"
      },
      "source": [
        "###Kemudian cek kembali dengan menggunakan perintah `.info()`"
      ]
    },
    {
      "cell_type": "code",
      "metadata": {
        "id": "nXOXtq_XhtiQ",
        "colab": {
          "base_uri": "https://localhost:8080/"
        },
        "outputId": "5fab1383-7542-4e18-f486-ba291bb2a1c8"
      },
      "source": [
        "data.info()"
      ],
      "execution_count": 60,
      "outputs": [
        {
          "output_type": "stream",
          "name": "stdout",
          "text": [
            "<class 'pandas.core.frame.DataFrame'>\n",
            "RangeIndex: 800 entries, 0 to 799\n",
            "Data columns (total 13 columns):\n",
            " #   Column      Non-Null Count  Dtype \n",
            "---  ------      --------------  ----- \n",
            " 0   #           800 non-null    int64 \n",
            " 1   Name        800 non-null    object\n",
            " 2   Type 1      800 non-null    object\n",
            " 3   Type 2      800 non-null    object\n",
            " 4   Total       800 non-null    int64 \n",
            " 5   HP          800 non-null    int64 \n",
            " 6   Attack      800 non-null    int64 \n",
            " 7   Defense     800 non-null    int64 \n",
            " 8   Sp. Atk     800 non-null    int64 \n",
            " 9   Sp. Def     800 non-null    int64 \n",
            " 10  Speed       800 non-null    int64 \n",
            " 11  Generation  800 non-null    int64 \n",
            " 12  Legendary   800 non-null    bool  \n",
            "dtypes: bool(1), int64(9), object(3)\n",
            "memory usage: 75.9+ KB\n"
          ]
        }
      ]
    },
    {
      "cell_type": "markdown",
      "metadata": {
        "id": "VePdhiZc6_zF"
      },
      "source": [
        "###Bisa dilihat informasi Non-Null Count pada kolom Type 2 sudah terisi 800 entries. ini menandakan jika pada data pokemon sudah tidak ada missing values pada tiap kolom."
      ]
    },
    {
      "cell_type": "markdown",
      "metadata": {
        "id": "-PnpLXRV7Zci"
      },
      "source": [
        "###Untuk cek isi data pada kolom Type 2 bisa menggunakan perintah dibawah ini."
      ]
    },
    {
      "cell_type": "code",
      "metadata": {
        "id": "WnMafjZWh0mH",
        "colab": {
          "base_uri": "https://localhost:8080/"
        },
        "outputId": "015b9910-099d-4944-e92b-bb3f59744e1d"
      },
      "source": [
        "data.head(15)['Type 2']"
      ],
      "execution_count": 61,
      "outputs": [
        {
          "output_type": "execute_result",
          "data": {
            "text/plain": [
              "0               Poison\n",
              "1               Poison\n",
              "2               Poison\n",
              "3               Poison\n",
              "4     Not yet evolving\n",
              "5     Not yet evolving\n",
              "6               Flying\n",
              "7               Dragon\n",
              "8               Flying\n",
              "9     Not yet evolving\n",
              "10    Not yet evolving\n",
              "11    Not yet evolving\n",
              "12    Not yet evolving\n",
              "13    Not yet evolving\n",
              "14    Not yet evolving\n",
              "Name: Type 2, dtype: object"
            ]
          },
          "metadata": {},
          "execution_count": 61
        }
      ]
    },
    {
      "cell_type": "code",
      "metadata": {
        "id": "2KcONwXEh4eq",
        "colab": {
          "base_uri": "https://localhost:8080/"
        },
        "outputId": "ab633854-4b44-4bf4-b753-ec28399df4ee"
      },
      "source": [
        "data['Type 2'][0:15]"
      ],
      "execution_count": 62,
      "outputs": [
        {
          "output_type": "execute_result",
          "data": {
            "text/plain": [
              "0               Poison\n",
              "1               Poison\n",
              "2               Poison\n",
              "3               Poison\n",
              "4     Not yet evolving\n",
              "5     Not yet evolving\n",
              "6               Flying\n",
              "7               Dragon\n",
              "8               Flying\n",
              "9     Not yet evolving\n",
              "10    Not yet evolving\n",
              "11    Not yet evolving\n",
              "12    Not yet evolving\n",
              "13    Not yet evolving\n",
              "14    Not yet evolving\n",
              "Name: Type 2, dtype: object"
            ]
          },
          "metadata": {},
          "execution_count": 62
        }
      ]
    },
    {
      "cell_type": "markdown",
      "metadata": {
        "id": "Qun53QLk7mnk"
      },
      "source": [
        "###Untuk memastikan jika sudah tidak ada missing values, jalankan perintah .isna() atau bisa juga isna().sum(), jika outputnya false atau 0, berarti dapat dipastikan jika sudah tidak ada missing values."
      ]
    },
    {
      "cell_type": "code",
      "metadata": {
        "id": "jRzRmhg2h4bp",
        "colab": {
          "base_uri": "https://localhost:8080/",
          "height": 520
        },
        "outputId": "0f2d65f3-9946-4fd7-b4ed-474ab7f22e24"
      },
      "source": [
        "data.head(15).isna()"
      ],
      "execution_count": 63,
      "outputs": [
        {
          "output_type": "execute_result",
          "data": {
            "text/html": [
              "<div>\n",
              "<style scoped>\n",
              "    .dataframe tbody tr th:only-of-type {\n",
              "        vertical-align: middle;\n",
              "    }\n",
              "\n",
              "    .dataframe tbody tr th {\n",
              "        vertical-align: top;\n",
              "    }\n",
              "\n",
              "    .dataframe thead th {\n",
              "        text-align: right;\n",
              "    }\n",
              "</style>\n",
              "<table border=\"1\" class=\"dataframe\">\n",
              "  <thead>\n",
              "    <tr style=\"text-align: right;\">\n",
              "      <th></th>\n",
              "      <th>#</th>\n",
              "      <th>Name</th>\n",
              "      <th>Type 1</th>\n",
              "      <th>Type 2</th>\n",
              "      <th>Total</th>\n",
              "      <th>HP</th>\n",
              "      <th>Attack</th>\n",
              "      <th>Defense</th>\n",
              "      <th>Sp. Atk</th>\n",
              "      <th>Sp. Def</th>\n",
              "      <th>Speed</th>\n",
              "      <th>Generation</th>\n",
              "      <th>Legendary</th>\n",
              "    </tr>\n",
              "  </thead>\n",
              "  <tbody>\n",
              "    <tr>\n",
              "      <th>0</th>\n",
              "      <td>False</td>\n",
              "      <td>False</td>\n",
              "      <td>False</td>\n",
              "      <td>False</td>\n",
              "      <td>False</td>\n",
              "      <td>False</td>\n",
              "      <td>False</td>\n",
              "      <td>False</td>\n",
              "      <td>False</td>\n",
              "      <td>False</td>\n",
              "      <td>False</td>\n",
              "      <td>False</td>\n",
              "      <td>False</td>\n",
              "    </tr>\n",
              "    <tr>\n",
              "      <th>1</th>\n",
              "      <td>False</td>\n",
              "      <td>False</td>\n",
              "      <td>False</td>\n",
              "      <td>False</td>\n",
              "      <td>False</td>\n",
              "      <td>False</td>\n",
              "      <td>False</td>\n",
              "      <td>False</td>\n",
              "      <td>False</td>\n",
              "      <td>False</td>\n",
              "      <td>False</td>\n",
              "      <td>False</td>\n",
              "      <td>False</td>\n",
              "    </tr>\n",
              "    <tr>\n",
              "      <th>2</th>\n",
              "      <td>False</td>\n",
              "      <td>False</td>\n",
              "      <td>False</td>\n",
              "      <td>False</td>\n",
              "      <td>False</td>\n",
              "      <td>False</td>\n",
              "      <td>False</td>\n",
              "      <td>False</td>\n",
              "      <td>False</td>\n",
              "      <td>False</td>\n",
              "      <td>False</td>\n",
              "      <td>False</td>\n",
              "      <td>False</td>\n",
              "    </tr>\n",
              "    <tr>\n",
              "      <th>3</th>\n",
              "      <td>False</td>\n",
              "      <td>False</td>\n",
              "      <td>False</td>\n",
              "      <td>False</td>\n",
              "      <td>False</td>\n",
              "      <td>False</td>\n",
              "      <td>False</td>\n",
              "      <td>False</td>\n",
              "      <td>False</td>\n",
              "      <td>False</td>\n",
              "      <td>False</td>\n",
              "      <td>False</td>\n",
              "      <td>False</td>\n",
              "    </tr>\n",
              "    <tr>\n",
              "      <th>4</th>\n",
              "      <td>False</td>\n",
              "      <td>False</td>\n",
              "      <td>False</td>\n",
              "      <td>False</td>\n",
              "      <td>False</td>\n",
              "      <td>False</td>\n",
              "      <td>False</td>\n",
              "      <td>False</td>\n",
              "      <td>False</td>\n",
              "      <td>False</td>\n",
              "      <td>False</td>\n",
              "      <td>False</td>\n",
              "      <td>False</td>\n",
              "    </tr>\n",
              "    <tr>\n",
              "      <th>5</th>\n",
              "      <td>False</td>\n",
              "      <td>False</td>\n",
              "      <td>False</td>\n",
              "      <td>False</td>\n",
              "      <td>False</td>\n",
              "      <td>False</td>\n",
              "      <td>False</td>\n",
              "      <td>False</td>\n",
              "      <td>False</td>\n",
              "      <td>False</td>\n",
              "      <td>False</td>\n",
              "      <td>False</td>\n",
              "      <td>False</td>\n",
              "    </tr>\n",
              "    <tr>\n",
              "      <th>6</th>\n",
              "      <td>False</td>\n",
              "      <td>False</td>\n",
              "      <td>False</td>\n",
              "      <td>False</td>\n",
              "      <td>False</td>\n",
              "      <td>False</td>\n",
              "      <td>False</td>\n",
              "      <td>False</td>\n",
              "      <td>False</td>\n",
              "      <td>False</td>\n",
              "      <td>False</td>\n",
              "      <td>False</td>\n",
              "      <td>False</td>\n",
              "    </tr>\n",
              "    <tr>\n",
              "      <th>7</th>\n",
              "      <td>False</td>\n",
              "      <td>False</td>\n",
              "      <td>False</td>\n",
              "      <td>False</td>\n",
              "      <td>False</td>\n",
              "      <td>False</td>\n",
              "      <td>False</td>\n",
              "      <td>False</td>\n",
              "      <td>False</td>\n",
              "      <td>False</td>\n",
              "      <td>False</td>\n",
              "      <td>False</td>\n",
              "      <td>False</td>\n",
              "    </tr>\n",
              "    <tr>\n",
              "      <th>8</th>\n",
              "      <td>False</td>\n",
              "      <td>False</td>\n",
              "      <td>False</td>\n",
              "      <td>False</td>\n",
              "      <td>False</td>\n",
              "      <td>False</td>\n",
              "      <td>False</td>\n",
              "      <td>False</td>\n",
              "      <td>False</td>\n",
              "      <td>False</td>\n",
              "      <td>False</td>\n",
              "      <td>False</td>\n",
              "      <td>False</td>\n",
              "    </tr>\n",
              "    <tr>\n",
              "      <th>9</th>\n",
              "      <td>False</td>\n",
              "      <td>False</td>\n",
              "      <td>False</td>\n",
              "      <td>False</td>\n",
              "      <td>False</td>\n",
              "      <td>False</td>\n",
              "      <td>False</td>\n",
              "      <td>False</td>\n",
              "      <td>False</td>\n",
              "      <td>False</td>\n",
              "      <td>False</td>\n",
              "      <td>False</td>\n",
              "      <td>False</td>\n",
              "    </tr>\n",
              "    <tr>\n",
              "      <th>10</th>\n",
              "      <td>False</td>\n",
              "      <td>False</td>\n",
              "      <td>False</td>\n",
              "      <td>False</td>\n",
              "      <td>False</td>\n",
              "      <td>False</td>\n",
              "      <td>False</td>\n",
              "      <td>False</td>\n",
              "      <td>False</td>\n",
              "      <td>False</td>\n",
              "      <td>False</td>\n",
              "      <td>False</td>\n",
              "      <td>False</td>\n",
              "    </tr>\n",
              "    <tr>\n",
              "      <th>11</th>\n",
              "      <td>False</td>\n",
              "      <td>False</td>\n",
              "      <td>False</td>\n",
              "      <td>False</td>\n",
              "      <td>False</td>\n",
              "      <td>False</td>\n",
              "      <td>False</td>\n",
              "      <td>False</td>\n",
              "      <td>False</td>\n",
              "      <td>False</td>\n",
              "      <td>False</td>\n",
              "      <td>False</td>\n",
              "      <td>False</td>\n",
              "    </tr>\n",
              "    <tr>\n",
              "      <th>12</th>\n",
              "      <td>False</td>\n",
              "      <td>False</td>\n",
              "      <td>False</td>\n",
              "      <td>False</td>\n",
              "      <td>False</td>\n",
              "      <td>False</td>\n",
              "      <td>False</td>\n",
              "      <td>False</td>\n",
              "      <td>False</td>\n",
              "      <td>False</td>\n",
              "      <td>False</td>\n",
              "      <td>False</td>\n",
              "      <td>False</td>\n",
              "    </tr>\n",
              "    <tr>\n",
              "      <th>13</th>\n",
              "      <td>False</td>\n",
              "      <td>False</td>\n",
              "      <td>False</td>\n",
              "      <td>False</td>\n",
              "      <td>False</td>\n",
              "      <td>False</td>\n",
              "      <td>False</td>\n",
              "      <td>False</td>\n",
              "      <td>False</td>\n",
              "      <td>False</td>\n",
              "      <td>False</td>\n",
              "      <td>False</td>\n",
              "      <td>False</td>\n",
              "    </tr>\n",
              "    <tr>\n",
              "      <th>14</th>\n",
              "      <td>False</td>\n",
              "      <td>False</td>\n",
              "      <td>False</td>\n",
              "      <td>False</td>\n",
              "      <td>False</td>\n",
              "      <td>False</td>\n",
              "      <td>False</td>\n",
              "      <td>False</td>\n",
              "      <td>False</td>\n",
              "      <td>False</td>\n",
              "      <td>False</td>\n",
              "      <td>False</td>\n",
              "      <td>False</td>\n",
              "    </tr>\n",
              "  </tbody>\n",
              "</table>\n",
              "</div>"
            ],
            "text/plain": [
              "        #   Name  Type 1  Type 2  ...  Sp. Def  Speed  Generation  Legendary\n",
              "0   False  False   False   False  ...    False  False       False      False\n",
              "1   False  False   False   False  ...    False  False       False      False\n",
              "2   False  False   False   False  ...    False  False       False      False\n",
              "3   False  False   False   False  ...    False  False       False      False\n",
              "4   False  False   False   False  ...    False  False       False      False\n",
              "5   False  False   False   False  ...    False  False       False      False\n",
              "6   False  False   False   False  ...    False  False       False      False\n",
              "7   False  False   False   False  ...    False  False       False      False\n",
              "8   False  False   False   False  ...    False  False       False      False\n",
              "9   False  False   False   False  ...    False  False       False      False\n",
              "10  False  False   False   False  ...    False  False       False      False\n",
              "11  False  False   False   False  ...    False  False       False      False\n",
              "12  False  False   False   False  ...    False  False       False      False\n",
              "13  False  False   False   False  ...    False  False       False      False\n",
              "14  False  False   False   False  ...    False  False       False      False\n",
              "\n",
              "[15 rows x 13 columns]"
            ]
          },
          "metadata": {},
          "execution_count": 63
        }
      ]
    },
    {
      "cell_type": "code",
      "metadata": {
        "id": "jBpjiE_SiHxW",
        "colab": {
          "base_uri": "https://localhost:8080/"
        },
        "outputId": "503d098c-4e4b-4e35-9302-32f795dea2ab"
      },
      "source": [
        "data.isna().sum()"
      ],
      "execution_count": 64,
      "outputs": [
        {
          "output_type": "execute_result",
          "data": {
            "text/plain": [
              "#             0\n",
              "Name          0\n",
              "Type 1        0\n",
              "Type 2        0\n",
              "Total         0\n",
              "HP            0\n",
              "Attack        0\n",
              "Defense       0\n",
              "Sp. Atk       0\n",
              "Sp. Def       0\n",
              "Speed         0\n",
              "Generation    0\n",
              "Legendary     0\n",
              "dtype: int64"
            ]
          },
          "metadata": {},
          "execution_count": 64
        }
      ]
    },
    {
      "cell_type": "markdown",
      "metadata": {
        "id": "8j6Oac2-8SkZ"
      },
      "source": [
        "**(Assignment Rubrics)**\n",
        "\n",
        "###Disini saya ingin mengubah nama pada kolom `\"Sp. Atk\"` menjadi `\"Ultimate\"` dan kolom `\"Sp. Def\"` menjadi `\"Penetration\"` dengan perintah dibawah ini."
      ]
    },
    {
      "cell_type": "code",
      "metadata": {
        "id": "dzxE8tFSiZKA"
      },
      "source": [
        "data = data.rename(\n",
        "    columns={\"Sp. Atk\": \"Ultimate\", \"Sp. Def\": \"Penetration\"}\n",
        ")"
      ],
      "execution_count": 65,
      "outputs": []
    },
    {
      "cell_type": "markdown",
      "metadata": {
        "id": "1_4L10q28Uy_"
      },
      "source": [
        "**(Assignment Rubrics)**\n",
        "\n",
        "###Kemudian saya juga ingin menghapus kolom \"Legendary\" dengan menggunakan perintah dibawah ini."
      ]
    },
    {
      "cell_type": "code",
      "metadata": {
        "id": "JZbepKxCifWg"
      },
      "source": [
        "del data['Legendary']"
      ],
      "execution_count": 66,
      "outputs": []
    },
    {
      "cell_type": "markdown",
      "metadata": {
        "id": "RjOv8KJQ9eZK"
      },
      "source": [
        "###Cek lagi, apakah nama kolom sudah diganti dan kolom yang dihapus sudah terhapus."
      ]
    },
    {
      "cell_type": "code",
      "metadata": {
        "id": "mLUO4Q1IiaSE",
        "colab": {
          "base_uri": "https://localhost:8080/"
        },
        "outputId": "4e45ff20-24be-4977-c088-576f67c4ec32"
      },
      "source": [
        "data.columns"
      ],
      "execution_count": 67,
      "outputs": [
        {
          "output_type": "execute_result",
          "data": {
            "text/plain": [
              "Index(['#', 'Name', 'Type 1', 'Type 2', 'Total', 'HP', 'Attack', 'Defense',\n",
              "       'Ultimate', 'Penetration', 'Speed', 'Generation'],\n",
              "      dtype='object')"
            ]
          },
          "metadata": {},
          "execution_count": 67
        }
      ]
    },
    {
      "cell_type": "code",
      "metadata": {
        "id": "pPxcWn6wi-Lo",
        "colab": {
          "base_uri": "https://localhost:8080/",
          "height": 363
        },
        "outputId": "3c077919-7755-4454-d2aa-876d55ad5c43"
      },
      "source": [
        "data.head(10)"
      ],
      "execution_count": 68,
      "outputs": [
        {
          "output_type": "execute_result",
          "data": {
            "text/html": [
              "<div>\n",
              "<style scoped>\n",
              "    .dataframe tbody tr th:only-of-type {\n",
              "        vertical-align: middle;\n",
              "    }\n",
              "\n",
              "    .dataframe tbody tr th {\n",
              "        vertical-align: top;\n",
              "    }\n",
              "\n",
              "    .dataframe thead th {\n",
              "        text-align: right;\n",
              "    }\n",
              "</style>\n",
              "<table border=\"1\" class=\"dataframe\">\n",
              "  <thead>\n",
              "    <tr style=\"text-align: right;\">\n",
              "      <th></th>\n",
              "      <th>#</th>\n",
              "      <th>Name</th>\n",
              "      <th>Type 1</th>\n",
              "      <th>Type 2</th>\n",
              "      <th>Total</th>\n",
              "      <th>HP</th>\n",
              "      <th>Attack</th>\n",
              "      <th>Defense</th>\n",
              "      <th>Ultimate</th>\n",
              "      <th>Penetration</th>\n",
              "      <th>Speed</th>\n",
              "      <th>Generation</th>\n",
              "    </tr>\n",
              "  </thead>\n",
              "  <tbody>\n",
              "    <tr>\n",
              "      <th>0</th>\n",
              "      <td>1</td>\n",
              "      <td>Bulbasaur</td>\n",
              "      <td>Grass</td>\n",
              "      <td>Poison</td>\n",
              "      <td>318</td>\n",
              "      <td>45</td>\n",
              "      <td>49</td>\n",
              "      <td>49</td>\n",
              "      <td>65</td>\n",
              "      <td>65</td>\n",
              "      <td>45</td>\n",
              "      <td>1</td>\n",
              "    </tr>\n",
              "    <tr>\n",
              "      <th>1</th>\n",
              "      <td>2</td>\n",
              "      <td>Ivysaur</td>\n",
              "      <td>Grass</td>\n",
              "      <td>Poison</td>\n",
              "      <td>405</td>\n",
              "      <td>60</td>\n",
              "      <td>62</td>\n",
              "      <td>63</td>\n",
              "      <td>80</td>\n",
              "      <td>80</td>\n",
              "      <td>60</td>\n",
              "      <td>1</td>\n",
              "    </tr>\n",
              "    <tr>\n",
              "      <th>2</th>\n",
              "      <td>3</td>\n",
              "      <td>Venusaur</td>\n",
              "      <td>Grass</td>\n",
              "      <td>Poison</td>\n",
              "      <td>525</td>\n",
              "      <td>80</td>\n",
              "      <td>82</td>\n",
              "      <td>83</td>\n",
              "      <td>100</td>\n",
              "      <td>100</td>\n",
              "      <td>80</td>\n",
              "      <td>1</td>\n",
              "    </tr>\n",
              "    <tr>\n",
              "      <th>3</th>\n",
              "      <td>3</td>\n",
              "      <td>VenusaurMega Venusaur</td>\n",
              "      <td>Grass</td>\n",
              "      <td>Poison</td>\n",
              "      <td>625</td>\n",
              "      <td>80</td>\n",
              "      <td>100</td>\n",
              "      <td>123</td>\n",
              "      <td>122</td>\n",
              "      <td>120</td>\n",
              "      <td>80</td>\n",
              "      <td>1</td>\n",
              "    </tr>\n",
              "    <tr>\n",
              "      <th>4</th>\n",
              "      <td>4</td>\n",
              "      <td>Charmander</td>\n",
              "      <td>Fire</td>\n",
              "      <td>Not yet evolving</td>\n",
              "      <td>309</td>\n",
              "      <td>39</td>\n",
              "      <td>52</td>\n",
              "      <td>43</td>\n",
              "      <td>60</td>\n",
              "      <td>50</td>\n",
              "      <td>65</td>\n",
              "      <td>1</td>\n",
              "    </tr>\n",
              "    <tr>\n",
              "      <th>5</th>\n",
              "      <td>5</td>\n",
              "      <td>Charmeleon</td>\n",
              "      <td>Fire</td>\n",
              "      <td>Not yet evolving</td>\n",
              "      <td>405</td>\n",
              "      <td>58</td>\n",
              "      <td>64</td>\n",
              "      <td>58</td>\n",
              "      <td>80</td>\n",
              "      <td>65</td>\n",
              "      <td>80</td>\n",
              "      <td>1</td>\n",
              "    </tr>\n",
              "    <tr>\n",
              "      <th>6</th>\n",
              "      <td>6</td>\n",
              "      <td>Charizard</td>\n",
              "      <td>Fire</td>\n",
              "      <td>Flying</td>\n",
              "      <td>534</td>\n",
              "      <td>78</td>\n",
              "      <td>84</td>\n",
              "      <td>78</td>\n",
              "      <td>109</td>\n",
              "      <td>85</td>\n",
              "      <td>100</td>\n",
              "      <td>1</td>\n",
              "    </tr>\n",
              "    <tr>\n",
              "      <th>7</th>\n",
              "      <td>6</td>\n",
              "      <td>CharizardMega Charizard X</td>\n",
              "      <td>Fire</td>\n",
              "      <td>Dragon</td>\n",
              "      <td>634</td>\n",
              "      <td>78</td>\n",
              "      <td>130</td>\n",
              "      <td>111</td>\n",
              "      <td>130</td>\n",
              "      <td>85</td>\n",
              "      <td>100</td>\n",
              "      <td>1</td>\n",
              "    </tr>\n",
              "    <tr>\n",
              "      <th>8</th>\n",
              "      <td>6</td>\n",
              "      <td>CharizardMega Charizard Y</td>\n",
              "      <td>Fire</td>\n",
              "      <td>Flying</td>\n",
              "      <td>634</td>\n",
              "      <td>78</td>\n",
              "      <td>104</td>\n",
              "      <td>78</td>\n",
              "      <td>159</td>\n",
              "      <td>115</td>\n",
              "      <td>100</td>\n",
              "      <td>1</td>\n",
              "    </tr>\n",
              "    <tr>\n",
              "      <th>9</th>\n",
              "      <td>7</td>\n",
              "      <td>Squirtle</td>\n",
              "      <td>Water</td>\n",
              "      <td>Not yet evolving</td>\n",
              "      <td>314</td>\n",
              "      <td>44</td>\n",
              "      <td>48</td>\n",
              "      <td>65</td>\n",
              "      <td>50</td>\n",
              "      <td>64</td>\n",
              "      <td>43</td>\n",
              "      <td>1</td>\n",
              "    </tr>\n",
              "  </tbody>\n",
              "</table>\n",
              "</div>"
            ],
            "text/plain": [
              "   #                       Name Type 1  ... Penetration  Speed  Generation\n",
              "0  1                  Bulbasaur  Grass  ...          65     45           1\n",
              "1  2                    Ivysaur  Grass  ...          80     60           1\n",
              "2  3                   Venusaur  Grass  ...         100     80           1\n",
              "3  3      VenusaurMega Venusaur  Grass  ...         120     80           1\n",
              "4  4                 Charmander   Fire  ...          50     65           1\n",
              "5  5                 Charmeleon   Fire  ...          65     80           1\n",
              "6  6                  Charizard   Fire  ...          85    100           1\n",
              "7  6  CharizardMega Charizard X   Fire  ...          85    100           1\n",
              "8  6  CharizardMega Charizard Y   Fire  ...         115    100           1\n",
              "9  7                   Squirtle  Water  ...          64     43           1\n",
              "\n",
              "[10 rows x 12 columns]"
            ]
          },
          "metadata": {},
          "execution_count": 68
        }
      ]
    },
    {
      "cell_type": "markdown",
      "metadata": {
        "id": "9UJiG2shjAqS"
      },
      "source": [
        "##**STEP 5 : Explorasi Data**\n",
        "###Bagian ini berisi explorasi data pada dataset diatas dengan menggunakan query, grouping, visualisasi sederhana, dan lain sebagainya."
      ]
    },
    {
      "cell_type": "markdown",
      "metadata": {
        "id": "TrDJwLyG-wMt"
      },
      "source": [
        "###Pada explorasi data, hal pertama yang ingin saya lakukan adalah membuat query, ada 3 query yang akan saya buat : \n",
        "**(Assignment Rubrics)**\n",
        "*   Pokemon terkuat (Pokemon yang memiliki Attack lebih dari 160)\n",
        "*   Pokemon terlemah (Pokemon dengan tingkat defense kurang dari 50)\n",
        "*   Pokemon terbaru (Pokemon generasi ke 6)"
      ]
    },
    {
      "cell_type": "markdown",
      "metadata": {
        "id": "-bTRaljoAl7y"
      },
      "source": [
        "###Pertama saya ingin menganalisis berapa nilai maksimal dan nilai tengah dari Attack"
      ]
    },
    {
      "cell_type": "code",
      "metadata": {
        "id": "UN77MbHmjOzt",
        "colab": {
          "base_uri": "https://localhost:8080/"
        },
        "outputId": "72625b81-0a58-42ee-b6ff-80ce77028a70"
      },
      "source": [
        "data[\"Attack\"].max()"
      ],
      "execution_count": 69,
      "outputs": [
        {
          "output_type": "execute_result",
          "data": {
            "text/plain": [
              "190"
            ]
          },
          "metadata": {},
          "execution_count": 69
        }
      ]
    },
    {
      "cell_type": "code",
      "metadata": {
        "id": "RZ_girOBkpi_",
        "colab": {
          "base_uri": "https://localhost:8080/"
        },
        "outputId": "f06d3133-93de-4c55-f8fe-15df827642e7"
      },
      "source": [
        "data[\"Attack\"].mean()"
      ],
      "execution_count": 70,
      "outputs": [
        {
          "output_type": "execute_result",
          "data": {
            "text/plain": [
              "79.00125"
            ]
          },
          "metadata": {},
          "execution_count": 70
        }
      ]
    },
    {
      "cell_type": "markdown",
      "metadata": {
        "id": "9vAFSDVzA0x7"
      },
      "source": [
        "###Setelah mendapatkan nilainya kemudian saya menyimpulkan jika pokemon yang memiliki Attack lebih dari 160 maka pokemon tersebut masuk ke dalam kategori terkuat, lalu saya membuat querynya seperti dibawah ini:"
      ]
    },
    {
      "cell_type": "code",
      "metadata": {
        "id": "ORNcFfzTkuZt"
      },
      "source": [
        "strongest_p = data[data[\"Attack\"] > 160]"
      ],
      "execution_count": 71,
      "outputs": []
    },
    {
      "cell_type": "code",
      "metadata": {
        "id": "4PuXbnSrlH18",
        "colab": {
          "base_uri": "https://localhost:8080/",
          "height": 550
        },
        "outputId": "76b036c7-1eab-4d89-fb20-3ee0e7dc5a90"
      },
      "source": [
        "strongest_p"
      ],
      "execution_count": 72,
      "outputs": [
        {
          "output_type": "execute_result",
          "data": {
            "text/html": [
              "<div>\n",
              "<style scoped>\n",
              "    .dataframe tbody tr th:only-of-type {\n",
              "        vertical-align: middle;\n",
              "    }\n",
              "\n",
              "    .dataframe tbody tr th {\n",
              "        vertical-align: top;\n",
              "    }\n",
              "\n",
              "    .dataframe thead th {\n",
              "        text-align: right;\n",
              "    }\n",
              "</style>\n",
              "<table border=\"1\" class=\"dataframe\">\n",
              "  <thead>\n",
              "    <tr style=\"text-align: right;\">\n",
              "      <th></th>\n",
              "      <th>#</th>\n",
              "      <th>Name</th>\n",
              "      <th>Type 1</th>\n",
              "      <th>Type 2</th>\n",
              "      <th>Total</th>\n",
              "      <th>HP</th>\n",
              "      <th>Attack</th>\n",
              "      <th>Defense</th>\n",
              "      <th>Ultimate</th>\n",
              "      <th>Penetration</th>\n",
              "      <th>Speed</th>\n",
              "      <th>Generation</th>\n",
              "    </tr>\n",
              "  </thead>\n",
              "  <tbody>\n",
              "    <tr>\n",
              "      <th>163</th>\n",
              "      <td>150</td>\n",
              "      <td>MewtwoMega Mewtwo X</td>\n",
              "      <td>Psychic</td>\n",
              "      <td>Fighting</td>\n",
              "      <td>780</td>\n",
              "      <td>106</td>\n",
              "      <td>190</td>\n",
              "      <td>100</td>\n",
              "      <td>154</td>\n",
              "      <td>100</td>\n",
              "      <td>130</td>\n",
              "      <td>1</td>\n",
              "    </tr>\n",
              "    <tr>\n",
              "      <th>232</th>\n",
              "      <td>214</td>\n",
              "      <td>HeracrossMega Heracross</td>\n",
              "      <td>Bug</td>\n",
              "      <td>Fighting</td>\n",
              "      <td>600</td>\n",
              "      <td>80</td>\n",
              "      <td>185</td>\n",
              "      <td>115</td>\n",
              "      <td>40</td>\n",
              "      <td>105</td>\n",
              "      <td>75</td>\n",
              "      <td>2</td>\n",
              "    </tr>\n",
              "    <tr>\n",
              "      <th>268</th>\n",
              "      <td>248</td>\n",
              "      <td>TyranitarMega Tyranitar</td>\n",
              "      <td>Rock</td>\n",
              "      <td>Dark</td>\n",
              "      <td>700</td>\n",
              "      <td>100</td>\n",
              "      <td>164</td>\n",
              "      <td>150</td>\n",
              "      <td>95</td>\n",
              "      <td>120</td>\n",
              "      <td>71</td>\n",
              "      <td>2</td>\n",
              "    </tr>\n",
              "    <tr>\n",
              "      <th>387</th>\n",
              "      <td>354</td>\n",
              "      <td>BanetteMega Banette</td>\n",
              "      <td>Ghost</td>\n",
              "      <td>Not yet evolving</td>\n",
              "      <td>555</td>\n",
              "      <td>64</td>\n",
              "      <td>165</td>\n",
              "      <td>75</td>\n",
              "      <td>93</td>\n",
              "      <td>83</td>\n",
              "      <td>75</td>\n",
              "      <td>3</td>\n",
              "    </tr>\n",
              "    <tr>\n",
              "      <th>424</th>\n",
              "      <td>383</td>\n",
              "      <td>GroudonPrimal Groudon</td>\n",
              "      <td>Ground</td>\n",
              "      <td>Fire</td>\n",
              "      <td>770</td>\n",
              "      <td>100</td>\n",
              "      <td>180</td>\n",
              "      <td>160</td>\n",
              "      <td>150</td>\n",
              "      <td>90</td>\n",
              "      <td>90</td>\n",
              "      <td>3</td>\n",
              "    </tr>\n",
              "    <tr>\n",
              "      <th>426</th>\n",
              "      <td>384</td>\n",
              "      <td>RayquazaMega Rayquaza</td>\n",
              "      <td>Dragon</td>\n",
              "      <td>Flying</td>\n",
              "      <td>780</td>\n",
              "      <td>105</td>\n",
              "      <td>180</td>\n",
              "      <td>100</td>\n",
              "      <td>180</td>\n",
              "      <td>100</td>\n",
              "      <td>115</td>\n",
              "      <td>3</td>\n",
              "    </tr>\n",
              "    <tr>\n",
              "      <th>429</th>\n",
              "      <td>386</td>\n",
              "      <td>DeoxysAttack Forme</td>\n",
              "      <td>Psychic</td>\n",
              "      <td>Not yet evolving</td>\n",
              "      <td>600</td>\n",
              "      <td>50</td>\n",
              "      <td>180</td>\n",
              "      <td>20</td>\n",
              "      <td>180</td>\n",
              "      <td>20</td>\n",
              "      <td>150</td>\n",
              "      <td>3</td>\n",
              "    </tr>\n",
              "    <tr>\n",
              "      <th>454</th>\n",
              "      <td>409</td>\n",
              "      <td>Rampardos</td>\n",
              "      <td>Rock</td>\n",
              "      <td>Not yet evolving</td>\n",
              "      <td>495</td>\n",
              "      <td>97</td>\n",
              "      <td>165</td>\n",
              "      <td>60</td>\n",
              "      <td>65</td>\n",
              "      <td>50</td>\n",
              "      <td>58</td>\n",
              "      <td>4</td>\n",
              "    </tr>\n",
              "    <tr>\n",
              "      <th>494</th>\n",
              "      <td>445</td>\n",
              "      <td>GarchompMega Garchomp</td>\n",
              "      <td>Dragon</td>\n",
              "      <td>Ground</td>\n",
              "      <td>700</td>\n",
              "      <td>108</td>\n",
              "      <td>170</td>\n",
              "      <td>115</td>\n",
              "      <td>120</td>\n",
              "      <td>95</td>\n",
              "      <td>92</td>\n",
              "      <td>4</td>\n",
              "    </tr>\n",
              "    <tr>\n",
              "      <th>527</th>\n",
              "      <td>475</td>\n",
              "      <td>GalladeMega Gallade</td>\n",
              "      <td>Psychic</td>\n",
              "      <td>Fighting</td>\n",
              "      <td>618</td>\n",
              "      <td>68</td>\n",
              "      <td>165</td>\n",
              "      <td>95</td>\n",
              "      <td>65</td>\n",
              "      <td>115</td>\n",
              "      <td>110</td>\n",
              "      <td>4</td>\n",
              "    </tr>\n",
              "    <tr>\n",
              "      <th>711</th>\n",
              "      <td>646</td>\n",
              "      <td>KyuremBlack Kyurem</td>\n",
              "      <td>Dragon</td>\n",
              "      <td>Ice</td>\n",
              "      <td>700</td>\n",
              "      <td>125</td>\n",
              "      <td>170</td>\n",
              "      <td>100</td>\n",
              "      <td>120</td>\n",
              "      <td>90</td>\n",
              "      <td>95</td>\n",
              "      <td>5</td>\n",
              "    </tr>\n",
              "  </tbody>\n",
              "</table>\n",
              "</div>"
            ],
            "text/plain": [
              "       #                     Name   Type 1  ... Penetration  Speed  Generation\n",
              "163  150      MewtwoMega Mewtwo X  Psychic  ...         100    130           1\n",
              "232  214  HeracrossMega Heracross      Bug  ...         105     75           2\n",
              "268  248  TyranitarMega Tyranitar     Rock  ...         120     71           2\n",
              "387  354      BanetteMega Banette    Ghost  ...          83     75           3\n",
              "424  383    GroudonPrimal Groudon   Ground  ...          90     90           3\n",
              "426  384    RayquazaMega Rayquaza   Dragon  ...         100    115           3\n",
              "429  386       DeoxysAttack Forme  Psychic  ...          20    150           3\n",
              "454  409                Rampardos     Rock  ...          50     58           4\n",
              "494  445    GarchompMega Garchomp   Dragon  ...          95     92           4\n",
              "527  475      GalladeMega Gallade  Psychic  ...         115    110           4\n",
              "711  646       KyuremBlack Kyurem   Dragon  ...          90     95           5\n",
              "\n",
              "[11 rows x 12 columns]"
            ]
          },
          "metadata": {},
          "execution_count": 72
        }
      ]
    },
    {
      "cell_type": "markdown",
      "metadata": {
        "id": "Gp7m-L4lBctj"
      },
      "source": [
        "###Terdapat 11 data Pokemon yang masuk ke dalam kategori pokemon terkuat, bisa dilihat dari output perintah `p.shape`"
      ]
    },
    {
      "cell_type": "code",
      "metadata": {
        "id": "qXtcHcwdlSbp",
        "colab": {
          "base_uri": "https://localhost:8080/"
        },
        "outputId": "8e1d8f9e-d068-4971-c41b-dadc70a5cc53"
      },
      "source": [
        "strongest_p.shape"
      ],
      "execution_count": 73,
      "outputs": [
        {
          "output_type": "execute_result",
          "data": {
            "text/plain": [
              "(11, 12)"
            ]
          },
          "metadata": {},
          "execution_count": 73
        }
      ]
    },
    {
      "cell_type": "markdown",
      "metadata": {
        "id": "jrMGDMFnB2aR"
      },
      "source": [
        "###Untuk query pokemon terlemah dan terbaru kurang lebih caranya sama seperti query pokemon terkuat."
      ]
    },
    {
      "cell_type": "code",
      "metadata": {
        "id": "LEKsV6PPlc8-",
        "colab": {
          "base_uri": "https://localhost:8080/"
        },
        "outputId": "440a510a-83f3-42c1-9871-a7f0d5ff4b8a"
      },
      "source": [
        "data[\"Defense\"].max()"
      ],
      "execution_count": 74,
      "outputs": [
        {
          "output_type": "execute_result",
          "data": {
            "text/plain": [
              "230"
            ]
          },
          "metadata": {},
          "execution_count": 74
        }
      ]
    },
    {
      "cell_type": "code",
      "metadata": {
        "id": "AG_Jgaa3llrA",
        "colab": {
          "base_uri": "https://localhost:8080/"
        },
        "outputId": "beb57b1e-afc1-4592-cd3b-5fac26416865"
      },
      "source": [
        "data[\"Defense\"].mean()"
      ],
      "execution_count": 75,
      "outputs": [
        {
          "output_type": "execute_result",
          "data": {
            "text/plain": [
              "73.8425"
            ]
          },
          "metadata": {},
          "execution_count": 75
        }
      ]
    },
    {
      "cell_type": "code",
      "metadata": {
        "id": "wDZ6P-xGlozw"
      },
      "source": [
        "weakens_p = data[data[\"Defense\"] < 50]"
      ],
      "execution_count": 76,
      "outputs": []
    },
    {
      "cell_type": "code",
      "metadata": {
        "id": "eCHjUyVomcl5",
        "colab": {
          "base_uri": "https://localhost:8080/",
          "height": 424
        },
        "outputId": "eb0c35c2-28be-45a7-b7a0-e41a4a393b60"
      },
      "source": [
        "weakens_p"
      ],
      "execution_count": 77,
      "outputs": [
        {
          "output_type": "execute_result",
          "data": {
            "text/html": [
              "<div>\n",
              "<style scoped>\n",
              "    .dataframe tbody tr th:only-of-type {\n",
              "        vertical-align: middle;\n",
              "    }\n",
              "\n",
              "    .dataframe tbody tr th {\n",
              "        vertical-align: top;\n",
              "    }\n",
              "\n",
              "    .dataframe thead th {\n",
              "        text-align: right;\n",
              "    }\n",
              "</style>\n",
              "<table border=\"1\" class=\"dataframe\">\n",
              "  <thead>\n",
              "    <tr style=\"text-align: right;\">\n",
              "      <th></th>\n",
              "      <th>#</th>\n",
              "      <th>Name</th>\n",
              "      <th>Type 1</th>\n",
              "      <th>Type 2</th>\n",
              "      <th>Total</th>\n",
              "      <th>HP</th>\n",
              "      <th>Attack</th>\n",
              "      <th>Defense</th>\n",
              "      <th>Ultimate</th>\n",
              "      <th>Penetration</th>\n",
              "      <th>Speed</th>\n",
              "      <th>Generation</th>\n",
              "    </tr>\n",
              "  </thead>\n",
              "  <tbody>\n",
              "    <tr>\n",
              "      <th>0</th>\n",
              "      <td>1</td>\n",
              "      <td>Bulbasaur</td>\n",
              "      <td>Grass</td>\n",
              "      <td>Poison</td>\n",
              "      <td>318</td>\n",
              "      <td>45</td>\n",
              "      <td>49</td>\n",
              "      <td>49</td>\n",
              "      <td>65</td>\n",
              "      <td>65</td>\n",
              "      <td>45</td>\n",
              "      <td>1</td>\n",
              "    </tr>\n",
              "    <tr>\n",
              "      <th>4</th>\n",
              "      <td>4</td>\n",
              "      <td>Charmander</td>\n",
              "      <td>Fire</td>\n",
              "      <td>Not yet evolving</td>\n",
              "      <td>309</td>\n",
              "      <td>39</td>\n",
              "      <td>52</td>\n",
              "      <td>43</td>\n",
              "      <td>60</td>\n",
              "      <td>50</td>\n",
              "      <td>65</td>\n",
              "      <td>1</td>\n",
              "    </tr>\n",
              "    <tr>\n",
              "      <th>13</th>\n",
              "      <td>10</td>\n",
              "      <td>Caterpie</td>\n",
              "      <td>Bug</td>\n",
              "      <td>Not yet evolving</td>\n",
              "      <td>195</td>\n",
              "      <td>45</td>\n",
              "      <td>30</td>\n",
              "      <td>35</td>\n",
              "      <td>20</td>\n",
              "      <td>20</td>\n",
              "      <td>45</td>\n",
              "      <td>1</td>\n",
              "    </tr>\n",
              "    <tr>\n",
              "      <th>16</th>\n",
              "      <td>13</td>\n",
              "      <td>Weedle</td>\n",
              "      <td>Bug</td>\n",
              "      <td>Poison</td>\n",
              "      <td>195</td>\n",
              "      <td>40</td>\n",
              "      <td>35</td>\n",
              "      <td>30</td>\n",
              "      <td>20</td>\n",
              "      <td>20</td>\n",
              "      <td>50</td>\n",
              "      <td>1</td>\n",
              "    </tr>\n",
              "    <tr>\n",
              "      <th>18</th>\n",
              "      <td>15</td>\n",
              "      <td>Beedrill</td>\n",
              "      <td>Bug</td>\n",
              "      <td>Poison</td>\n",
              "      <td>395</td>\n",
              "      <td>65</td>\n",
              "      <td>90</td>\n",
              "      <td>40</td>\n",
              "      <td>45</td>\n",
              "      <td>80</td>\n",
              "      <td>75</td>\n",
              "      <td>1</td>\n",
              "    </tr>\n",
              "    <tr>\n",
              "      <th>...</th>\n",
              "      <td>...</td>\n",
              "      <td>...</td>\n",
              "      <td>...</td>\n",
              "      <td>...</td>\n",
              "      <td>...</td>\n",
              "      <td>...</td>\n",
              "      <td>...</td>\n",
              "      <td>...</td>\n",
              "      <td>...</td>\n",
              "      <td>...</td>\n",
              "      <td>...</td>\n",
              "      <td>...</td>\n",
              "    </tr>\n",
              "    <tr>\n",
              "      <th>740</th>\n",
              "      <td>672</td>\n",
              "      <td>Skiddo</td>\n",
              "      <td>Grass</td>\n",
              "      <td>Not yet evolving</td>\n",
              "      <td>350</td>\n",
              "      <td>66</td>\n",
              "      <td>65</td>\n",
              "      <td>48</td>\n",
              "      <td>62</td>\n",
              "      <td>57</td>\n",
              "      <td>52</td>\n",
              "      <td>6</td>\n",
              "    </tr>\n",
              "    <tr>\n",
              "      <th>764</th>\n",
              "      <td>694</td>\n",
              "      <td>Helioptile</td>\n",
              "      <td>Electric</td>\n",
              "      <td>Normal</td>\n",
              "      <td>289</td>\n",
              "      <td>44</td>\n",
              "      <td>38</td>\n",
              "      <td>33</td>\n",
              "      <td>61</td>\n",
              "      <td>43</td>\n",
              "      <td>70</td>\n",
              "      <td>6</td>\n",
              "    </tr>\n",
              "    <tr>\n",
              "      <th>774</th>\n",
              "      <td>704</td>\n",
              "      <td>Goomy</td>\n",
              "      <td>Dragon</td>\n",
              "      <td>Not yet evolving</td>\n",
              "      <td>300</td>\n",
              "      <td>45</td>\n",
              "      <td>50</td>\n",
              "      <td>35</td>\n",
              "      <td>55</td>\n",
              "      <td>75</td>\n",
              "      <td>40</td>\n",
              "      <td>6</td>\n",
              "    </tr>\n",
              "    <tr>\n",
              "      <th>778</th>\n",
              "      <td>708</td>\n",
              "      <td>Phantump</td>\n",
              "      <td>Ghost</td>\n",
              "      <td>Grass</td>\n",
              "      <td>309</td>\n",
              "      <td>43</td>\n",
              "      <td>70</td>\n",
              "      <td>48</td>\n",
              "      <td>50</td>\n",
              "      <td>60</td>\n",
              "      <td>38</td>\n",
              "      <td>6</td>\n",
              "    </tr>\n",
              "    <tr>\n",
              "      <th>790</th>\n",
              "      <td>714</td>\n",
              "      <td>Noibat</td>\n",
              "      <td>Flying</td>\n",
              "      <td>Dragon</td>\n",
              "      <td>245</td>\n",
              "      <td>40</td>\n",
              "      <td>30</td>\n",
              "      <td>35</td>\n",
              "      <td>45</td>\n",
              "      <td>40</td>\n",
              "      <td>55</td>\n",
              "      <td>6</td>\n",
              "    </tr>\n",
              "  </tbody>\n",
              "</table>\n",
              "<p>163 rows × 12 columns</p>\n",
              "</div>"
            ],
            "text/plain": [
              "       #        Name    Type 1  ... Penetration  Speed  Generation\n",
              "0      1   Bulbasaur     Grass  ...          65     45           1\n",
              "4      4  Charmander      Fire  ...          50     65           1\n",
              "13    10    Caterpie       Bug  ...          20     45           1\n",
              "16    13      Weedle       Bug  ...          20     50           1\n",
              "18    15    Beedrill       Bug  ...          80     75           1\n",
              "..   ...         ...       ...  ...         ...    ...         ...\n",
              "740  672      Skiddo     Grass  ...          57     52           6\n",
              "764  694  Helioptile  Electric  ...          43     70           6\n",
              "774  704       Goomy    Dragon  ...          75     40           6\n",
              "778  708    Phantump     Ghost  ...          60     38           6\n",
              "790  714      Noibat    Flying  ...          40     55           6\n",
              "\n",
              "[163 rows x 12 columns]"
            ]
          },
          "metadata": {},
          "execution_count": 77
        }
      ]
    },
    {
      "cell_type": "code",
      "metadata": {
        "id": "YvYO1oFymhaT",
        "colab": {
          "base_uri": "https://localhost:8080/"
        },
        "outputId": "28df9725-dadd-49f4-dca3-79d68ccc966f"
      },
      "source": [
        "weakens_p.shape"
      ],
      "execution_count": 78,
      "outputs": [
        {
          "output_type": "execute_result",
          "data": {
            "text/plain": [
              "(163, 12)"
            ]
          },
          "metadata": {},
          "execution_count": 78
        }
      ]
    },
    {
      "cell_type": "code",
      "metadata": {
        "id": "L8uRDUHImmGU"
      },
      "source": [
        "recent_p = data[data[\"Generation\"] == 6]"
      ],
      "execution_count": 79,
      "outputs": []
    },
    {
      "cell_type": "code",
      "metadata": {
        "id": "NhHGiaoHmuGY",
        "colab": {
          "base_uri": "https://localhost:8080/",
          "height": 424
        },
        "outputId": "8d61fdee-c552-4dd1-cfe6-fd255855e148"
      },
      "source": [
        "recent_p"
      ],
      "execution_count": 80,
      "outputs": [
        {
          "output_type": "execute_result",
          "data": {
            "text/html": [
              "<div>\n",
              "<style scoped>\n",
              "    .dataframe tbody tr th:only-of-type {\n",
              "        vertical-align: middle;\n",
              "    }\n",
              "\n",
              "    .dataframe tbody tr th {\n",
              "        vertical-align: top;\n",
              "    }\n",
              "\n",
              "    .dataframe thead th {\n",
              "        text-align: right;\n",
              "    }\n",
              "</style>\n",
              "<table border=\"1\" class=\"dataframe\">\n",
              "  <thead>\n",
              "    <tr style=\"text-align: right;\">\n",
              "      <th></th>\n",
              "      <th>#</th>\n",
              "      <th>Name</th>\n",
              "      <th>Type 1</th>\n",
              "      <th>Type 2</th>\n",
              "      <th>Total</th>\n",
              "      <th>HP</th>\n",
              "      <th>Attack</th>\n",
              "      <th>Defense</th>\n",
              "      <th>Ultimate</th>\n",
              "      <th>Penetration</th>\n",
              "      <th>Speed</th>\n",
              "      <th>Generation</th>\n",
              "    </tr>\n",
              "  </thead>\n",
              "  <tbody>\n",
              "    <tr>\n",
              "      <th>718</th>\n",
              "      <td>650</td>\n",
              "      <td>Chespin</td>\n",
              "      <td>Grass</td>\n",
              "      <td>Not yet evolving</td>\n",
              "      <td>313</td>\n",
              "      <td>56</td>\n",
              "      <td>61</td>\n",
              "      <td>65</td>\n",
              "      <td>48</td>\n",
              "      <td>45</td>\n",
              "      <td>38</td>\n",
              "      <td>6</td>\n",
              "    </tr>\n",
              "    <tr>\n",
              "      <th>719</th>\n",
              "      <td>651</td>\n",
              "      <td>Quilladin</td>\n",
              "      <td>Grass</td>\n",
              "      <td>Not yet evolving</td>\n",
              "      <td>405</td>\n",
              "      <td>61</td>\n",
              "      <td>78</td>\n",
              "      <td>95</td>\n",
              "      <td>56</td>\n",
              "      <td>58</td>\n",
              "      <td>57</td>\n",
              "      <td>6</td>\n",
              "    </tr>\n",
              "    <tr>\n",
              "      <th>720</th>\n",
              "      <td>652</td>\n",
              "      <td>Chesnaught</td>\n",
              "      <td>Grass</td>\n",
              "      <td>Fighting</td>\n",
              "      <td>530</td>\n",
              "      <td>88</td>\n",
              "      <td>107</td>\n",
              "      <td>122</td>\n",
              "      <td>74</td>\n",
              "      <td>75</td>\n",
              "      <td>64</td>\n",
              "      <td>6</td>\n",
              "    </tr>\n",
              "    <tr>\n",
              "      <th>721</th>\n",
              "      <td>653</td>\n",
              "      <td>Fennekin</td>\n",
              "      <td>Fire</td>\n",
              "      <td>Not yet evolving</td>\n",
              "      <td>307</td>\n",
              "      <td>40</td>\n",
              "      <td>45</td>\n",
              "      <td>40</td>\n",
              "      <td>62</td>\n",
              "      <td>60</td>\n",
              "      <td>60</td>\n",
              "      <td>6</td>\n",
              "    </tr>\n",
              "    <tr>\n",
              "      <th>722</th>\n",
              "      <td>654</td>\n",
              "      <td>Braixen</td>\n",
              "      <td>Fire</td>\n",
              "      <td>Not yet evolving</td>\n",
              "      <td>409</td>\n",
              "      <td>59</td>\n",
              "      <td>59</td>\n",
              "      <td>58</td>\n",
              "      <td>90</td>\n",
              "      <td>70</td>\n",
              "      <td>73</td>\n",
              "      <td>6</td>\n",
              "    </tr>\n",
              "    <tr>\n",
              "      <th>...</th>\n",
              "      <td>...</td>\n",
              "      <td>...</td>\n",
              "      <td>...</td>\n",
              "      <td>...</td>\n",
              "      <td>...</td>\n",
              "      <td>...</td>\n",
              "      <td>...</td>\n",
              "      <td>...</td>\n",
              "      <td>...</td>\n",
              "      <td>...</td>\n",
              "      <td>...</td>\n",
              "      <td>...</td>\n",
              "    </tr>\n",
              "    <tr>\n",
              "      <th>795</th>\n",
              "      <td>719</td>\n",
              "      <td>Diancie</td>\n",
              "      <td>Rock</td>\n",
              "      <td>Fairy</td>\n",
              "      <td>600</td>\n",
              "      <td>50</td>\n",
              "      <td>100</td>\n",
              "      <td>150</td>\n",
              "      <td>100</td>\n",
              "      <td>150</td>\n",
              "      <td>50</td>\n",
              "      <td>6</td>\n",
              "    </tr>\n",
              "    <tr>\n",
              "      <th>796</th>\n",
              "      <td>719</td>\n",
              "      <td>DiancieMega Diancie</td>\n",
              "      <td>Rock</td>\n",
              "      <td>Fairy</td>\n",
              "      <td>700</td>\n",
              "      <td>50</td>\n",
              "      <td>160</td>\n",
              "      <td>110</td>\n",
              "      <td>160</td>\n",
              "      <td>110</td>\n",
              "      <td>110</td>\n",
              "      <td>6</td>\n",
              "    </tr>\n",
              "    <tr>\n",
              "      <th>797</th>\n",
              "      <td>720</td>\n",
              "      <td>HoopaHoopa Confined</td>\n",
              "      <td>Psychic</td>\n",
              "      <td>Ghost</td>\n",
              "      <td>600</td>\n",
              "      <td>80</td>\n",
              "      <td>110</td>\n",
              "      <td>60</td>\n",
              "      <td>150</td>\n",
              "      <td>130</td>\n",
              "      <td>70</td>\n",
              "      <td>6</td>\n",
              "    </tr>\n",
              "    <tr>\n",
              "      <th>798</th>\n",
              "      <td>720</td>\n",
              "      <td>HoopaHoopa Unbound</td>\n",
              "      <td>Psychic</td>\n",
              "      <td>Dark</td>\n",
              "      <td>680</td>\n",
              "      <td>80</td>\n",
              "      <td>160</td>\n",
              "      <td>60</td>\n",
              "      <td>170</td>\n",
              "      <td>130</td>\n",
              "      <td>80</td>\n",
              "      <td>6</td>\n",
              "    </tr>\n",
              "    <tr>\n",
              "      <th>799</th>\n",
              "      <td>721</td>\n",
              "      <td>Volcanion</td>\n",
              "      <td>Fire</td>\n",
              "      <td>Water</td>\n",
              "      <td>600</td>\n",
              "      <td>80</td>\n",
              "      <td>110</td>\n",
              "      <td>120</td>\n",
              "      <td>130</td>\n",
              "      <td>90</td>\n",
              "      <td>70</td>\n",
              "      <td>6</td>\n",
              "    </tr>\n",
              "  </tbody>\n",
              "</table>\n",
              "<p>82 rows × 12 columns</p>\n",
              "</div>"
            ],
            "text/plain": [
              "       #                 Name   Type 1  ... Penetration  Speed  Generation\n",
              "718  650              Chespin    Grass  ...          45     38           6\n",
              "719  651            Quilladin    Grass  ...          58     57           6\n",
              "720  652           Chesnaught    Grass  ...          75     64           6\n",
              "721  653             Fennekin     Fire  ...          60     60           6\n",
              "722  654              Braixen     Fire  ...          70     73           6\n",
              "..   ...                  ...      ...  ...         ...    ...         ...\n",
              "795  719              Diancie     Rock  ...         150     50           6\n",
              "796  719  DiancieMega Diancie     Rock  ...         110    110           6\n",
              "797  720  HoopaHoopa Confined  Psychic  ...         130     70           6\n",
              "798  720   HoopaHoopa Unbound  Psychic  ...         130     80           6\n",
              "799  721            Volcanion     Fire  ...          90     70           6\n",
              "\n",
              "[82 rows x 12 columns]"
            ]
          },
          "metadata": {},
          "execution_count": 80
        }
      ]
    },
    {
      "cell_type": "code",
      "metadata": {
        "id": "tMzKiXiCmyz_",
        "colab": {
          "base_uri": "https://localhost:8080/"
        },
        "outputId": "b79026ca-8b41-4c34-c916-0e859eb235a5"
      },
      "source": [
        "recent_p.shape"
      ],
      "execution_count": 81,
      "outputs": [
        {
          "output_type": "execute_result",
          "data": {
            "text/plain": [
              "(82, 12)"
            ]
          },
          "metadata": {},
          "execution_count": 81
        }
      ]
    },
    {
      "cell_type": "code",
      "metadata": {
        "id": "0rs0EDzznIVC",
        "colab": {
          "base_uri": "https://localhost:8080/",
          "height": 363
        },
        "outputId": "b90dd5b6-e348-4fcd-f750-f334918e9016"
      },
      "source": [
        "data.head(10)"
      ],
      "execution_count": 82,
      "outputs": [
        {
          "output_type": "execute_result",
          "data": {
            "text/html": [
              "<div>\n",
              "<style scoped>\n",
              "    .dataframe tbody tr th:only-of-type {\n",
              "        vertical-align: middle;\n",
              "    }\n",
              "\n",
              "    .dataframe tbody tr th {\n",
              "        vertical-align: top;\n",
              "    }\n",
              "\n",
              "    .dataframe thead th {\n",
              "        text-align: right;\n",
              "    }\n",
              "</style>\n",
              "<table border=\"1\" class=\"dataframe\">\n",
              "  <thead>\n",
              "    <tr style=\"text-align: right;\">\n",
              "      <th></th>\n",
              "      <th>#</th>\n",
              "      <th>Name</th>\n",
              "      <th>Type 1</th>\n",
              "      <th>Type 2</th>\n",
              "      <th>Total</th>\n",
              "      <th>HP</th>\n",
              "      <th>Attack</th>\n",
              "      <th>Defense</th>\n",
              "      <th>Ultimate</th>\n",
              "      <th>Penetration</th>\n",
              "      <th>Speed</th>\n",
              "      <th>Generation</th>\n",
              "    </tr>\n",
              "  </thead>\n",
              "  <tbody>\n",
              "    <tr>\n",
              "      <th>0</th>\n",
              "      <td>1</td>\n",
              "      <td>Bulbasaur</td>\n",
              "      <td>Grass</td>\n",
              "      <td>Poison</td>\n",
              "      <td>318</td>\n",
              "      <td>45</td>\n",
              "      <td>49</td>\n",
              "      <td>49</td>\n",
              "      <td>65</td>\n",
              "      <td>65</td>\n",
              "      <td>45</td>\n",
              "      <td>1</td>\n",
              "    </tr>\n",
              "    <tr>\n",
              "      <th>1</th>\n",
              "      <td>2</td>\n",
              "      <td>Ivysaur</td>\n",
              "      <td>Grass</td>\n",
              "      <td>Poison</td>\n",
              "      <td>405</td>\n",
              "      <td>60</td>\n",
              "      <td>62</td>\n",
              "      <td>63</td>\n",
              "      <td>80</td>\n",
              "      <td>80</td>\n",
              "      <td>60</td>\n",
              "      <td>1</td>\n",
              "    </tr>\n",
              "    <tr>\n",
              "      <th>2</th>\n",
              "      <td>3</td>\n",
              "      <td>Venusaur</td>\n",
              "      <td>Grass</td>\n",
              "      <td>Poison</td>\n",
              "      <td>525</td>\n",
              "      <td>80</td>\n",
              "      <td>82</td>\n",
              "      <td>83</td>\n",
              "      <td>100</td>\n",
              "      <td>100</td>\n",
              "      <td>80</td>\n",
              "      <td>1</td>\n",
              "    </tr>\n",
              "    <tr>\n",
              "      <th>3</th>\n",
              "      <td>3</td>\n",
              "      <td>VenusaurMega Venusaur</td>\n",
              "      <td>Grass</td>\n",
              "      <td>Poison</td>\n",
              "      <td>625</td>\n",
              "      <td>80</td>\n",
              "      <td>100</td>\n",
              "      <td>123</td>\n",
              "      <td>122</td>\n",
              "      <td>120</td>\n",
              "      <td>80</td>\n",
              "      <td>1</td>\n",
              "    </tr>\n",
              "    <tr>\n",
              "      <th>4</th>\n",
              "      <td>4</td>\n",
              "      <td>Charmander</td>\n",
              "      <td>Fire</td>\n",
              "      <td>Not yet evolving</td>\n",
              "      <td>309</td>\n",
              "      <td>39</td>\n",
              "      <td>52</td>\n",
              "      <td>43</td>\n",
              "      <td>60</td>\n",
              "      <td>50</td>\n",
              "      <td>65</td>\n",
              "      <td>1</td>\n",
              "    </tr>\n",
              "    <tr>\n",
              "      <th>5</th>\n",
              "      <td>5</td>\n",
              "      <td>Charmeleon</td>\n",
              "      <td>Fire</td>\n",
              "      <td>Not yet evolving</td>\n",
              "      <td>405</td>\n",
              "      <td>58</td>\n",
              "      <td>64</td>\n",
              "      <td>58</td>\n",
              "      <td>80</td>\n",
              "      <td>65</td>\n",
              "      <td>80</td>\n",
              "      <td>1</td>\n",
              "    </tr>\n",
              "    <tr>\n",
              "      <th>6</th>\n",
              "      <td>6</td>\n",
              "      <td>Charizard</td>\n",
              "      <td>Fire</td>\n",
              "      <td>Flying</td>\n",
              "      <td>534</td>\n",
              "      <td>78</td>\n",
              "      <td>84</td>\n",
              "      <td>78</td>\n",
              "      <td>109</td>\n",
              "      <td>85</td>\n",
              "      <td>100</td>\n",
              "      <td>1</td>\n",
              "    </tr>\n",
              "    <tr>\n",
              "      <th>7</th>\n",
              "      <td>6</td>\n",
              "      <td>CharizardMega Charizard X</td>\n",
              "      <td>Fire</td>\n",
              "      <td>Dragon</td>\n",
              "      <td>634</td>\n",
              "      <td>78</td>\n",
              "      <td>130</td>\n",
              "      <td>111</td>\n",
              "      <td>130</td>\n",
              "      <td>85</td>\n",
              "      <td>100</td>\n",
              "      <td>1</td>\n",
              "    </tr>\n",
              "    <tr>\n",
              "      <th>8</th>\n",
              "      <td>6</td>\n",
              "      <td>CharizardMega Charizard Y</td>\n",
              "      <td>Fire</td>\n",
              "      <td>Flying</td>\n",
              "      <td>634</td>\n",
              "      <td>78</td>\n",
              "      <td>104</td>\n",
              "      <td>78</td>\n",
              "      <td>159</td>\n",
              "      <td>115</td>\n",
              "      <td>100</td>\n",
              "      <td>1</td>\n",
              "    </tr>\n",
              "    <tr>\n",
              "      <th>9</th>\n",
              "      <td>7</td>\n",
              "      <td>Squirtle</td>\n",
              "      <td>Water</td>\n",
              "      <td>Not yet evolving</td>\n",
              "      <td>314</td>\n",
              "      <td>44</td>\n",
              "      <td>48</td>\n",
              "      <td>65</td>\n",
              "      <td>50</td>\n",
              "      <td>64</td>\n",
              "      <td>43</td>\n",
              "      <td>1</td>\n",
              "    </tr>\n",
              "  </tbody>\n",
              "</table>\n",
              "</div>"
            ],
            "text/plain": [
              "   #                       Name Type 1  ... Penetration  Speed  Generation\n",
              "0  1                  Bulbasaur  Grass  ...          65     45           1\n",
              "1  2                    Ivysaur  Grass  ...          80     60           1\n",
              "2  3                   Venusaur  Grass  ...         100     80           1\n",
              "3  3      VenusaurMega Venusaur  Grass  ...         120     80           1\n",
              "4  4                 Charmander   Fire  ...          50     65           1\n",
              "5  5                 Charmeleon   Fire  ...          65     80           1\n",
              "6  6                  Charizard   Fire  ...          85    100           1\n",
              "7  6  CharizardMega Charizard X   Fire  ...          85    100           1\n",
              "8  6  CharizardMega Charizard Y   Fire  ...         115    100           1\n",
              "9  7                   Squirtle  Water  ...          64     43           1\n",
              "\n",
              "[10 rows x 12 columns]"
            ]
          },
          "metadata": {},
          "execution_count": 82
        }
      ]
    },
    {
      "cell_type": "markdown",
      "metadata": {
        "id": "urudBYMsCfsY"
      },
      "source": [
        "**(Assignment Rubrics)**\n",
        "###Grouping, ada 3 group yang akan saya buat :\n",
        "\n",
        "\n",
        "*   Pokemon Api (Berkaitan dengan tingkat serangan / Attack)\n",
        "*   Pokemon Batu (Berkaitan dengan tingkat pertahanan / Defense)\n",
        "*   Pokemon Listrik (Berkaitan dengan damage tambahan, critical / Ultimate)\n",
        "\n",
        "\n",
        "\n"
      ]
    },
    {
      "cell_type": "code",
      "metadata": {
        "id": "du9A7k4DnPng",
        "colab": {
          "base_uri": "https://localhost:8080/"
        },
        "outputId": "2b51d186-0e71-4a89-9f2f-a488daaba805"
      },
      "source": [
        "data[\n",
        "    (data[\"Type 1\"] == \"Fire\") &\n",
        "    (data[\"Attack\"] > 100)\n",
        "].groupby([\"Name\", \"Generation\"])[\"Total\"].count()"
      ],
      "execution_count": 83,
      "outputs": [
        {
          "output_type": "execute_result",
          "data": {
            "text/plain": [
              "Name                       Generation\n",
              "Arcanine                   1             1\n",
              "Blaziken                   3             1\n",
              "BlazikenMega Blaziken      3             1\n",
              "CameruptMega Camerupt      3             1\n",
              "CharizardMega Charizard X  1             1\n",
              "CharizardMega Charizard Y  1             1\n",
              "DarmanitanStandard Mode    5             1\n",
              "Emboar                     5             1\n",
              "Entei                      2             1\n",
              "Flareon                    1             1\n",
              "Ho-oh                      2             1\n",
              "Infernape                  4             1\n",
              "Volcanion                  6             1\n",
              "Name: Total, dtype: int64"
            ]
          },
          "metadata": {},
          "execution_count": 83
        }
      ]
    },
    {
      "cell_type": "markdown",
      "metadata": {
        "id": "rlJw5mUyENm6"
      },
      "source": [
        "###Untuk penjelasan kodenya, Filter berdasarkan kolom `\"Type 1\"` dan `\"Attack\"`. Terus group by ke kolom `Name` dan `Generation`. Yang dihitung di groupbynya adalah nilai kolom `Total` operasi count"
      ]
    },
    {
      "cell_type": "markdown",
      "metadata": {
        "id": "x15G0zinE0MC"
      },
      "source": [
        "###Untuk Grouping yang Rock sama Electric kurang lebih sama dengan yang Fire"
      ]
    },
    {
      "cell_type": "code",
      "metadata": {
        "id": "UClo-8DVnbuV",
        "colab": {
          "base_uri": "https://localhost:8080/"
        },
        "outputId": "54e7d7b5-870d-422f-8f88-16d116eca3a4"
      },
      "source": [
        "data[\n",
        "    (data[\"Type 1\"] == \"Rock\") &\n",
        "    (data[\"Defense\"] > 100)\n",
        "].groupby([\"Name\", \"Generation\"])[\"Total\"].count()"
      ],
      "execution_count": 84,
      "outputs": [
        {
          "output_type": "execute_result",
          "data": {
            "text/plain": [
              "Name                     Generation\n",
              "Barbaracle               6             1\n",
              "Bastiodon                4             1\n",
              "Boldore                  5             1\n",
              "Carbink                  6             1\n",
              "Diancie                  6             1\n",
              "DiancieMega Diancie      6             1\n",
              "Gigalith                 5             1\n",
              "Golem                    1             1\n",
              "Graveler                 1             1\n",
              "Kabutops                 1             1\n",
              "Nosepass                 3             1\n",
              "Omastar                  1             1\n",
              "Onix                     1             1\n",
              "Probopass                4             1\n",
              "Regirock                 3             1\n",
              "Shieldon                 4             1\n",
              "Sudowoodo                2             1\n",
              "Tyranitar                2             1\n",
              "TyranitarMega Tyranitar  2             1\n",
              "Tyrantrum                6             1\n",
              "Name: Total, dtype: int64"
            ]
          },
          "metadata": {},
          "execution_count": 84
        }
      ]
    },
    {
      "cell_type": "code",
      "metadata": {
        "id": "rKRGsKElolAl",
        "colab": {
          "base_uri": "https://localhost:8080/"
        },
        "outputId": "91be2c4e-3dd2-46e3-d647-c3041bb89079"
      },
      "source": [
        "data[\n",
        "    (data[\"Type 1\"] == \"Electric\") &\n",
        "    (data[\"Ultimate\"] > 120)\n",
        "].groupby([\"Name\", \"Generation\"])[\"Total\"].count()"
      ],
      "execution_count": 85,
      "outputs": [
        {
          "output_type": "execute_result",
          "data": {
            "text/plain": [
              "Name                      Generation\n",
              "AmpharosMega Ampharos     2             1\n",
              "Magnezone                 4             1\n",
              "ManectricMega Manectric   3             1\n",
              "ThundurusIncarnate Forme  5             1\n",
              "ThundurusTherian Forme    5             1\n",
              "Zapdos                    1             1\n",
              "Name: Total, dtype: int64"
            ]
          },
          "metadata": {},
          "execution_count": 85
        }
      ]
    },
    {
      "cell_type": "markdown",
      "metadata": {
        "id": "yMo9EW9NfgqP"
      },
      "source": [
        "**(Assignment Rubrics)**\n",
        "###Terakhir yang akan dilakukan pada proses eksplorasi data adalah visualisasi data."
      ]
    },
    {
      "cell_type": "markdown",
      "metadata": {
        "id": "6aUaUt_7f8Wz"
      },
      "source": [
        "###Pertama yang ingin saya visualisasikan adalah kolom Generation, untuk mengetahui perbandingan generasi antara pokemon, dengan menggunakan library seaborn yang sudah di import diatas, menggunakannya cukup dengan perintah `sns.`"
      ]
    },
    {
      "cell_type": "code",
      "metadata": {
        "id": "SCzOtjeoox1o",
        "colab": {
          "base_uri": "https://localhost:8080/",
          "height": 336
        },
        "outputId": "3b41080c-3077-49dd-ea54-75612f8af3a1"
      },
      "source": [
        "sns.countplot('Generation',data=data)\n",
        "plt.show()"
      ],
      "execution_count": 86,
      "outputs": [
        {
          "output_type": "stream",
          "name": "stderr",
          "text": [
            "/usr/local/lib/python3.7/dist-packages/seaborn/_decorators.py:43: FutureWarning: Pass the following variable as a keyword arg: x. From version 0.12, the only valid positional argument will be `data`, and passing other arguments without an explicit keyword will result in an error or misinterpretation.\n",
            "  FutureWarning\n"
          ]
        },
        {
          "output_type": "display_data",
          "data": {
            "image/png": "[encoded data removed]",
            "text/plain": [
              "<Figure size 432x288 with 1 Axes>"
            ]
          },
          "metadata": {
            "needs_background": "light"
          }
        }
      ]
    },
    {
      "cell_type": "markdown",
      "metadata": {
        "id": "JBSud1skghps"
      },
      "source": [
        "###Kemudian saya juga memvisualisasikan data kolom Generation dengan Pie chart, berikut perintahnya."
      ]
    },
    {
      "cell_type": "code",
      "metadata": {
        "id": "rJHxCAh6o1zn",
        "colab": {
          "base_uri": "https://localhost:8080/",
          "height": 411
        },
        "outputId": "9d7a2d61-9754-468f-f7f4-79a2342608cc"
      },
      "source": [
        "data['Generation'].value_counts().plot.pie(explode=[0.1,0.1,0.1,0.1,0.1,0.1],autopct='%1.1f%%',shadow=True,figsize=(10,7))\n",
        "plt.show()"
      ],
      "execution_count": 87,
      "outputs": [
        {
          "output_type": "display_data",
          "data": {
            "image/png": "[encoded data removed]",
            "text/plain": [
              "<Figure size 720x504 with 1 Axes>"
            ]
          },
          "metadata": {}
        }
      ]
    },
    {
      "cell_type": "markdown",
      "metadata": {
        "id": "6jSo1TihhZC5"
      },
      "source": [
        "###Penambahan visualisasi data pie chart kolom Type 1"
      ]
    },
    {
      "cell_type": "code",
      "metadata": {
        "colab": {
          "base_uri": "https://localhost:8080/",
          "height": 411
        },
        "id": "nXxcmbBDfdgA",
        "outputId": "36a03479-44a5-409b-819d-667ce5fb320d"
      },
      "source": [
        "data['Type 1'].value_counts().plot.pie(explode=[0.1,0.1,0.1,\n",
        "                                                    0.1,0.1,0.1,\n",
        "                                                    0.1,0.1,0.1,\n",
        "                                                    0.1,0.1,0.1,\n",
        "                                                    0.1,0.1,0.1,\n",
        "                                                    0.1,0.1,0.1],autopct='%1.1f%%',shadow=True,figsize=(10,7))\n",
        "plt.show()"
      ],
      "execution_count": 88,
      "outputs": [
        {
          "output_type": "display_data",
          "data": {
            "image/png": "[encoded data removed]",
            "text/plain": [
              "<Figure size 720x504 with 1 Axes>"
            ]
          },
          "metadata": {}
        }
      ]
    },
    {
      "cell_type": "markdown",
      "metadata": {
        "id": "TbNHxT3DjTWn"
      },
      "source": [
        "##**STEP 6 : Pengambilan Kesimpulan**\n",
        "###Pada bab terakhir ini, harus berisi kesimpulan yang mencerminkan hasil yang didapat dengan dibandingkan dengan objective yang sudah ditulis di bagian pengenalan."
      ]
    },
    {
      "cell_type": "markdown",
      "metadata": {
        "id": "oRKUwYY4hjIS"
      },
      "source": [
        "##Kesimpulan yang bisa saya ambil adalah :\n",
        "###Ketika ingin menganalisis suatu data perlu di breakdown terlebih dahulu dan perlu mengetahui data apa yang akan kita olah, mulai dari mengecek tiap kolom apa saja yang tersedia, berapa jumlah banyak data, adakah nama kolom yang perlu dirubah, menghapus tabel yang kira-kira tidak dugunakan dan adakah missing value pada data tersebut.\n",
        "##Setelah berhasil melakukan proses cleaning data, lanjut ke tahap eksplorasi data, untuk mengelompokan data lebih dalam dengan membuat suatu query baru atau mengelompokan beberapa kolom menjadi 1 group.\n",
        "##Terakhir memvisualisasikan data untuk melihat data pada suatu kolom lebih jelas."
      ]
    }
  ]
}