{
  "nbformat": 4,
  "nbformat_minor": 0,
  "metadata": {
    "colab": {
      "name": "h8dsft_P0W3.ipynb",
      "provenance": [],
      "collapsed_sections": []
    },
    "kernelspec": {
      "name": "python3",
      "display_name": "Python 3"
    },
    "language_info": {
      "name": "python"
    }
  },
  "cells": [
    {
      "cell_type": "markdown",
      "metadata": {
        "id": "8lEbFUtInvGe"
      },
      "source": [
        "#**Graded Challenge 3**\n",
        "\n",
        "#By : Muhammad Rizki Herfian (Batch 004)\n",
        "\n",
        "#**STEP 1 : INTRODUCTION**:\n",
        "\n",
        "> *Graded Challenge 3* ini dibuat guna mengevaluasi Practical Statistics sebagai berikut:\n",
        "- Mampu memuat data dengan Pandas \n",
        "- Mampu menangani missing values pada dataset\n",
        "- Mampu melakukan manipulasi kolom\n",
        "- Mampu membuat query terhadap dataset\n",
        "- Mampu melakukan grouping terhadap dataset\n",
        "- Mampu melakukan visualisasi sederhana menggunakan Pandas\n"
      ]
    },
    {
      "cell_type": "markdown",
      "metadata": {
        "id": "v-J1nvgNoSxW"
      },
      "source": [
        "#**STEP 2: IMPORT LIBRARY**\n",
        "Bagian pertama pada notebook ini berisi importing semua library yang digunakan dalam project."
      ]
    },
    {
      "cell_type": "code",
      "metadata": {
        "id": "NJP7lgpugcWS",
        "colab": {
          "base_uri": "https://localhost:8080/"
        },
        "outputId": "0f644589-db91-427d-8c59-8a59441a0c78"
      },
      "source": [
        "import pandas as pd\n",
        "import numpy as np\n",
        "import matplotlib.pyplot as plt\n",
        "import scipy as sp\n",
        "import scipy.stats as stats\n",
        "import seaborn as sns\n",
        "import datetime\n",
        "import statsmodels.api as sm\n",
        "import statsmodels.formula.api as smf\n",
        "from statsmodels.stats.anova import anova_lm\n",
        "import statsmodels.stats.multicomp as multi"
      ],
      "execution_count": 1,
      "outputs": [
        {
          "output_type": "stream",
          "name": "stderr",
          "text": [
            "/usr/local/lib/python3.7/dist-packages/statsmodels/tools/_testing.py:19: FutureWarning: pandas.util.testing is deprecated. Use the functions in the public API at pandas.testing instead.\n",
            "  import pandas.util.testing as tm\n"
          ]
        }
      ]
    },
    {
      "cell_type": "markdown",
      "metadata": {
        "id": "0ptAkbwbrOzr"
      },
      "source": [
        "Fungsi melakukan `'display.float_format'` berguna untuk hanya mengambil 3 angka dibelakang koma untuk nilai float yang memiliki nilai angka dibelakang koma terlalu banyak (e)."
      ]
    },
    {
      "cell_type": "code",
      "metadata": {
        "id": "T_xddZcnQDUO"
      },
      "source": [
        "pd.set_option('display.float_format', lambda x: '%.3f' % x)"
      ],
      "execution_count": 2,
      "outputs": []
    },
    {
      "cell_type": "markdown",
      "metadata": {
        "id": "Moy86prEr9Xh"
      },
      "source": [
        "Import drive untuk mengkoneksikan google collab dengan google drive dan collab bisa mengakses file yang ada di google drive."
      ]
    },
    {
      "cell_type": "code",
      "metadata": {
        "colab": {
          "base_uri": "https://localhost:8080/"
        },
        "id": "jMT2JFvICkRu",
        "outputId": "005835d0-1de9-4baf-b76c-0a0007f7abf2"
      },
      "source": [
        "from google.colab import drive\n",
        "drive.mount('/content/drive')"
      ],
      "execution_count": 3,
      "outputs": [
        {
          "output_type": "stream",
          "name": "stdout",
          "text": [
            "Drive already mounted at /content/drive; to attempt to forcibly remount, call drive.mount(\"/content/drive\", force_remount=True).\n"
          ]
        }
      ]
    },
    {
      "cell_type": "markdown",
      "metadata": {
        "id": "U0AGUvTmpJTm"
      },
      "source": [
        "#**STEP 3: DATA LOADING**\n",
        "Bagian ini berisi proses data loading yang kemudian dilanjutkan dengan explorasi data secara sederhana."
      ]
    },
    {
      "cell_type": "markdown",
      "metadata": {
        "id": "A1RLVkewsOh1"
      },
      "source": [
        "Membaca data yang tersimpan di path google drive:"
      ]
    },
    {
      "cell_type": "code",
      "metadata": {
        "id": "g8p7FfsDhlmQ"
      },
      "source": [
        "datas = pd.read_csv('/content/drive/MyDrive/Colab Notebooks/Hacktiv8/Graded Challenge/ks-projects-201801.csv')"
      ],
      "execution_count": 4,
      "outputs": []
    },
    {
      "cell_type": "markdown",
      "metadata": {
        "id": "rmZrGLNasXrc"
      },
      "source": [
        "Setelah berhasil membaca data, kemudian melakukan eksplorasi data secara sederhana."
      ]
    },
    {
      "cell_type": "code",
      "metadata": {
        "colab": {
          "base_uri": "https://localhost:8080/",
          "height": 937
        },
        "id": "fmdRFEMyjRZi",
        "outputId": "dcc8162b-7b74-4ac2-a80a-16bee8992192"
      },
      "source": [
        "datas.head(10)"
      ],
      "execution_count": 5,
      "outputs": [
        {
          "output_type": "execute_result",
          "data": {
            "text/html": [
              "<div>\n",
              "<style scoped>\n",
              "    .dataframe tbody tr th:only-of-type {\n",
              "        vertical-align: middle;\n",
              "    }\n",
              "\n",
              "    .dataframe tbody tr th {\n",
              "        vertical-align: top;\n",
              "    }\n",
              "\n",
              "    .dataframe thead th {\n",
              "        text-align: right;\n",
              "    }\n",
              "</style>\n",
              "<table border=\"1\" class=\"dataframe\">\n",
              "  <thead>\n",
              "    <tr style=\"text-align: right;\">\n",
              "      <th></th>\n",
              "      <th>ID</th>\n",
              "      <th>name</th>\n",
              "      <th>category</th>\n",
              "      <th>main_category</th>\n",
              "      <th>currency</th>\n",
              "      <th>deadline</th>\n",
              "      <th>goal</th>\n",
              "      <th>launched</th>\n",
              "      <th>pledged</th>\n",
              "      <th>state</th>\n",
              "      <th>backers</th>\n",
              "      <th>country</th>\n",
              "      <th>usd pledged</th>\n",
              "      <th>usd_pledged_real</th>\n",
              "      <th>usd_goal_real</th>\n",
              "    </tr>\n",
              "  </thead>\n",
              "  <tbody>\n",
              "    <tr>\n",
              "      <th>0</th>\n",
              "      <td>1000002330</td>\n",
              "      <td>The Songs of Adelaide &amp; Abullah</td>\n",
              "      <td>Poetry</td>\n",
              "      <td>Publishing</td>\n",
              "      <td>GBP</td>\n",
              "      <td>2015-10-09</td>\n",
              "      <td>1000.000</td>\n",
              "      <td>2015-08-11 12:12:28</td>\n",
              "      <td>0.000</td>\n",
              "      <td>failed</td>\n",
              "      <td>0</td>\n",
              "      <td>GB</td>\n",
              "      <td>0.000</td>\n",
              "      <td>0.000</td>\n",
              "      <td>1533.950</td>\n",
              "    </tr>\n",
              "    <tr>\n",
              "      <th>1</th>\n",
              "      <td>1000003930</td>\n",
              "      <td>Greeting From Earth: ZGAC Arts Capsule For ET</td>\n",
              "      <td>Narrative Film</td>\n",
              "      <td>Film &amp; Video</td>\n",
              "      <td>USD</td>\n",
              "      <td>2017-11-01</td>\n",
              "      <td>30000.000</td>\n",
              "      <td>2017-09-02 04:43:57</td>\n",
              "      <td>2421.000</td>\n",
              "      <td>failed</td>\n",
              "      <td>15</td>\n",
              "      <td>US</td>\n",
              "      <td>100.000</td>\n",
              "      <td>2421.000</td>\n",
              "      <td>30000.000</td>\n",
              "    </tr>\n",
              "    <tr>\n",
              "      <th>2</th>\n",
              "      <td>1000004038</td>\n",
              "      <td>Where is Hank?</td>\n",
              "      <td>Narrative Film</td>\n",
              "      <td>Film &amp; Video</td>\n",
              "      <td>USD</td>\n",
              "      <td>2013-02-26</td>\n",
              "      <td>45000.000</td>\n",
              "      <td>2013-01-12 00:20:50</td>\n",
              "      <td>220.000</td>\n",
              "      <td>failed</td>\n",
              "      <td>3</td>\n",
              "      <td>US</td>\n",
              "      <td>220.000</td>\n",
              "      <td>220.000</td>\n",
              "      <td>45000.000</td>\n",
              "    </tr>\n",
              "    <tr>\n",
              "      <th>3</th>\n",
              "      <td>1000007540</td>\n",
              "      <td>ToshiCapital Rekordz Needs Help to Complete Album</td>\n",
              "      <td>Music</td>\n",
              "      <td>Music</td>\n",
              "      <td>USD</td>\n",
              "      <td>2012-04-16</td>\n",
              "      <td>5000.000</td>\n",
              "      <td>2012-03-17 03:24:11</td>\n",
              "      <td>1.000</td>\n",
              "      <td>failed</td>\n",
              "      <td>1</td>\n",
              "      <td>US</td>\n",
              "      <td>1.000</td>\n",
              "      <td>1.000</td>\n",
              "      <td>5000.000</td>\n",
              "    </tr>\n",
              "    <tr>\n",
              "      <th>4</th>\n",
              "      <td>1000011046</td>\n",
              "      <td>Community Film Project: The Art of Neighborhoo...</td>\n",
              "      <td>Film &amp; Video</td>\n",
              "      <td>Film &amp; Video</td>\n",
              "      <td>USD</td>\n",
              "      <td>2015-08-29</td>\n",
              "      <td>19500.000</td>\n",
              "      <td>2015-07-04 08:35:03</td>\n",
              "      <td>1283.000</td>\n",
              "      <td>canceled</td>\n",
              "      <td>14</td>\n",
              "      <td>US</td>\n",
              "      <td>1283.000</td>\n",
              "      <td>1283.000</td>\n",
              "      <td>19500.000</td>\n",
              "    </tr>\n",
              "    <tr>\n",
              "      <th>5</th>\n",
              "      <td>1000014025</td>\n",
              "      <td>Monarch Espresso Bar</td>\n",
              "      <td>Restaurants</td>\n",
              "      <td>Food</td>\n",
              "      <td>USD</td>\n",
              "      <td>2016-04-01</td>\n",
              "      <td>50000.000</td>\n",
              "      <td>2016-02-26 13:38:27</td>\n",
              "      <td>52375.000</td>\n",
              "      <td>successful</td>\n",
              "      <td>224</td>\n",
              "      <td>US</td>\n",
              "      <td>52375.000</td>\n",
              "      <td>52375.000</td>\n",
              "      <td>50000.000</td>\n",
              "    </tr>\n",
              "    <tr>\n",
              "      <th>6</th>\n",
              "      <td>1000023410</td>\n",
              "      <td>Support Solar Roasted Coffee &amp; Green Energy!  ...</td>\n",
              "      <td>Food</td>\n",
              "      <td>Food</td>\n",
              "      <td>USD</td>\n",
              "      <td>2014-12-21</td>\n",
              "      <td>1000.000</td>\n",
              "      <td>2014-12-01 18:30:44</td>\n",
              "      <td>1205.000</td>\n",
              "      <td>successful</td>\n",
              "      <td>16</td>\n",
              "      <td>US</td>\n",
              "      <td>1205.000</td>\n",
              "      <td>1205.000</td>\n",
              "      <td>1000.000</td>\n",
              "    </tr>\n",
              "    <tr>\n",
              "      <th>7</th>\n",
              "      <td>1000030581</td>\n",
              "      <td>Chaser Strips. Our Strips make Shots their B*tch!</td>\n",
              "      <td>Drinks</td>\n",
              "      <td>Food</td>\n",
              "      <td>USD</td>\n",
              "      <td>2016-03-17</td>\n",
              "      <td>25000.000</td>\n",
              "      <td>2016-02-01 20:05:12</td>\n",
              "      <td>453.000</td>\n",
              "      <td>failed</td>\n",
              "      <td>40</td>\n",
              "      <td>US</td>\n",
              "      <td>453.000</td>\n",
              "      <td>453.000</td>\n",
              "      <td>25000.000</td>\n",
              "    </tr>\n",
              "    <tr>\n",
              "      <th>8</th>\n",
              "      <td>1000034518</td>\n",
              "      <td>SPIN - Premium Retractable In-Ear Headphones w...</td>\n",
              "      <td>Product Design</td>\n",
              "      <td>Design</td>\n",
              "      <td>USD</td>\n",
              "      <td>2014-05-29</td>\n",
              "      <td>125000.000</td>\n",
              "      <td>2014-04-24 18:14:43</td>\n",
              "      <td>8233.000</td>\n",
              "      <td>canceled</td>\n",
              "      <td>58</td>\n",
              "      <td>US</td>\n",
              "      <td>8233.000</td>\n",
              "      <td>8233.000</td>\n",
              "      <td>125000.000</td>\n",
              "    </tr>\n",
              "    <tr>\n",
              "      <th>9</th>\n",
              "      <td>100004195</td>\n",
              "      <td>STUDIO IN THE SKY - A Documentary Feature Film...</td>\n",
              "      <td>Documentary</td>\n",
              "      <td>Film &amp; Video</td>\n",
              "      <td>USD</td>\n",
              "      <td>2014-08-10</td>\n",
              "      <td>65000.000</td>\n",
              "      <td>2014-07-11 21:55:48</td>\n",
              "      <td>6240.570</td>\n",
              "      <td>canceled</td>\n",
              "      <td>43</td>\n",
              "      <td>US</td>\n",
              "      <td>6240.570</td>\n",
              "      <td>6240.570</td>\n",
              "      <td>65000.000</td>\n",
              "    </tr>\n",
              "  </tbody>\n",
              "</table>\n",
              "</div>"
            ],
            "text/plain": [
              "           ID  ... usd_goal_real\n",
              "0  1000002330  ...      1533.950\n",
              "1  1000003930  ...     30000.000\n",
              "2  1000004038  ...     45000.000\n",
              "3  1000007540  ...      5000.000\n",
              "4  1000011046  ...     19500.000\n",
              "5  1000014025  ...     50000.000\n",
              "6  1000023410  ...      1000.000\n",
              "7  1000030581  ...     25000.000\n",
              "8  1000034518  ...    125000.000\n",
              "9   100004195  ...     65000.000\n",
              "\n",
              "[10 rows x 15 columns]"
            ]
          },
          "metadata": {},
          "execution_count": 5
        }
      ]
    },
    {
      "cell_type": "code",
      "metadata": {
        "colab": {
          "base_uri": "https://localhost:8080/",
          "height": 49
        },
        "id": "rb9TdMHP0oQt",
        "outputId": "5ccbd6fb-4a9a-48c1-a79d-1f9678853d18"
      },
      "source": [
        "datas[15000:1510]"
      ],
      "execution_count": 6,
      "outputs": [
        {
          "output_type": "execute_result",
          "data": {
            "text/html": [
              "<div>\n",
              "<style scoped>\n",
              "    .dataframe tbody tr th:only-of-type {\n",
              "        vertical-align: middle;\n",
              "    }\n",
              "\n",
              "    .dataframe tbody tr th {\n",
              "        vertical-align: top;\n",
              "    }\n",
              "\n",
              "    .dataframe thead th {\n",
              "        text-align: right;\n",
              "    }\n",
              "</style>\n",
              "<table border=\"1\" class=\"dataframe\">\n",
              "  <thead>\n",
              "    <tr style=\"text-align: right;\">\n",
              "      <th></th>\n",
              "      <th>ID</th>\n",
              "      <th>name</th>\n",
              "      <th>category</th>\n",
              "      <th>main_category</th>\n",
              "      <th>currency</th>\n",
              "      <th>deadline</th>\n",
              "      <th>goal</th>\n",
              "      <th>launched</th>\n",
              "      <th>pledged</th>\n",
              "      <th>state</th>\n",
              "      <th>backers</th>\n",
              "      <th>country</th>\n",
              "      <th>usd pledged</th>\n",
              "      <th>usd_pledged_real</th>\n",
              "      <th>usd_goal_real</th>\n",
              "    </tr>\n",
              "  </thead>\n",
              "  <tbody>\n",
              "  </tbody>\n",
              "</table>\n",
              "</div>"
            ],
            "text/plain": [
              "Empty DataFrame\n",
              "Columns: [ID, name, category, main_category, currency, deadline, goal, launched, pledged, state, backers, country, usd pledged, usd_pledged_real, usd_goal_real]\n",
              "Index: []"
            ]
          },
          "metadata": {},
          "execution_count": 6
        }
      ]
    },
    {
      "cell_type": "code",
      "metadata": {
        "colab": {
          "base_uri": "https://localhost:8080/",
          "height": 851
        },
        "id": "_AuiZkUO0q9s",
        "outputId": "299e04c0-c79c-4c65-cda4-f7404594ae03"
      },
      "source": [
        "datas.tail(10)"
      ],
      "execution_count": 7,
      "outputs": [
        {
          "output_type": "execute_result",
          "data": {
            "text/html": [
              "<div>\n",
              "<style scoped>\n",
              "    .dataframe tbody tr th:only-of-type {\n",
              "        vertical-align: middle;\n",
              "    }\n",
              "\n",
              "    .dataframe tbody tr th {\n",
              "        vertical-align: top;\n",
              "    }\n",
              "\n",
              "    .dataframe thead th {\n",
              "        text-align: right;\n",
              "    }\n",
              "</style>\n",
              "<table border=\"1\" class=\"dataframe\">\n",
              "  <thead>\n",
              "    <tr style=\"text-align: right;\">\n",
              "      <th></th>\n",
              "      <th>ID</th>\n",
              "      <th>name</th>\n",
              "      <th>category</th>\n",
              "      <th>main_category</th>\n",
              "      <th>currency</th>\n",
              "      <th>deadline</th>\n",
              "      <th>goal</th>\n",
              "      <th>launched</th>\n",
              "      <th>pledged</th>\n",
              "      <th>state</th>\n",
              "      <th>backers</th>\n",
              "      <th>country</th>\n",
              "      <th>usd pledged</th>\n",
              "      <th>usd_pledged_real</th>\n",
              "      <th>usd_goal_real</th>\n",
              "    </tr>\n",
              "  </thead>\n",
              "  <tbody>\n",
              "    <tr>\n",
              "      <th>378651</th>\n",
              "      <td>999969812</td>\n",
              "      <td>AT THE BEACH</td>\n",
              "      <td>Classical Music</td>\n",
              "      <td>Music</td>\n",
              "      <td>CAD</td>\n",
              "      <td>2014-03-22</td>\n",
              "      <td>5000.000</td>\n",
              "      <td>2014-02-20 01:00:16</td>\n",
              "      <td>5501.000</td>\n",
              "      <td>successful</td>\n",
              "      <td>78</td>\n",
              "      <td>CA</td>\n",
              "      <td>5019.920</td>\n",
              "      <td>4983.690</td>\n",
              "      <td>4529.810</td>\n",
              "    </tr>\n",
              "    <tr>\n",
              "      <th>378652</th>\n",
              "      <td>999971898</td>\n",
              "      <td>Beach Wrestling Documentary</td>\n",
              "      <td>Documentary</td>\n",
              "      <td>Film &amp; Video</td>\n",
              "      <td>NOK</td>\n",
              "      <td>2015-04-28</td>\n",
              "      <td>20000.000</td>\n",
              "      <td>2015-03-29 21:30:33</td>\n",
              "      <td>21500.000</td>\n",
              "      <td>successful</td>\n",
              "      <td>36</td>\n",
              "      <td>NO</td>\n",
              "      <td>2698.970</td>\n",
              "      <td>2875.830</td>\n",
              "      <td>2675.190</td>\n",
              "    </tr>\n",
              "    <tr>\n",
              "      <th>378653</th>\n",
              "      <td>999972264</td>\n",
              "      <td>Islanda</td>\n",
              "      <td>Documentary</td>\n",
              "      <td>Film &amp; Video</td>\n",
              "      <td>USD</td>\n",
              "      <td>2012-03-16</td>\n",
              "      <td>1700.000</td>\n",
              "      <td>2012-02-15 04:31:10</td>\n",
              "      <td>25.000</td>\n",
              "      <td>failed</td>\n",
              "      <td>1</td>\n",
              "      <td>US</td>\n",
              "      <td>25.000</td>\n",
              "      <td>25.000</td>\n",
              "      <td>1700.000</td>\n",
              "    </tr>\n",
              "    <tr>\n",
              "      <th>378654</th>\n",
              "      <td>999975836</td>\n",
              "      <td>Homemade fresh dog food, Cleveland OH</td>\n",
              "      <td>Small Batch</td>\n",
              "      <td>Food</td>\n",
              "      <td>USD</td>\n",
              "      <td>2017-04-19</td>\n",
              "      <td>6500.000</td>\n",
              "      <td>2017-03-20 22:08:22</td>\n",
              "      <td>154.000</td>\n",
              "      <td>failed</td>\n",
              "      <td>4</td>\n",
              "      <td>US</td>\n",
              "      <td>0.000</td>\n",
              "      <td>154.000</td>\n",
              "      <td>6500.000</td>\n",
              "    </tr>\n",
              "    <tr>\n",
              "      <th>378655</th>\n",
              "      <td>999976312</td>\n",
              "      <td>Angela's Poetry (Canceled)</td>\n",
              "      <td>Poetry</td>\n",
              "      <td>Publishing</td>\n",
              "      <td>CAD</td>\n",
              "      <td>2014-09-20</td>\n",
              "      <td>5500.000</td>\n",
              "      <td>2014-08-06 03:46:07</td>\n",
              "      <td>0.000</td>\n",
              "      <td>canceled</td>\n",
              "      <td>0</td>\n",
              "      <td>CA</td>\n",
              "      <td>0.000</td>\n",
              "      <td>0.000</td>\n",
              "      <td>4949.600</td>\n",
              "    </tr>\n",
              "    <tr>\n",
              "      <th>378656</th>\n",
              "      <td>999976400</td>\n",
              "      <td>ChknTruk Nationwide Charity Drive 2014 (Canceled)</td>\n",
              "      <td>Documentary</td>\n",
              "      <td>Film &amp; Video</td>\n",
              "      <td>USD</td>\n",
              "      <td>2014-10-17</td>\n",
              "      <td>50000.000</td>\n",
              "      <td>2014-09-17 02:35:30</td>\n",
              "      <td>25.000</td>\n",
              "      <td>canceled</td>\n",
              "      <td>1</td>\n",
              "      <td>US</td>\n",
              "      <td>25.000</td>\n",
              "      <td>25.000</td>\n",
              "      <td>50000.000</td>\n",
              "    </tr>\n",
              "    <tr>\n",
              "      <th>378657</th>\n",
              "      <td>999977640</td>\n",
              "      <td>The Tribe</td>\n",
              "      <td>Narrative Film</td>\n",
              "      <td>Film &amp; Video</td>\n",
              "      <td>USD</td>\n",
              "      <td>2011-07-19</td>\n",
              "      <td>1500.000</td>\n",
              "      <td>2011-06-22 03:35:14</td>\n",
              "      <td>155.000</td>\n",
              "      <td>failed</td>\n",
              "      <td>5</td>\n",
              "      <td>US</td>\n",
              "      <td>155.000</td>\n",
              "      <td>155.000</td>\n",
              "      <td>1500.000</td>\n",
              "    </tr>\n",
              "    <tr>\n",
              "      <th>378658</th>\n",
              "      <td>999986353</td>\n",
              "      <td>Walls of Remedy- New lesbian Romantic Comedy f...</td>\n",
              "      <td>Narrative Film</td>\n",
              "      <td>Film &amp; Video</td>\n",
              "      <td>USD</td>\n",
              "      <td>2010-08-16</td>\n",
              "      <td>15000.000</td>\n",
              "      <td>2010-07-01 19:40:30</td>\n",
              "      <td>20.000</td>\n",
              "      <td>failed</td>\n",
              "      <td>1</td>\n",
              "      <td>US</td>\n",
              "      <td>20.000</td>\n",
              "      <td>20.000</td>\n",
              "      <td>15000.000</td>\n",
              "    </tr>\n",
              "    <tr>\n",
              "      <th>378659</th>\n",
              "      <td>999987933</td>\n",
              "      <td>BioDefense Education Kit</td>\n",
              "      <td>Technology</td>\n",
              "      <td>Technology</td>\n",
              "      <td>USD</td>\n",
              "      <td>2016-02-13</td>\n",
              "      <td>15000.000</td>\n",
              "      <td>2016-01-13 18:13:53</td>\n",
              "      <td>200.000</td>\n",
              "      <td>failed</td>\n",
              "      <td>6</td>\n",
              "      <td>US</td>\n",
              "      <td>200.000</td>\n",
              "      <td>200.000</td>\n",
              "      <td>15000.000</td>\n",
              "    </tr>\n",
              "    <tr>\n",
              "      <th>378660</th>\n",
              "      <td>999988282</td>\n",
              "      <td>Nou Renmen Ayiti!  We Love Haiti!</td>\n",
              "      <td>Performance Art</td>\n",
              "      <td>Art</td>\n",
              "      <td>USD</td>\n",
              "      <td>2011-08-16</td>\n",
              "      <td>2000.000</td>\n",
              "      <td>2011-07-19 09:07:47</td>\n",
              "      <td>524.000</td>\n",
              "      <td>failed</td>\n",
              "      <td>17</td>\n",
              "      <td>US</td>\n",
              "      <td>524.000</td>\n",
              "      <td>524.000</td>\n",
              "      <td>2000.000</td>\n",
              "    </tr>\n",
              "  </tbody>\n",
              "</table>\n",
              "</div>"
            ],
            "text/plain": [
              "               ID  ... usd_goal_real\n",
              "378651  999969812  ...      4529.810\n",
              "378652  999971898  ...      2675.190\n",
              "378653  999972264  ...      1700.000\n",
              "378654  999975836  ...      6500.000\n",
              "378655  999976312  ...      4949.600\n",
              "378656  999976400  ...     50000.000\n",
              "378657  999977640  ...      1500.000\n",
              "378658  999986353  ...     15000.000\n",
              "378659  999987933  ...     15000.000\n",
              "378660  999988282  ...      2000.000\n",
              "\n",
              "[10 rows x 15 columns]"
            ]
          },
          "metadata": {},
          "execution_count": 7
        }
      ]
    },
    {
      "cell_type": "markdown",
      "metadata": {
        "id": "xYG4jyhRsmGZ"
      },
      "source": [
        "`.shape` untuk melihat jumlah banyak baris dan kolom"
      ]
    },
    {
      "cell_type": "code",
      "metadata": {
        "colab": {
          "base_uri": "https://localhost:8080/"
        },
        "id": "-oCvZk_8jdhA",
        "outputId": "32df1959-dc11-44cf-e92e-dd71d7fff21d"
      },
      "source": [
        "datas.shape"
      ],
      "execution_count": 8,
      "outputs": [
        {
          "output_type": "execute_result",
          "data": {
            "text/plain": [
              "(378661, 15)"
            ]
          },
          "metadata": {},
          "execution_count": 8
        }
      ]
    },
    {
      "cell_type": "markdown",
      "metadata": {
        "id": "Q8FD9fJtswxo"
      },
      "source": [
        "`.info` untuk melihat data lebih detail dari `.shape` dan diketahui juga tipe data dari tiap kolom."
      ]
    },
    {
      "cell_type": "code",
      "metadata": {
        "colab": {
          "base_uri": "https://localhost:8080/"
        },
        "id": "-8sUXOXEjV9v",
        "outputId": "d373e3cc-b70f-4d92-d607-c72b2bfbc11f"
      },
      "source": [
        "datas.info()"
      ],
      "execution_count": 9,
      "outputs": [
        {
          "output_type": "stream",
          "name": "stdout",
          "text": [
            "<class 'pandas.core.frame.DataFrame'>\n",
            "RangeIndex: 378661 entries, 0 to 378660\n",
            "Data columns (total 15 columns):\n",
            " #   Column            Non-Null Count   Dtype  \n",
            "---  ------            --------------   -----  \n",
            " 0   ID                378661 non-null  int64  \n",
            " 1   name              378657 non-null  object \n",
            " 2   category          378661 non-null  object \n",
            " 3   main_category     378661 non-null  object \n",
            " 4   currency          378661 non-null  object \n",
            " 5   deadline          378661 non-null  object \n",
            " 6   goal              378661 non-null  float64\n",
            " 7   launched          378661 non-null  object \n",
            " 8   pledged           378661 non-null  float64\n",
            " 9   state             378661 non-null  object \n",
            " 10  backers           378661 non-null  int64  \n",
            " 11  country           378661 non-null  object \n",
            " 12  usd pledged       374864 non-null  float64\n",
            " 13  usd_pledged_real  378661 non-null  float64\n",
            " 14  usd_goal_real     378661 non-null  float64\n",
            "dtypes: float64(5), int64(2), object(8)\n",
            "memory usage: 43.3+ MB\n"
          ]
        }
      ]
    },
    {
      "cell_type": "markdown",
      "metadata": {
        "id": "gxlvRfn8s_6b"
      },
      "source": [
        "`.isnull().sum()` untuk melihat kolom yang memiliki nilai nan"
      ]
    },
    {
      "cell_type": "code",
      "metadata": {
        "colab": {
          "base_uri": "https://localhost:8080/"
        },
        "id": "5j1EyzRFnjrr",
        "outputId": "95c5733b-6aef-4d00-d4ae-34a167ef9126"
      },
      "source": [
        "datas.isnull().sum()"
      ],
      "execution_count": 10,
      "outputs": [
        {
          "output_type": "execute_result",
          "data": {
            "text/plain": [
              "ID                     0\n",
              "name                   4\n",
              "category               0\n",
              "main_category          0\n",
              "currency               0\n",
              "deadline               0\n",
              "goal                   0\n",
              "launched               0\n",
              "pledged                0\n",
              "state                  0\n",
              "backers                0\n",
              "country                0\n",
              "usd pledged         3797\n",
              "usd_pledged_real       0\n",
              "usd_goal_real          0\n",
              "dtype: int64"
            ]
          },
          "metadata": {},
          "execution_count": 10
        }
      ]
    },
    {
      "cell_type": "code",
      "metadata": {
        "colab": {
          "base_uri": "https://localhost:8080/",
          "height": 300
        },
        "id": "4VdFuaMdjDxQ",
        "outputId": "a27e220f-8aff-4563-b229-01d1ce53c229"
      },
      "source": [
        "datas.describe()"
      ],
      "execution_count": 11,
      "outputs": [
        {
          "output_type": "execute_result",
          "data": {
            "text/html": [
              "<div>\n",
              "<style scoped>\n",
              "    .dataframe tbody tr th:only-of-type {\n",
              "        vertical-align: middle;\n",
              "    }\n",
              "\n",
              "    .dataframe tbody tr th {\n",
              "        vertical-align: top;\n",
              "    }\n",
              "\n",
              "    .dataframe thead th {\n",
              "        text-align: right;\n",
              "    }\n",
              "</style>\n",
              "<table border=\"1\" class=\"dataframe\">\n",
              "  <thead>\n",
              "    <tr style=\"text-align: right;\">\n",
              "      <th></th>\n",
              "      <th>ID</th>\n",
              "      <th>goal</th>\n",
              "      <th>pledged</th>\n",
              "      <th>backers</th>\n",
              "      <th>usd pledged</th>\n",
              "      <th>usd_pledged_real</th>\n",
              "      <th>usd_goal_real</th>\n",
              "    </tr>\n",
              "  </thead>\n",
              "  <tbody>\n",
              "    <tr>\n",
              "      <th>count</th>\n",
              "      <td>378661.000</td>\n",
              "      <td>378661.000</td>\n",
              "      <td>378661.000</td>\n",
              "      <td>378661.000</td>\n",
              "      <td>374864.000</td>\n",
              "      <td>378661.000</td>\n",
              "      <td>378661.000</td>\n",
              "    </tr>\n",
              "    <tr>\n",
              "      <th>mean</th>\n",
              "      <td>1074731191.989</td>\n",
              "      <td>49080.792</td>\n",
              "      <td>9682.979</td>\n",
              "      <td>105.617</td>\n",
              "      <td>7036.729</td>\n",
              "      <td>9058.924</td>\n",
              "      <td>45454.401</td>\n",
              "    </tr>\n",
              "    <tr>\n",
              "      <th>std</th>\n",
              "      <td>619086204.323</td>\n",
              "      <td>1183391.259</td>\n",
              "      <td>95636.010</td>\n",
              "      <td>907.185</td>\n",
              "      <td>78639.745</td>\n",
              "      <td>90973.343</td>\n",
              "      <td>1152950.055</td>\n",
              "    </tr>\n",
              "    <tr>\n",
              "      <th>min</th>\n",
              "      <td>5971.000</td>\n",
              "      <td>0.010</td>\n",
              "      <td>0.000</td>\n",
              "      <td>0.000</td>\n",
              "      <td>0.000</td>\n",
              "      <td>0.000</td>\n",
              "      <td>0.010</td>\n",
              "    </tr>\n",
              "    <tr>\n",
              "      <th>25%</th>\n",
              "      <td>538263516.000</td>\n",
              "      <td>2000.000</td>\n",
              "      <td>30.000</td>\n",
              "      <td>2.000</td>\n",
              "      <td>16.980</td>\n",
              "      <td>31.000</td>\n",
              "      <td>2000.000</td>\n",
              "    </tr>\n",
              "    <tr>\n",
              "      <th>50%</th>\n",
              "      <td>1075275634.000</td>\n",
              "      <td>5200.000</td>\n",
              "      <td>620.000</td>\n",
              "      <td>12.000</td>\n",
              "      <td>394.720</td>\n",
              "      <td>624.330</td>\n",
              "      <td>5500.000</td>\n",
              "    </tr>\n",
              "    <tr>\n",
              "      <th>75%</th>\n",
              "      <td>1610148624.000</td>\n",
              "      <td>16000.000</td>\n",
              "      <td>4076.000</td>\n",
              "      <td>56.000</td>\n",
              "      <td>3034.090</td>\n",
              "      <td>4050.000</td>\n",
              "      <td>15500.000</td>\n",
              "    </tr>\n",
              "    <tr>\n",
              "      <th>max</th>\n",
              "      <td>2147476221.000</td>\n",
              "      <td>100000000.000</td>\n",
              "      <td>20338986.270</td>\n",
              "      <td>219382.000</td>\n",
              "      <td>20338986.270</td>\n",
              "      <td>20338986.270</td>\n",
              "      <td>166361390.710</td>\n",
              "    </tr>\n",
              "  </tbody>\n",
              "</table>\n",
              "</div>"
            ],
            "text/plain": [
              "                  ID          goal  ...  usd_pledged_real  usd_goal_real\n",
              "count     378661.000    378661.000  ...        378661.000     378661.000\n",
              "mean  1074731191.989     49080.792  ...          9058.924      45454.401\n",
              "std    619086204.323   1183391.259  ...         90973.343    1152950.055\n",
              "min         5971.000         0.010  ...             0.000          0.010\n",
              "25%    538263516.000      2000.000  ...            31.000       2000.000\n",
              "50%   1075275634.000      5200.000  ...           624.330       5500.000\n",
              "75%   1610148624.000     16000.000  ...          4050.000      15500.000\n",
              "max   2147476221.000 100000000.000  ...      20338986.270  166361390.710\n",
              "\n",
              "[8 rows x 7 columns]"
            ]
          },
          "metadata": {},
          "execution_count": 11
        }
      ]
    },
    {
      "cell_type": "markdown",
      "metadata": {
        "id": "BsMjUS5_r3W9"
      },
      "source": [
        "#**STEP 4: DATA CLEANING**\n",
        "Bagian ini berisi proses penyiapan data berupa data cleaning sebelum dilakukan explorasi data lebih lanjut. Proses cleaning dapat berupa memberi nama baru untuk setiap kolom, mengisi missing values, menghapus kolom yang tidak dipakai, dan lain sebagainya."
      ]
    },
    {
      "cell_type": "markdown",
      "metadata": {
        "id": "bmbPHQvQtLf8"
      },
      "source": [
        "Pertama melakukan copy pada datas untuk menyimpan formasi data asli."
      ]
    },
    {
      "cell_type": "code",
      "metadata": {
        "id": "K2cnSIVhp5oJ"
      },
      "source": [
        "dtc = datas.copy()"
      ],
      "execution_count": 12,
      "outputs": []
    },
    {
      "cell_type": "markdown",
      "metadata": {
        "id": "l7jwz3ZEtXjX"
      },
      "source": [
        "Mengisi missing values pada kolom name dan usd pledged dengan nilai sebagai berikut:"
      ]
    },
    {
      "cell_type": "code",
      "metadata": {
        "id": "yAjcbnBTsGfD"
      },
      "source": [
        "dtc['name'].fillna('-', inplace =True)\n",
        "dtc['usd pledged'].fillna(0, inplace =True)"
      ],
      "execution_count": 13,
      "outputs": []
    },
    {
      "cell_type": "markdown",
      "metadata": {
        "id": "fR_7atU1tgYy"
      },
      "source": [
        "Cek kembali apakah masih terdapat missing values."
      ]
    },
    {
      "cell_type": "code",
      "metadata": {
        "colab": {
          "base_uri": "https://localhost:8080/"
        },
        "id": "tyBXGhf8qYoq",
        "outputId": "82a08a34-2746-45c8-86f9-29d1be8c7a9e"
      },
      "source": [
        "dtc.isnull().sum()"
      ],
      "execution_count": 14,
      "outputs": [
        {
          "output_type": "execute_result",
          "data": {
            "text/plain": [
              "ID                  0\n",
              "name                0\n",
              "category            0\n",
              "main_category       0\n",
              "currency            0\n",
              "deadline            0\n",
              "goal                0\n",
              "launched            0\n",
              "pledged             0\n",
              "state               0\n",
              "backers             0\n",
              "country             0\n",
              "usd pledged         0\n",
              "usd_pledged_real    0\n",
              "usd_goal_real       0\n",
              "dtype: int64"
            ]
          },
          "metadata": {},
          "execution_count": 14
        }
      ]
    },
    {
      "cell_type": "markdown",
      "metadata": {
        "id": "S1Ur6ROmtl2K"
      },
      "source": [
        "merubah nama kolom usd pledged, mengganti spasi dengan _ untuk memudahkan pengelolaan data."
      ]
    },
    {
      "cell_type": "code",
      "metadata": {
        "id": "vmMLdj3rsZRR"
      },
      "source": [
        "dtc = dtc.rename(columns = {\"usd pledged\" : \"usd_pledged\"})"
      ],
      "execution_count": 15,
      "outputs": []
    },
    {
      "cell_type": "markdown",
      "metadata": {
        "id": "KFNTHNB4tzHM"
      },
      "source": [
        "`.columns` mengecek semua kolom yang tersedia pada data."
      ]
    },
    {
      "cell_type": "code",
      "metadata": {
        "colab": {
          "base_uri": "https://localhost:8080/"
        },
        "id": "TqPvjhM-jyLv",
        "outputId": "c45e3ba7-3903-4dbc-f3ba-9bc0e52563ad"
      },
      "source": [
        "datas.columns"
      ],
      "execution_count": 16,
      "outputs": [
        {
          "output_type": "execute_result",
          "data": {
            "text/plain": [
              "Index(['ID', 'name', 'category', 'main_category', 'currency', 'deadline',\n",
              "       'goal', 'launched', 'pledged', 'state', 'backers', 'country',\n",
              "       'usd pledged', 'usd_pledged_real', 'usd_goal_real'],\n",
              "      dtype='object')"
            ]
          },
          "metadata": {},
          "execution_count": 16
        }
      ]
    },
    {
      "cell_type": "markdown",
      "metadata": {
        "id": "_cu3u11OuFlS"
      },
      "source": [
        "#**STEP 5: EXPLORASI DATA**\n",
        "Bagian ini berisi explorasi data pada dataset diatas dengan menggunakan query, grouping, visualisasi sederhana, dan lain sebagainya."
      ]
    },
    {
      "cell_type": "code",
      "metadata": {
        "colab": {
          "base_uri": "https://localhost:8080/",
          "height": 295
        },
        "id": "J74pfHjNsqrl",
        "outputId": "56b65235-aa15-444a-f528-9be43c5cbdf2"
      },
      "source": [
        "dtc['usd_pledged_real'].plot.hist(bins=5)\n",
        "plt.axvline(dtc['pledged'].describe()['mean'], color='red', linestyle='dashed', linewidth=2)\n",
        "plt.axvline(dtc['pledged'].describe()['50%'], color='magenta', linestyle='dashed', linewidth=2)\n",
        "plt.axvline(dtc['pledged'].describe()['mean'] + dtc['goal'].describe()['std'], color='green', linestyle='dashed', linewidth=2)"
      ],
      "execution_count": 17,
      "outputs": [
        {
          "output_type": "execute_result",
          "data": {
            "text/plain": [
              "<matplotlib.lines.Line2D at 0x7fe4a1ffda50>"
            ]
          },
          "metadata": {},
          "execution_count": 17
        },
        {
          "output_type": "display_data",
          "data": {
            "image/png": "[encoded data removed]",
            "text/plain": [
              "<Figure size 432x288 with 1 Axes>"
            ]
          },
          "metadata": {
            "needs_background": "light"
          }
        }
      ]
    },
    {
      "cell_type": "markdown",
      "metadata": {
        "id": "pQgEdzzvxj2r"
      },
      "source": [
        "#**STEP 6 : Measure of Central Tendency**\n",
        "Nilai yang akan dicari adalah:\n",
        "*   Mean (Nilai rata-rata)\n",
        "*   Median (Nilai tengah)\n",
        "*   Mode (Nilai yang paling sering muncul)\n",
        "\n",
        "Pada tiap-tiap kolom, berikut perintahnya :\n",
        "\n",
        "\n"
      ]
    },
    {
      "cell_type": "code",
      "metadata": {
        "colab": {
          "base_uri": "https://localhost:8080/"
        },
        "id": "Ku23ikIbtGY4",
        "outputId": "bb9b3545-145c-4d21-f7ba-6f532ea127b0"
      },
      "source": [
        "CT1 = ['goal','pledged','backers','usd_pledged','usd_pledged_real','usd_goal_real']\n",
        "for col in CT1:\n",
        "    print ('Mean ' + dtc[col].name + ' = ' + str(dtc[col].mean()))"
      ],
      "execution_count": 18,
      "outputs": [
        {
          "output_type": "stream",
          "name": "stdout",
          "text": [
            "Mean goal = 49080.79152056854\n",
            "Mean pledged = 9682.97933946224\n",
            "Mean backers = 105.61747578969052\n",
            "Mean usd_pledged = 6966.168499106134\n",
            "Mean usd_pledged_real = 9058.924074119337\n",
            "Mean usd_goal_real = 45454.40146545336\n"
          ]
        }
      ]
    },
    {
      "cell_type": "code",
      "metadata": {
        "colab": {
          "base_uri": "https://localhost:8080/"
        },
        "id": "RPRN-_ydtb19",
        "outputId": "522abac4-2bf7-411e-f545-4826814835cf"
      },
      "source": [
        "CT2 = ['goal','pledged','backers','usd_pledged','usd_pledged_real','usd_goal_real']\n",
        "for col in CT2:\n",
        "    print ('Median ' + dtc[col].name + ' = ' + str(dtc[col].median()))"
      ],
      "execution_count": 19,
      "outputs": [
        {
          "output_type": "stream",
          "name": "stdout",
          "text": [
            "Median goal = 5200.0\n",
            "Median pledged = 620.0\n",
            "Median backers = 12.0\n",
            "Median usd_pledged = 375.0\n",
            "Median usd_pledged_real = 624.33\n",
            "Median usd_goal_real = 5500.0\n"
          ]
        }
      ]
    },
    {
      "cell_type": "code",
      "metadata": {
        "colab": {
          "base_uri": "https://localhost:8080/"
        },
        "id": "XTr7wU3ctpgd",
        "outputId": "586e7cf1-1995-4d30-ea58-441bc25de56e"
      },
      "source": [
        "CT3 = ['goal','pledged','backers','usd_pledged','usd_pledged_real','usd_goal_real']\n",
        "for col in CT3:\n",
        "    print ('Modus ' + dtc[col].name + ' = ' + str(dtc[col].mode()[0]))"
      ],
      "execution_count": 20,
      "outputs": [
        {
          "output_type": "stream",
          "name": "stdout",
          "text": [
            "Modus goal = 5000.0\n",
            "Modus pledged = 0.0\n",
            "Modus backers = 0\n",
            "Modus usd_pledged = 0.0\n",
            "Modus usd_pledged_real = 0.0\n",
            "Modus usd_goal_real = 5000.0\n"
          ]
        }
      ]
    },
    {
      "cell_type": "markdown",
      "metadata": {
        "id": "Qy5ENBgoxYRW"
      },
      "source": [
        "##**STEP 7 : Measure of Variance**\n",
        "Nilai yang ingin saya cari dari konsep variance adalah :\n",
        "*   Measure of Variance: Range\n",
        "*   Measure of Variance: Variance\n",
        "*   Measure of Variance: Standard Deviation\n",
        "\n",
        "Berikut perintahnya :\n",
        "\n"
      ]
    },
    {
      "cell_type": "code",
      "metadata": {
        "colab": {
          "base_uri": "https://localhost:8080/"
        },
        "id": "abbPV-pYt_re",
        "outputId": "74d5eb5f-61be-41eb-c08f-4afb40eba0b5"
      },
      "source": [
        "VarR = ['goal','pledged','backers','usd_pledged','usd_pledged_real','usd_goal_real']\n",
        "for col in VarR:\n",
        "    print ('Range ' + dtc[col].name + ' = ' + str(dtc[col].max() - dtc[col].min()))"
      ],
      "execution_count": 21,
      "outputs": [
        {
          "output_type": "stream",
          "name": "stdout",
          "text": [
            "Range goal = 99999999.99\n",
            "Range pledged = 20338986.27\n",
            "Range backers = 219382\n",
            "Range usd_pledged = 20338986.27\n",
            "Range usd_pledged_real = 20338986.27\n",
            "Range usd_goal_real = 166361390.70000002\n"
          ]
        }
      ]
    },
    {
      "cell_type": "code",
      "metadata": {
        "colab": {
          "base_uri": "https://localhost:8080/"
        },
        "id": "NK2Nhfx-uHgi",
        "outputId": "1981e28b-b296-4010-f840-d6c5dde22b09"
      },
      "source": [
        "Var = ['goal','pledged','backers','usd_pledged','usd_pledged_real','usd_goal_real']\n",
        "for col in Var:\n",
        "    print ('Varians ' + dtc[col].name + ' = ' + str(dtc[col].var()))"
      ],
      "execution_count": 22,
      "outputs": [
        {
          "output_type": "stream",
          "name": "stdout",
          "text": [
            "Varians goal = 1400414872097.0361\n",
            "Varians pledged = 9146246409.673967\n",
            "Varians backers = 822984.6873539966\n",
            "Varians usd_pledged = 6122689132.431702\n",
            "Varians usd_pledged_real = 8276149156.121636\n",
            "Varians usd_goal_real = 1329293829528.3057\n"
          ]
        }
      ]
    },
    {
      "cell_type": "code",
      "metadata": {
        "colab": {
          "base_uri": "https://localhost:8080/"
        },
        "id": "_8b8ikXiuSx4",
        "outputId": "ffc6db8d-cfd4-4b6b-afe8-83ac724a8fa3"
      },
      "source": [
        "VarSt = ['goal','pledged','backers','usd_pledged','usd_pledged_real','usd_goal_real']\n",
        "for col in VarSt:\n",
        "    print ('Standard Derivation ' + dtc[col].name + ' = ' + str(dtc[col].std()))"
      ],
      "execution_count": 23,
      "outputs": [
        {
          "output_type": "stream",
          "name": "stdout",
          "text": [
            "Standard Derivation goal = 1183391.2590927128\n",
            "Standard Derivation pledged = 95636.01000498697\n",
            "Standard Derivation backers = 907.1850347938928\n",
            "Standard Derivation usd_pledged = 78247.6142283693\n",
            "Standard Derivation usd_pledged_real = 90973.34310731708\n",
            "Standard Derivation usd_goal_real = 1152950.0550883831\n"
          ]
        }
      ]
    },
    {
      "cell_type": "markdown",
      "metadata": {
        "id": "btajL_XZwH8b"
      },
      "source": [
        "Tambahan mencari nilau Quantile."
      ]
    },
    {
      "cell_type": "code",
      "metadata": {
        "colab": {
          "base_uri": "https://localhost:8080/"
        },
        "id": "JDALtQJQuro2",
        "outputId": "6b462940-656d-4303-a7dc-9527719a0901"
      },
      "source": [
        "QT = ['goal','pledged','backers','usd_pledged','usd_pledged_real','usd_goal_real']\n",
        "for col in QT:\n",
        "    print ('Quantile ' + dtc[col].name + ' = ' + str(dtc[col].quantile(0.75) - dtc[col].quantile(0.25)))"
      ],
      "execution_count": 24,
      "outputs": [
        {
          "output_type": "stream",
          "name": "stdout",
          "text": [
            "Quantile goal = 14000.0\n",
            "Quantile pledged = 4046.0\n",
            "Quantile backers = 54.0\n",
            "Quantile usd_pledged = 2986.55\n",
            "Quantile usd_pledged_real = 4019.0\n",
            "Quantile usd_goal_real = 13500.0\n"
          ]
        }
      ]
    },
    {
      "cell_type": "markdown",
      "metadata": {
        "id": "KlOs4u9vxIKN"
      },
      "source": [
        "##**STEP 8 : Confidence Intervals**\n",
        "Mengimplementasikan Confidence Intervals\t"
      ]
    },
    {
      "cell_type": "code",
      "metadata": {
        "colab": {
          "base_uri": "https://localhost:8080/",
          "height": 346
        },
        "id": "qyArSEfZv2FN",
        "outputId": "5e57cda2-0c21-4744-a8df-e8655540f9af"
      },
      "source": [
        "#GOAL\n",
        "goal = dtc['goal']\n",
        "ma = goal.mean()\n",
        "sd = goal.std()\n",
        "ci = stats.norm.interval(0.95, ma, sd)\n",
        "\n",
        "# Plot the distribution, mean, and CI\n",
        "goal.plot.hist(title='Simulated Sampling Distribution', bins=5, density=True) \n",
        "plt.axvline(ma, color='red', linestyle='dashed', linewidth=3)\n",
        "plt.axvline(ci[0], color='magenta', linestyle='dashed', linewidth=3)\n",
        "plt.axvline(ci[1], color='magenta', linestyle='dashed', linewidth=3)\n",
        "plt.show()\n",
        "\n",
        "# Print the Mean, StdDev and 95% CI\n",
        "print ('Sampling Mean: ' + str(ma))\n",
        "print ('Sampling StdErr: ' + str(sd))\n",
        "print ('95% Confidence Interval: ' + str(ci))"
      ],
      "execution_count": 25,
      "outputs": [
        {
          "output_type": "display_data",
          "data": {
            "image/png": "[encoded data removed]",
            "text/plain": [
              "<Figure size 432x288 with 1 Axes>"
            ]
          },
          "metadata": {
            "needs_background": "light"
          }
        },
        {
          "output_type": "stream",
          "name": "stdout",
          "text": [
            "Sampling Mean: 49080.79152056854\n",
            "Sampling StdErr: 1183391.2590927128\n",
            "95% Confidence Interval: (-2270323.455920656, 2368485.0389617933)\n"
          ]
        }
      ]
    },
    {
      "cell_type": "code",
      "metadata": {
        "colab": {
          "base_uri": "https://localhost:8080/",
          "height": 346
        },
        "id": "ep2-bQ-fv8eL",
        "outputId": "5e38d257-f8e3-4785-e7ef-601abdf68227"
      },
      "source": [
        "#PLEDGED\n",
        "pledg = dtc['pledged']\n",
        "m = pledg.mean()\n",
        "sd = pledg.std()\n",
        "ci = stats.norm.interval(0.95, m, sd)\n",
        "\n",
        "# Plot the distribution, mean, and CI\n",
        "pledg.plot.hist(title='Simulated Sampling Distribution', bins=5) \n",
        "plt.axvline(m, color='red', linestyle='dashed', linewidth=3)\n",
        "plt.axvline(ci[0], color='magenta', linestyle='dashed', linewidth=3)\n",
        "plt.axvline(ci[1], color='magenta', linestyle='dashed', linewidth=3)\n",
        "plt.show()\n",
        "\n",
        "# Print the Mean, StdDev and 95% CI\n",
        "print ('Sampling Mean: ' + str(m))\n",
        "print ('Sampling StdErr: ' + str(sd))\n",
        "print ('95% Confidence Interval: ' + str(ci))"
      ],
      "execution_count": 26,
      "outputs": [
        {
          "output_type": "display_data",
          "data": {
            "image/png": "[encoded data removed]",
            "text/plain": [
              "<Figure size 432x288 with 1 Axes>"
            ]
          },
          "metadata": {
            "needs_background": "light"
          }
        },
        {
          "output_type": "stream",
          "name": "stdout",
          "text": [
            "Sampling Mean: 9682.97933946224\n",
            "Sampling StdErr: 95636.01000498697\n",
            "95% Confidence Interval: (-177760.15589542448, 197126.11457434896)\n"
          ]
        }
      ]
    },
    {
      "cell_type": "code",
      "metadata": {
        "colab": {
          "base_uri": "https://localhost:8080/",
          "height": 346
        },
        "id": "7q3mDnocwQ-2",
        "outputId": "244c48e4-9544-4a85-904a-2ed9bee52f37"
      },
      "source": [
        "#USD PLEDGED\n",
        "usdp = dtc['usd_pledged']\n",
        "m = usdp.mean()\n",
        "sd = usdp.std()\n",
        "ci = stats.norm.interval(0.95, m, sd)\n",
        "\n",
        "# Plot the distribution, mean, and CI\n",
        "usdp.plot.hist(title='Simulated Sampling Distribution', bins=5, density = True) \n",
        "#plt.axvline(ci[0], color='magenta', linestyle='dashed', linewidth=3)\n",
        "plt.axvline(ci[1], color='magenta', linestyle='dashed', linewidth=3)\n",
        "plt.axvline(m, color='red', linestyle='dashed', linewidth=3)\n",
        "plt.show()\n",
        "\n",
        "# Print the Mean, StdDev and 95% CI\n",
        "print ('Sampling Mean: ' + str(m))\n",
        "print ('Sampling StdErr: ' + str(sd))\n",
        "print ('95% Confidence Interval: ' + str(ci))"
      ],
      "execution_count": 27,
      "outputs": [
        {
          "output_type": "display_data",
          "data": {
            "image/png": "[encoded data removed]",
            "text/plain": [
              "<Figure size 432x288 with 1 Axes>"
            ]
          },
          "metadata": {
            "needs_background": "light"
          }
        },
        {
          "output_type": "stream",
          "name": "stdout",
          "text": [
            "Sampling Mean: 6966.168499106134\n",
            "Sampling StdErr: 78247.6142283693\n",
            "95% Confidence Interval: (-146396.33726468158, 160328.67426289385)\n"
          ]
        }
      ]
    },
    {
      "cell_type": "code",
      "metadata": {
        "colab": {
          "base_uri": "https://localhost:8080/",
          "height": 333
        },
        "id": "BM4bcdNpwePC",
        "outputId": "f7c4a7b5-2564-44dc-fde8-c72225d004ac"
      },
      "source": [
        "#BACKERS\n",
        "backr = dtc['backers']\n",
        "m = backr.mean()\n",
        "sd = backr.std()\n",
        "ci = stats.norm.interval(0.95, m, sd)\n",
        "\n",
        "# Plot the distribution, mean, and CI\n",
        "backr.plot.hist(title='Simulated Sampling Distribution', bins=5) \n",
        "plt.axvline(m, color='red', linestyle='dashed', linewidth=3)\n",
        "plt.axvline(ci[0], color='magenta', linestyle='dashed', linewidth=3)\n",
        "plt.axvline(ci[1], color='magenta', linestyle='dashed', linewidth=3)\n",
        "plt.show()\n",
        "\n",
        "# Print the Mean, StdDev and 95% CI\n",
        "print ('Sampling Mean: ' + str(m))\n",
        "print ('Sampling StdErr: ' + str(sd))\n",
        "print ('95% Confidence Interval: ' + str(ci))"
      ],
      "execution_count": 28,
      "outputs": [
        {
          "output_type": "display_data",
          "data": {
            "image/png": "[encoded data removed]",
            "text/plain": [
              "<Figure size 432x288 with 1 Axes>"
            ]
          },
          "metadata": {
            "needs_background": "light"
          }
        },
        {
          "output_type": "stream",
          "name": "stdout",
          "text": [
            "Sampling Mean: 105.61747578969052\n",
            "Sampling StdErr: 907.1850347938928\n",
            "95% Confidence Interval: (-1672.432519720055, 1883.6674712994363)\n"
          ]
        }
      ]
    },
    {
      "cell_type": "code",
      "metadata": {
        "colab": {
          "base_uri": "https://localhost:8080/",
          "height": 346
        },
        "id": "5v4hMfDZwnPK",
        "outputId": "cb4ed583-02d3-4e32-ede0-fac39002f3f4"
      },
      "source": [
        "#usd_pledged_real\n",
        "realp = dtc['usd_pledged_real']\n",
        "m = realp.mean()\n",
        "sd = realp.std()\n",
        "ci = stats.norm.interval(0.95, m, sd)\n",
        "\n",
        "# Plot the distribution, mean, and CI\n",
        "realp.plot.hist(title='Simulated Sampling Distribution', bins=5, density=True) \n",
        "plt.axvline(m, color='red', linestyle='dashed', linewidth=3)\n",
        "plt.axvline(ci[0], color='magenta', linestyle='dashed', linewidth=3)\n",
        "plt.axvline(ci[1], color='magenta', linestyle='dashed', linewidth=3)\n",
        "plt.show()\n",
        "\n",
        "# Print the Mean, StdDev and 95% CI\n",
        "print ('Sampling Mean: ' + str(m))\n",
        "print ('Sampling StdErr: ' + str(sd))\n",
        "print ('95% Confidence Interval: ' + str(ci))"
      ],
      "execution_count": 29,
      "outputs": [
        {
          "output_type": "display_data",
          "data": {
            "image/png": "[encoded data removed]",
            "text/plain": [
              "<Figure size 432x288 with 1 Axes>"
            ]
          },
          "metadata": {
            "needs_background": "light"
          }
        },
        {
          "output_type": "stream",
          "name": "stdout",
          "text": [
            "Sampling Mean: 9058.924074119337\n",
            "Sampling StdErr: 90973.34310731708\n",
            "95% Confidence Interval: (-169245.55196942732, 187363.400117666)\n"
          ]
        }
      ]
    },
    {
      "cell_type": "code",
      "metadata": {
        "colab": {
          "base_uri": "https://localhost:8080/",
          "height": 346
        },
        "id": "rcgN2evJwx5L",
        "outputId": "a2fab022-0bbe-4f9c-ab09-3d8eba32b187"
      },
      "source": [
        "#usd_goal_real\n",
        "realg = dtc['usd_goal_real']\n",
        "m = realg.mean()\n",
        "sd = realg.std()\n",
        "ci = stats.norm.interval(0.95, m, sd)\n",
        "\n",
        "# Plot the distribution, mean, and CI\n",
        "realg.plot.hist(title='Simulated Sampling Distribution', bins=5, density=True) \n",
        "plt.axvline(m, color='red', linestyle='dashed', linewidth=3)\n",
        "plt.axvline(ci[0], color='magenta', linestyle='dashed', linewidth=3)\n",
        "plt.axvline(ci[1], color='magenta', linestyle='dashed', linewidth=3)\n",
        "plt.show()\n",
        "\n",
        "# Print the Mean, StdDev and 95% CI\n",
        "print ('Sampling Mean: ' + str(m))\n",
        "print ('Sampling StdErr: ' + str(sd))\n",
        "print ('95% Confidence Interval: ' + str(ci))"
      ],
      "execution_count": 30,
      "outputs": [
        {
          "output_type": "display_data",
          "data": {
            "image/png": "[encoded data removed]",
            "text/plain": [
              "<Figure size 432x288 with 1 Axes>"
            ]
          },
          "metadata": {
            "needs_background": "light"
          }
        },
        {
          "output_type": "stream",
          "name": "stdout",
          "text": [
            "Sampling Mean: 45454.40146545336\n",
            "Sampling StdErr: 1152950.0550883831\n",
            "95% Confidence Interval: (-2214286.182481249, 2305194.9854121553)\n"
          ]
        }
      ]
    },
    {
      "cell_type": "markdown",
      "metadata": {
        "id": "Shi_538lw_M-"
      },
      "source": [
        "##**STEP 9 : Hypothesis Testing**\n",
        "Membuat 1 Hipotesis Dan Menarik Kesimpulan Dari Data Yang Ada\t, Disini saya menggunakan metode Two sample Test."
      ]
    },
    {
      "cell_type": "markdown",
      "metadata": {
        "id": "l6YZr3YeyhgT"
      },
      "source": [
        "Membuat variable baru, membuat grup menggunakan data kolom kategori dan backers kemudian nilai yang diambil adalah count dan mean."
      ]
    },
    {
      "cell_type": "code",
      "metadata": {
        "id": "NtJfYPDC-1tf"
      },
      "source": [
        "dtc_make_smy=dtc.groupby('category').agg({'backers':['count','mean']}).reset_index()\n",
        "dtc_make_smy.columns = dtc_make_smy.columns.droplevel()"
      ],
      "execution_count": 31,
      "outputs": []
    },
    {
      "cell_type": "code",
      "metadata": {
        "colab": {
          "base_uri": "https://localhost:8080/",
          "height": 363
        },
        "id": "tOlWT7-__Tog",
        "outputId": "93a00f0e-91ff-42e3-fefb-e8f8df6d52b9"
      },
      "source": [
        "dtc_make_smy.sort_values('count',ascending=False).head(10)"
      ],
      "execution_count": 32,
      "outputs": [
        {
          "output_type": "execute_result",
          "data": {
            "text/html": [
              "<div>\n",
              "<style scoped>\n",
              "    .dataframe tbody tr th:only-of-type {\n",
              "        vertical-align: middle;\n",
              "    }\n",
              "\n",
              "    .dataframe tbody tr th {\n",
              "        vertical-align: top;\n",
              "    }\n",
              "\n",
              "    .dataframe thead th {\n",
              "        text-align: right;\n",
              "    }\n",
              "</style>\n",
              "<table border=\"1\" class=\"dataframe\">\n",
              "  <thead>\n",
              "    <tr style=\"text-align: right;\">\n",
              "      <th></th>\n",
              "      <th></th>\n",
              "      <th>count</th>\n",
              "      <th>mean</th>\n",
              "    </tr>\n",
              "  </thead>\n",
              "  <tbody>\n",
              "    <tr>\n",
              "      <th>113</th>\n",
              "      <td>Product Design</td>\n",
              "      <td>22314</td>\n",
              "      <td>276.907</td>\n",
              "    </tr>\n",
              "    <tr>\n",
              "      <th>39</th>\n",
              "      <td>Documentary</td>\n",
              "      <td>16139</td>\n",
              "      <td>89.701</td>\n",
              "    </tr>\n",
              "    <tr>\n",
              "      <th>90</th>\n",
              "      <td>Music</td>\n",
              "      <td>15727</td>\n",
              "      <td>55.059</td>\n",
              "    </tr>\n",
              "    <tr>\n",
              "      <th>136</th>\n",
              "      <td>Tabletop Games</td>\n",
              "      <td>14180</td>\n",
              "      <td>426.601</td>\n",
              "    </tr>\n",
              "    <tr>\n",
              "      <th>129</th>\n",
              "      <td>Shorts</td>\n",
              "      <td>12357</td>\n",
              "      <td>36.731</td>\n",
              "    </tr>\n",
              "    <tr>\n",
              "      <th>148</th>\n",
              "      <td>Video Games</td>\n",
              "      <td>11830</td>\n",
              "      <td>373.585</td>\n",
              "    </tr>\n",
              "    <tr>\n",
              "      <th>58</th>\n",
              "      <td>Food</td>\n",
              "      <td>11493</td>\n",
              "      <td>66.734</td>\n",
              "    </tr>\n",
              "    <tr>\n",
              "      <th>55</th>\n",
              "      <td>Film &amp; Video</td>\n",
              "      <td>10108</td>\n",
              "      <td>47.409</td>\n",
              "    </tr>\n",
              "    <tr>\n",
              "      <th>54</th>\n",
              "      <td>Fiction</td>\n",
              "      <td>9169</td>\n",
              "      <td>28.017</td>\n",
              "    </tr>\n",
              "    <tr>\n",
              "      <th>52</th>\n",
              "      <td>Fashion</td>\n",
              "      <td>8554</td>\n",
              "      <td>66.036</td>\n",
              "    </tr>\n",
              "  </tbody>\n",
              "</table>\n",
              "</div>"
            ],
            "text/plain": [
              "                     count    mean\n",
              "113  Product Design  22314 276.907\n",
              "39      Documentary  16139  89.701\n",
              "90            Music  15727  55.059\n",
              "136  Tabletop Games  14180 426.601\n",
              "129          Shorts  12357  36.731\n",
              "148     Video Games  11830 373.585\n",
              "58             Food  11493  66.734\n",
              "55     Film & Video  10108  47.409\n",
              "54          Fiction   9169  28.017\n",
              "52          Fashion   8554  66.036"
            ]
          },
          "metadata": {},
          "execution_count": 32
        }
      ]
    },
    {
      "cell_type": "markdown",
      "metadata": {
        "id": "lkwykbEHy88x"
      },
      "source": [
        "Kemudian membuat 2 variabel dari kolom kategori dan nilai yang diambil adalah Produk desain dan dokumentari."
      ]
    },
    {
      "cell_type": "code",
      "metadata": {
        "id": "OenJJXaD_Y1d"
      },
      "source": [
        "df_prodes = dtc[dtc['category']=='Product Design']\n",
        "df_docu = dtc[dtc['category']=='Documentary']"
      ],
      "execution_count": 33,
      "outputs": []
    },
    {
      "cell_type": "markdown",
      "metadata": {
        "id": "cxs033kKzJN1"
      },
      "source": [
        "Kemudian melakukan plot untuk kedua variable tersebut."
      ]
    },
    {
      "cell_type": "code",
      "metadata": {
        "colab": {
          "base_uri": "https://localhost:8080/",
          "height": 351
        },
        "id": "qhaaRs-L_g0c",
        "outputId": "aa46cb60-b599-45df-adf7-9ce6b3b2194b"
      },
      "source": [
        "sns.distplot(df_prodes['backers'])"
      ],
      "execution_count": 34,
      "outputs": [
        {
          "output_type": "stream",
          "name": "stderr",
          "text": [
            "/usr/local/lib/python3.7/dist-packages/seaborn/distributions.py:2619: FutureWarning: `distplot` is a deprecated function and will be removed in a future version. Please adapt your code to use either `displot` (a figure-level function with similar flexibility) or `histplot` (an axes-level function for histograms).\n",
            "  warnings.warn(msg, FutureWarning)\n"
          ]
        },
        {
          "output_type": "execute_result",
          "data": {
            "text/plain": [
              "<matplotlib.axes._subplots.AxesSubplot at 0x7fe498eeced0>"
            ]
          },
          "metadata": {},
          "execution_count": 34
        },
        {
          "output_type": "display_data",
          "data": {
            "image/png": "[encoded data removed]",
            "text/plain": [
              "<Figure size 432x288 with 1 Axes>"
            ]
          },
          "metadata": {
            "needs_background": "light"
          }
        }
      ]
    },
    {
      "cell_type": "code",
      "metadata": {
        "colab": {
          "base_uri": "https://localhost:8080/",
          "height": 351
        },
        "id": "6AfIAYKk_x-J",
        "outputId": "8f62c6dc-5184-4fe8-9844-5d1ff6d24928"
      },
      "source": [
        "sns.distplot(df_docu['backers'])"
      ],
      "execution_count": 35,
      "outputs": [
        {
          "output_type": "stream",
          "name": "stderr",
          "text": [
            "/usr/local/lib/python3.7/dist-packages/seaborn/distributions.py:2619: FutureWarning: `distplot` is a deprecated function and will be removed in a future version. Please adapt your code to use either `displot` (a figure-level function with similar flexibility) or `histplot` (an axes-level function for histograms).\n",
            "  warnings.warn(msg, FutureWarning)\n"
          ]
        },
        {
          "output_type": "execute_result",
          "data": {
            "text/plain": [
              "<matplotlib.axes._subplots.AxesSubplot at 0x7fe495b705d0>"
            ]
          },
          "metadata": {},
          "execution_count": 35
        },
        {
          "output_type": "display_data",
          "data": {
            "image/png": "[encoded data removed]",
            "text/plain": [
              "<Figure size 432x288 with 1 Axes>"
            ]
          },
          "metadata": {
            "needs_background": "light"
          }
        }
      ]
    },
    {
      "cell_type": "markdown",
      "metadata": {
        "id": "A1cYiP97xpzY"
      },
      "source": [
        "##**STEP 10 : Preprocessing**\n",
        "Mampu Melakukan Preproses Dataset Sebelum Melakukan Proses Statistik."
      ]
    },
    {
      "cell_type": "code",
      "metadata": {
        "colab": {
          "base_uri": "https://localhost:8080/",
          "height": 369
        },
        "id": "jSXo3jAl_6Ha",
        "outputId": "0bbe5fa1-55a6-4ded-93bf-6a918097f527"
      },
      "source": [
        "np.random.seed(123)\n",
        "nonMath =df_prodes['backers']\n",
        "math = df_docu['backers']\n",
        "print(\"Product Design sample mean:\" + str(nonMath.mean()))\n",
        "print(\"Product Design sample std:\" + str(nonMath.std()))\n",
        "print(\"Product Design Kurtosis:\" + str(nonMath.kurtosis()))\n",
        "print(\"Documentary sample mean:\" + str(math.mean()))\n",
        "\n",
        "# Independent T-Test\n",
        "t,p = stats.ttest_ind(math, nonMath,equal_var=False)\n",
        "# ttest_ind is 2-tailed, so half the resulting p-value to get a 1-tailed p-value\n",
        "p1 = '%f' % (p/2)\n",
        "\n",
        "#2-tailed\n",
        "print(\"t-statistic:\" + str(t))\n",
        "print(\"p-value:\" + str(p1))\n",
        "\n",
        "pop = np.random.normal(nonMath.mean(), nonMath.std(), 100000)\n",
        "# calculate a 90% confidence interval. 10% of the probability is outside this, 5% in each tail\n",
        "ci = stats.norm.interval(0.90, nonMath.mean(), nonMath.std())\n",
        "plt.hist(pop, bins=100)\n",
        "# show the hypothesized population mean\n",
        "plt.axvline(pop.mean(), color='yellow', linestyle='dashed', linewidth=2)\n",
        "# show the right-tail confidence interval threshold - 5% of propbability is under the curve to the right of this.\n",
        "plt.axvline(ci[1], color='red', linestyle='dashed', linewidth=2)\n",
        "# show the right-tail confidence interval threshold - 5% of propbability is under the curve to the right of this.\n",
        "plt.axvline(ci[0], color='red', linestyle='dashed', linewidth=2)\n",
        "# show the t-statistic - the p-value is the area under the curve to the right of this\n",
        "plt.axvline(pop.mean() +  t*pop.std(), color='magenta', linestyle='dashed', linewidth=2)\n",
        "plt.show()"
      ],
      "execution_count": 36,
      "outputs": [
        {
          "output_type": "stream",
          "name": "stdout",
          "text": [
            "Product Design sample mean:276.90745720175676\n",
            "Product Design sample std:1741.6066347321157\n",
            "Product Design Kurtosis:3294.379367648098\n",
            "Documentary sample mean:89.70053906685668\n",
            "t-statistic:-15.734838482749915\n",
            "p-value:0.000000\n"
          ]
        },
        {
          "output_type": "display_data",
          "data": {
            "image/png": "[encoded data removed]",
            "text/plain": [
              "<Figure size 432x288 with 1 Axes>"
            ]
          },
          "metadata": {
            "needs_background": "light"
          }
        }
      ]
    },
    {
      "cell_type": "markdown",
      "metadata": {
        "id": "m2GpwGsXyIuD"
      },
      "source": [
        "##**KESIMPULAN :**\n",
        "Hasil yang didapat dari pengerjaan project ini dapat disimpulakan alur pengerjaannya sebagai berikut :\n",
        "\n",
        "\n",
        "*   Pertama seperti biasa yaitu mengerti cara melakukan importing library dan sebelum mengelola data, memahami kira-kira apa library yang dibutuhkan, karena isi data berisi nilai tipe data object, number, maka sudah jelas bahwa pandas dan numpy harus di import kemudian library tambahan yaitu scipy, matplotlib dan lain lain juga diperlukan.\n",
        "\n",
        "*   Kemudian setelah berhasil melakukan import data, langkah berikutnya masuk ke tahap loading data, dengan menggunakan perintah read guna untuk membaca data dan kemudian data bisa ditampilkan dengan jelas\n",
        "\n",
        "*   Lalu jika sudah meload data, langkah berikutnya adalah melakukan pembersihan atau cleaning dengan cara melihat apakah ada data yang kosong pada kolom tertentu dan jika ada kolom yang tidak terpakai bisa di drop atau dibuang, terakhir menggnati kolom yang semestinya akan digunakan ke dalam penulisan sintaks untuk memudahkan proses kalkulasi.\n",
        "\n",
        "*   Kemudian melakukan eksplorasi secara sederhana untuk memahami konsep membuat query baru atau gruoping beberapa kolom menjadi 1 yang dikemas ke dalam variabel baru.\n",
        "\n",
        "*   Masuk ke step kalkulasi, yang pertama disini adalah mengukur central tendency dan nilai yang dicari adalah mean, median, modus\n",
        "\n",
        "*   Berikutnya adalah mengukur variance dan nilai yang dicari adalah range antar kolom, variance, standar defiasi dan saya menambhakan quantile.\n",
        "\n",
        "*   Kemudian saya mengimplementasikan konsep Convidence Interval yang merupakan parameter untuk mengukur seberapa akurat Mean sebuah sample mencakup nilai Mean Populasi sesungguhnya.\n",
        "\n",
        "*   Kemudian terakhi untuk hipotesis testing pertama Membuat variable baru, membuat grup menggunakan data kolom kategori dan backers kemudian nilai yang diambil adalah count dan mean. Kemudian membuat 2 variabel dari kolom kategori dan nilai yang diambil adalah Produk desain dan dokumentari lalu melakukan plot untuk kedua variable tersebut. Step terakhir membuat plot dari hasil hipotesis testing di tahap Preprocessing kemudian membuat plotnya dan untuk outputnya sebagai berikut :\n",
        "- Product Design sample mean:276.90745720175676\n",
        "- Product Design sample std:1741.6066347321157\n",
        "- Product Design Kurtosis:3294.379367648098\n",
        "- Documentary sample mean:89.70053906685668\n",
        "- t-statistic:-15.734838482749915\n",
        "- p-value:0.000000"
      ]
    }
  ]
}