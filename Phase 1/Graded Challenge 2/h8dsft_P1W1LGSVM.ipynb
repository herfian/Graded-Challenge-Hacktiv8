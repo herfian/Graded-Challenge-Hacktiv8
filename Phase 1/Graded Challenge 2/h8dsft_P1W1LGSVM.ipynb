{
  "nbformat": 4,
  "nbformat_minor": 0,
  "metadata": {
    "colab": {
      "name": "h8dsft_P1W1LGSVM.ipynb",
      "provenance": [],
      "collapsed_sections": []
    },
    "kernelspec": {
      "name": "python3",
      "display_name": "Python 3"
    },
    "language_info": {
      "name": "python"
    },
    "accelerator": "GPU"
  },
  "cells": [
    {
      "cell_type": "markdown",
      "metadata": {
        "id": "liK-O5MdgSKN"
      },
      "source": [
        "#**STEP 1 : PERKENALAN**\n",
        "\n",
        "**GRADED CHALLENGE 2**\n",
        "\n",
        "**BY : MUHAMMAD RIZKI HERFIAN**\n",
        "\n",
        "**BATCH : 004**\n",
        "\n",
        "**MATERI : Logistic Regression dan SVM**\n",
        "\n",
        "**Graded Challenge 2 ini dibuat guna mengevaluasi konsep Logistic Regression dan SVM sebagai berikut:**\n",
        "\n",
        "* Mampu memahami konsep Classification dengan Logistic Regression dan SVM\n",
        "* Mampu mempersiapkan data untuk digunakan dalam model Logistic Regression dan SVM\n",
        "* Mampu mengimplementasikan Logistic Regression dan SVM untuk membuat prediksi"
      ]
    },
    {
      "cell_type": "markdown",
      "metadata": {
        "id": "oyiPaRmRlBgw"
      },
      "source": [
        "## **STEP 2 : IMPORTING LIBRARY**\n",
        "\n",
        "**Cell pertama pada notebook harus berisi dan hanya berisi semua library yang digunakan dalam project.**"
      ]
    },
    {
      "cell_type": "code",
      "metadata": {
        "id": "JV_RPvx6_a38"
      },
      "source": [
        "import pandas as pd\n",
        "import numpy as np\n",
        "import seaborn as sns\n",
        "import plotly.express as px\n",
        "import matplotlib.pyplot as plt\n",
        "%matplotlib inline\n",
        "from sklearn.svm import SVC\n",
        "from sklearn import svm\n",
        "from sklearn.model_selection import train_test_split, cross_val_score, cross_val_predict\n",
        "from sklearn.metrics import f1_score, precision_recall_curve, classification_report, roc_curve, auc\n",
        "from sklearn.metrics import mean_absolute_error,mean_squared_error,r2_score\n",
        "from sklearn.preprocessing import StandardScaler\n",
        "from sklearn.linear_model import LogisticRegression\n",
        "from sklearn.metrics import confusion_matrix\n",
        "from sklearn.metrics import precision_score, recall_score\n",
        "from sklearn.svm import SVR\n",
        "import time\n",
        "import warnings\n",
        "warnings.filterwarnings('ignore')"
      ],
      "execution_count": 1,
      "outputs": []
    },
    {
      "cell_type": "markdown",
      "metadata": {
        "id": "9SEEHkXD87VG"
      },
      "source": [
        "**Library yang akan digunakan, masing-masing memiliki fungsi sebagai berikut:**\n",
        "\n",
        "* Pandas adalah sebuah library yang menyediakan struktur data dan analisis data yang mudah digunakan. Pandas biasa digunakan untuk membuat tabel, mengubah dimensi data, mengecek data, dan lain sebagainya.\n",
        "\n",
        "* Numpy berfungsi memudahkan operasi komputasi tipe data numerik seperti penjumlahan, pengurangan, perkalian, pangkat, dan operasi lainnya yang bisa diterapkan pada vektor atau matriks.\n",
        "\n",
        "* Matplotlib adalah modul python untuk menggambar plot 2D dengan kualitas tinggi. matplotlib dapat digunakan dalam script python, interpreter python dan ipython, server, dan 6 GUI toolkit.\n",
        "\n",
        "* Seaborn bertujuan agar visualisasi menjadi bagian penting dari proses eksplorasi dan pemahaman data.\n",
        "\n",
        "* Plotly merupakan library grafik open source yang dapat digunakan untuk membuat visualisasi data. Library ini dibangun di atas library JavaScript Plotly dan dapat digunakan untuk membuat visualisasi data berbasis web yang dapat ditampilkan pada jupyter notebook atau aplikasi web menggunakan dash dan dapat pula disimpan sebagai file HTML.\n",
        "\n",
        "* Scikit-learn atau sklearn adalah modul untuk bahasa pemograman python yang dibangun diatas NumPy, SciPy, dan matplotlib, fungsinya dapat membantu melakukan processing data ataupun melakukan training data untuk kebutuhan machine-learning."
      ]
    },
    {
      "cell_type": "markdown",
      "metadata": {
        "id": "Dit5MFqVlJ4R"
      },
      "source": [
        "## **STEP 3 : DATA LOADING**\n",
        "\n",
        "**Bagian ini berisi proses data loading yang kemudian dilanjutkan dengan explorasi data secara sederhana.**"
      ]
    },
    {
      "cell_type": "code",
      "metadata": {
        "id": "XEAVGCfM5Xjv",
        "colab": {
          "base_uri": "https://localhost:8080/"
        },
        "outputId": "e9732a2c-182a-4403-88b1-7677c031e037"
      },
      "source": [
        "from google.colab import drive\n",
        "drive.mount('/content/drive')"
      ],
      "execution_count": 2,
      "outputs": [
        {
          "output_type": "stream",
          "name": "stdout",
          "text": [
            "Drive already mounted at /content/drive; to attempt to forcibly remount, call drive.mount(\"/content/drive\", force_remount=True).\n"
          ]
        }
      ]
    },
    {
      "cell_type": "code",
      "metadata": {
        "id": "D7cJX-XuHMCc"
      },
      "source": [
        "data = pd.read_csv('/content/drive/MyDrive/Colab Notebooks/Hacktiv8/Phase 1/Graded Challenge/h8dsft_P1W1LGSVM/weatherAUS.csv')"
      ],
      "execution_count": 3,
      "outputs": []
    },
    {
      "cell_type": "markdown",
      "metadata": {
        "id": "F3rfHTPa9yp7"
      },
      "source": [
        "**Data memiliki jumlah baris 145460 dan jumlah kolom 23**"
      ]
    },
    {
      "cell_type": "code",
      "metadata": {
        "id": "1SElwsP0HbsO",
        "colab": {
          "base_uri": "https://localhost:8080/"
        },
        "outputId": "7351f763-dc78-48f5-8694-53fdd87e2038"
      },
      "source": [
        "data.shape"
      ],
      "execution_count": 4,
      "outputs": [
        {
          "output_type": "execute_result",
          "data": {
            "text/plain": [
              "(145460, 23)"
            ]
          },
          "metadata": {},
          "execution_count": 4
        }
      ]
    },
    {
      "cell_type": "markdown",
      "metadata": {
        "id": "_ADGJzPI-M1I"
      },
      "source": [
        "**Melihat isi 10 data pertama**"
      ]
    },
    {
      "cell_type": "code",
      "metadata": {
        "id": "qJVy3ad2MhVA",
        "colab": {
          "base_uri": "https://localhost:8080/",
          "height": 550
        },
        "outputId": "4d757236-bdcb-4e69-a7b0-47231a20cc1b"
      },
      "source": [
        "data.head(10)"
      ],
      "execution_count": 5,
      "outputs": [
        {
          "output_type": "execute_result",
          "data": {
            "text/html": [
              "<div>\n",
              "<style scoped>\n",
              "    .dataframe tbody tr th:only-of-type {\n",
              "        vertical-align: middle;\n",
              "    }\n",
              "\n",
              "    .dataframe tbody tr th {\n",
              "        vertical-align: top;\n",
              "    }\n",
              "\n",
              "    .dataframe thead th {\n",
              "        text-align: right;\n",
              "    }\n",
              "</style>\n",
              "<table border=\"1\" class=\"dataframe\">\n",
              "  <thead>\n",
              "    <tr style=\"text-align: right;\">\n",
              "      <th></th>\n",
              "      <th>Date</th>\n",
              "      <th>Location</th>\n",
              "      <th>MinTemp</th>\n",
              "      <th>MaxTemp</th>\n",
              "      <th>Rainfall</th>\n",
              "      <th>Evaporation</th>\n",
              "      <th>Sunshine</th>\n",
              "      <th>WindGustDir</th>\n",
              "      <th>WindGustSpeed</th>\n",
              "      <th>WindDir9am</th>\n",
              "      <th>WindDir3pm</th>\n",
              "      <th>WindSpeed9am</th>\n",
              "      <th>WindSpeed3pm</th>\n",
              "      <th>Humidity9am</th>\n",
              "      <th>Humidity3pm</th>\n",
              "      <th>Pressure9am</th>\n",
              "      <th>Pressure3pm</th>\n",
              "      <th>Cloud9am</th>\n",
              "      <th>Cloud3pm</th>\n",
              "      <th>Temp9am</th>\n",
              "      <th>Temp3pm</th>\n",
              "      <th>RainToday</th>\n",
              "      <th>RainTomorrow</th>\n",
              "    </tr>\n",
              "  </thead>\n",
              "  <tbody>\n",
              "    <tr>\n",
              "      <th>0</th>\n",
              "      <td>2008-12-01</td>\n",
              "      <td>Albury</td>\n",
              "      <td>13.4</td>\n",
              "      <td>22.9</td>\n",
              "      <td>0.6</td>\n",
              "      <td>NaN</td>\n",
              "      <td>NaN</td>\n",
              "      <td>W</td>\n",
              "      <td>44.0</td>\n",
              "      <td>W</td>\n",
              "      <td>WNW</td>\n",
              "      <td>20.0</td>\n",
              "      <td>24.0</td>\n",
              "      <td>71.0</td>\n",
              "      <td>22.0</td>\n",
              "      <td>1007.7</td>\n",
              "      <td>1007.1</td>\n",
              "      <td>8.0</td>\n",
              "      <td>NaN</td>\n",
              "      <td>16.9</td>\n",
              "      <td>21.8</td>\n",
              "      <td>No</td>\n",
              "      <td>No</td>\n",
              "    </tr>\n",
              "    <tr>\n",
              "      <th>1</th>\n",
              "      <td>2008-12-02</td>\n",
              "      <td>Albury</td>\n",
              "      <td>7.4</td>\n",
              "      <td>25.1</td>\n",
              "      <td>0.0</td>\n",
              "      <td>NaN</td>\n",
              "      <td>NaN</td>\n",
              "      <td>WNW</td>\n",
              "      <td>44.0</td>\n",
              "      <td>NNW</td>\n",
              "      <td>WSW</td>\n",
              "      <td>4.0</td>\n",
              "      <td>22.0</td>\n",
              "      <td>44.0</td>\n",
              "      <td>25.0</td>\n",
              "      <td>1010.6</td>\n",
              "      <td>1007.8</td>\n",
              "      <td>NaN</td>\n",
              "      <td>NaN</td>\n",
              "      <td>17.2</td>\n",
              "      <td>24.3</td>\n",
              "      <td>No</td>\n",
              "      <td>No</td>\n",
              "    </tr>\n",
              "    <tr>\n",
              "      <th>2</th>\n",
              "      <td>2008-12-03</td>\n",
              "      <td>Albury</td>\n",
              "      <td>12.9</td>\n",
              "      <td>25.7</td>\n",
              "      <td>0.0</td>\n",
              "      <td>NaN</td>\n",
              "      <td>NaN</td>\n",
              "      <td>WSW</td>\n",
              "      <td>46.0</td>\n",
              "      <td>W</td>\n",
              "      <td>WSW</td>\n",
              "      <td>19.0</td>\n",
              "      <td>26.0</td>\n",
              "      <td>38.0</td>\n",
              "      <td>30.0</td>\n",
              "      <td>1007.6</td>\n",
              "      <td>1008.7</td>\n",
              "      <td>NaN</td>\n",
              "      <td>2.0</td>\n",
              "      <td>21.0</td>\n",
              "      <td>23.2</td>\n",
              "      <td>No</td>\n",
              "      <td>No</td>\n",
              "    </tr>\n",
              "    <tr>\n",
              "      <th>3</th>\n",
              "      <td>2008-12-04</td>\n",
              "      <td>Albury</td>\n",
              "      <td>9.2</td>\n",
              "      <td>28.0</td>\n",
              "      <td>0.0</td>\n",
              "      <td>NaN</td>\n",
              "      <td>NaN</td>\n",
              "      <td>NE</td>\n",
              "      <td>24.0</td>\n",
              "      <td>SE</td>\n",
              "      <td>E</td>\n",
              "      <td>11.0</td>\n",
              "      <td>9.0</td>\n",
              "      <td>45.0</td>\n",
              "      <td>16.0</td>\n",
              "      <td>1017.6</td>\n",
              "      <td>1012.8</td>\n",
              "      <td>NaN</td>\n",
              "      <td>NaN</td>\n",
              "      <td>18.1</td>\n",
              "      <td>26.5</td>\n",
              "      <td>No</td>\n",
              "      <td>No</td>\n",
              "    </tr>\n",
              "    <tr>\n",
              "      <th>4</th>\n",
              "      <td>2008-12-05</td>\n",
              "      <td>Albury</td>\n",
              "      <td>17.5</td>\n",
              "      <td>32.3</td>\n",
              "      <td>1.0</td>\n",
              "      <td>NaN</td>\n",
              "      <td>NaN</td>\n",
              "      <td>W</td>\n",
              "      <td>41.0</td>\n",
              "      <td>ENE</td>\n",
              "      <td>NW</td>\n",
              "      <td>7.0</td>\n",
              "      <td>20.0</td>\n",
              "      <td>82.0</td>\n",
              "      <td>33.0</td>\n",
              "      <td>1010.8</td>\n",
              "      <td>1006.0</td>\n",
              "      <td>7.0</td>\n",
              "      <td>8.0</td>\n",
              "      <td>17.8</td>\n",
              "      <td>29.7</td>\n",
              "      <td>No</td>\n",
              "      <td>No</td>\n",
              "    </tr>\n",
              "    <tr>\n",
              "      <th>5</th>\n",
              "      <td>2008-12-06</td>\n",
              "      <td>Albury</td>\n",
              "      <td>14.6</td>\n",
              "      <td>29.7</td>\n",
              "      <td>0.2</td>\n",
              "      <td>NaN</td>\n",
              "      <td>NaN</td>\n",
              "      <td>WNW</td>\n",
              "      <td>56.0</td>\n",
              "      <td>W</td>\n",
              "      <td>W</td>\n",
              "      <td>19.0</td>\n",
              "      <td>24.0</td>\n",
              "      <td>55.0</td>\n",
              "      <td>23.0</td>\n",
              "      <td>1009.2</td>\n",
              "      <td>1005.4</td>\n",
              "      <td>NaN</td>\n",
              "      <td>NaN</td>\n",
              "      <td>20.6</td>\n",
              "      <td>28.9</td>\n",
              "      <td>No</td>\n",
              "      <td>No</td>\n",
              "    </tr>\n",
              "    <tr>\n",
              "      <th>6</th>\n",
              "      <td>2008-12-07</td>\n",
              "      <td>Albury</td>\n",
              "      <td>14.3</td>\n",
              "      <td>25.0</td>\n",
              "      <td>0.0</td>\n",
              "      <td>NaN</td>\n",
              "      <td>NaN</td>\n",
              "      <td>W</td>\n",
              "      <td>50.0</td>\n",
              "      <td>SW</td>\n",
              "      <td>W</td>\n",
              "      <td>20.0</td>\n",
              "      <td>24.0</td>\n",
              "      <td>49.0</td>\n",
              "      <td>19.0</td>\n",
              "      <td>1009.6</td>\n",
              "      <td>1008.2</td>\n",
              "      <td>1.0</td>\n",
              "      <td>NaN</td>\n",
              "      <td>18.1</td>\n",
              "      <td>24.6</td>\n",
              "      <td>No</td>\n",
              "      <td>No</td>\n",
              "    </tr>\n",
              "    <tr>\n",
              "      <th>7</th>\n",
              "      <td>2008-12-08</td>\n",
              "      <td>Albury</td>\n",
              "      <td>7.7</td>\n",
              "      <td>26.7</td>\n",
              "      <td>0.0</td>\n",
              "      <td>NaN</td>\n",
              "      <td>NaN</td>\n",
              "      <td>W</td>\n",
              "      <td>35.0</td>\n",
              "      <td>SSE</td>\n",
              "      <td>W</td>\n",
              "      <td>6.0</td>\n",
              "      <td>17.0</td>\n",
              "      <td>48.0</td>\n",
              "      <td>19.0</td>\n",
              "      <td>1013.4</td>\n",
              "      <td>1010.1</td>\n",
              "      <td>NaN</td>\n",
              "      <td>NaN</td>\n",
              "      <td>16.3</td>\n",
              "      <td>25.5</td>\n",
              "      <td>No</td>\n",
              "      <td>No</td>\n",
              "    </tr>\n",
              "    <tr>\n",
              "      <th>8</th>\n",
              "      <td>2008-12-09</td>\n",
              "      <td>Albury</td>\n",
              "      <td>9.7</td>\n",
              "      <td>31.9</td>\n",
              "      <td>0.0</td>\n",
              "      <td>NaN</td>\n",
              "      <td>NaN</td>\n",
              "      <td>NNW</td>\n",
              "      <td>80.0</td>\n",
              "      <td>SE</td>\n",
              "      <td>NW</td>\n",
              "      <td>7.0</td>\n",
              "      <td>28.0</td>\n",
              "      <td>42.0</td>\n",
              "      <td>9.0</td>\n",
              "      <td>1008.9</td>\n",
              "      <td>1003.6</td>\n",
              "      <td>NaN</td>\n",
              "      <td>NaN</td>\n",
              "      <td>18.3</td>\n",
              "      <td>30.2</td>\n",
              "      <td>No</td>\n",
              "      <td>Yes</td>\n",
              "    </tr>\n",
              "    <tr>\n",
              "      <th>9</th>\n",
              "      <td>2008-12-10</td>\n",
              "      <td>Albury</td>\n",
              "      <td>13.1</td>\n",
              "      <td>30.1</td>\n",
              "      <td>1.4</td>\n",
              "      <td>NaN</td>\n",
              "      <td>NaN</td>\n",
              "      <td>W</td>\n",
              "      <td>28.0</td>\n",
              "      <td>S</td>\n",
              "      <td>SSE</td>\n",
              "      <td>15.0</td>\n",
              "      <td>11.0</td>\n",
              "      <td>58.0</td>\n",
              "      <td>27.0</td>\n",
              "      <td>1007.0</td>\n",
              "      <td>1005.7</td>\n",
              "      <td>NaN</td>\n",
              "      <td>NaN</td>\n",
              "      <td>20.1</td>\n",
              "      <td>28.2</td>\n",
              "      <td>Yes</td>\n",
              "      <td>No</td>\n",
              "    </tr>\n",
              "  </tbody>\n",
              "</table>\n",
              "</div>"
            ],
            "text/plain": [
              "         Date Location  MinTemp  ...  Temp3pm  RainToday  RainTomorrow\n",
              "0  2008-12-01   Albury     13.4  ...     21.8         No            No\n",
              "1  2008-12-02   Albury      7.4  ...     24.3         No            No\n",
              "2  2008-12-03   Albury     12.9  ...     23.2         No            No\n",
              "3  2008-12-04   Albury      9.2  ...     26.5         No            No\n",
              "4  2008-12-05   Albury     17.5  ...     29.7         No            No\n",
              "5  2008-12-06   Albury     14.6  ...     28.9         No            No\n",
              "6  2008-12-07   Albury     14.3  ...     24.6         No            No\n",
              "7  2008-12-08   Albury      7.7  ...     25.5         No            No\n",
              "8  2008-12-09   Albury      9.7  ...     30.2         No           Yes\n",
              "9  2008-12-10   Albury     13.1  ...     28.2        Yes            No\n",
              "\n",
              "[10 rows x 23 columns]"
            ]
          },
          "metadata": {},
          "execution_count": 5
        }
      ]
    },
    {
      "cell_type": "markdown",
      "metadata": {
        "id": "6rXcaMFo-U3_"
      },
      "source": [
        "**Melihat 10 data tengah**"
      ]
    },
    {
      "cell_type": "code",
      "metadata": {
        "id": "am2urXt-Ml0D",
        "colab": {
          "base_uri": "https://localhost:8080/"
        },
        "outputId": "1b02a25e-3d68-4776-8dca-86fe7483bffa"
      },
      "source": [
        "145460 / 2"
      ],
      "execution_count": 6,
      "outputs": [
        {
          "output_type": "execute_result",
          "data": {
            "text/plain": [
              "72730.0"
            ]
          },
          "metadata": {},
          "execution_count": 6
        }
      ]
    },
    {
      "cell_type": "code",
      "metadata": {
        "id": "aYUS-Hx6MweX",
        "colab": {
          "base_uri": "https://localhost:8080/",
          "height": 550
        },
        "outputId": "2979629b-87d3-4805-eac9-1e06d37ef372"
      },
      "source": [
        "data[72730:72740]"
      ],
      "execution_count": 7,
      "outputs": [
        {
          "output_type": "execute_result",
          "data": {
            "text/html": [
              "<div>\n",
              "<style scoped>\n",
              "    .dataframe tbody tr th:only-of-type {\n",
              "        vertical-align: middle;\n",
              "    }\n",
              "\n",
              "    .dataframe tbody tr th {\n",
              "        vertical-align: top;\n",
              "    }\n",
              "\n",
              "    .dataframe thead th {\n",
              "        text-align: right;\n",
              "    }\n",
              "</style>\n",
              "<table border=\"1\" class=\"dataframe\">\n",
              "  <thead>\n",
              "    <tr style=\"text-align: right;\">\n",
              "      <th></th>\n",
              "      <th>Date</th>\n",
              "      <th>Location</th>\n",
              "      <th>MinTemp</th>\n",
              "      <th>MaxTemp</th>\n",
              "      <th>Rainfall</th>\n",
              "      <th>Evaporation</th>\n",
              "      <th>Sunshine</th>\n",
              "      <th>WindGustDir</th>\n",
              "      <th>WindGustSpeed</th>\n",
              "      <th>WindDir9am</th>\n",
              "      <th>WindDir3pm</th>\n",
              "      <th>WindSpeed9am</th>\n",
              "      <th>WindSpeed3pm</th>\n",
              "      <th>Humidity9am</th>\n",
              "      <th>Humidity3pm</th>\n",
              "      <th>Pressure9am</th>\n",
              "      <th>Pressure3pm</th>\n",
              "      <th>Cloud9am</th>\n",
              "      <th>Cloud3pm</th>\n",
              "      <th>Temp9am</th>\n",
              "      <th>Temp3pm</th>\n",
              "      <th>RainToday</th>\n",
              "      <th>RainTomorrow</th>\n",
              "    </tr>\n",
              "  </thead>\n",
              "  <tbody>\n",
              "    <tr>\n",
              "      <th>72730</th>\n",
              "      <td>2015-08-24</td>\n",
              "      <td>Mildura</td>\n",
              "      <td>8.8</td>\n",
              "      <td>15.4</td>\n",
              "      <td>5.0</td>\n",
              "      <td>3.2</td>\n",
              "      <td>1.6</td>\n",
              "      <td>SSE</td>\n",
              "      <td>39.0</td>\n",
              "      <td>S</td>\n",
              "      <td>S</td>\n",
              "      <td>17.0</td>\n",
              "      <td>20.0</td>\n",
              "      <td>91.0</td>\n",
              "      <td>51.0</td>\n",
              "      <td>1018.3</td>\n",
              "      <td>1018.5</td>\n",
              "      <td>8.0</td>\n",
              "      <td>8.0</td>\n",
              "      <td>9.1</td>\n",
              "      <td>13.1</td>\n",
              "      <td>Yes</td>\n",
              "      <td>No</td>\n",
              "    </tr>\n",
              "    <tr>\n",
              "      <th>72731</th>\n",
              "      <td>2015-08-25</td>\n",
              "      <td>Mildura</td>\n",
              "      <td>7.4</td>\n",
              "      <td>16.0</td>\n",
              "      <td>1.0</td>\n",
              "      <td>3.2</td>\n",
              "      <td>3.3</td>\n",
              "      <td>SSW</td>\n",
              "      <td>35.0</td>\n",
              "      <td>S</td>\n",
              "      <td>S</td>\n",
              "      <td>22.0</td>\n",
              "      <td>7.0</td>\n",
              "      <td>73.0</td>\n",
              "      <td>55.0</td>\n",
              "      <td>1024.5</td>\n",
              "      <td>1023.0</td>\n",
              "      <td>4.0</td>\n",
              "      <td>7.0</td>\n",
              "      <td>9.3</td>\n",
              "      <td>15.7</td>\n",
              "      <td>No</td>\n",
              "      <td>No</td>\n",
              "    </tr>\n",
              "    <tr>\n",
              "      <th>72732</th>\n",
              "      <td>2015-08-26</td>\n",
              "      <td>Mildura</td>\n",
              "      <td>7.8</td>\n",
              "      <td>18.4</td>\n",
              "      <td>0.0</td>\n",
              "      <td>3.2</td>\n",
              "      <td>8.5</td>\n",
              "      <td>WNW</td>\n",
              "      <td>20.0</td>\n",
              "      <td>E</td>\n",
              "      <td>NNE</td>\n",
              "      <td>9.0</td>\n",
              "      <td>11.0</td>\n",
              "      <td>79.0</td>\n",
              "      <td>34.0</td>\n",
              "      <td>1024.7</td>\n",
              "      <td>1021.5</td>\n",
              "      <td>6.0</td>\n",
              "      <td>7.0</td>\n",
              "      <td>11.9</td>\n",
              "      <td>17.8</td>\n",
              "      <td>No</td>\n",
              "      <td>No</td>\n",
              "    </tr>\n",
              "    <tr>\n",
              "      <th>72733</th>\n",
              "      <td>2015-08-27</td>\n",
              "      <td>Mildura</td>\n",
              "      <td>7.6</td>\n",
              "      <td>17.9</td>\n",
              "      <td>0.0</td>\n",
              "      <td>2.4</td>\n",
              "      <td>8.4</td>\n",
              "      <td>SSW</td>\n",
              "      <td>35.0</td>\n",
              "      <td>SW</td>\n",
              "      <td>SSW</td>\n",
              "      <td>9.0</td>\n",
              "      <td>15.0</td>\n",
              "      <td>84.0</td>\n",
              "      <td>33.0</td>\n",
              "      <td>1024.1</td>\n",
              "      <td>1022.2</td>\n",
              "      <td>7.0</td>\n",
              "      <td>4.0</td>\n",
              "      <td>10.3</td>\n",
              "      <td>17.6</td>\n",
              "      <td>No</td>\n",
              "      <td>No</td>\n",
              "    </tr>\n",
              "    <tr>\n",
              "      <th>72734</th>\n",
              "      <td>2015-08-28</td>\n",
              "      <td>Mildura</td>\n",
              "      <td>4.3</td>\n",
              "      <td>16.8</td>\n",
              "      <td>0.0</td>\n",
              "      <td>2.4</td>\n",
              "      <td>6.0</td>\n",
              "      <td>SSE</td>\n",
              "      <td>26.0</td>\n",
              "      <td>S</td>\n",
              "      <td>S</td>\n",
              "      <td>15.0</td>\n",
              "      <td>13.0</td>\n",
              "      <td>85.0</td>\n",
              "      <td>46.0</td>\n",
              "      <td>1028.2</td>\n",
              "      <td>1025.4</td>\n",
              "      <td>2.0</td>\n",
              "      <td>6.0</td>\n",
              "      <td>9.0</td>\n",
              "      <td>15.4</td>\n",
              "      <td>No</td>\n",
              "      <td>No</td>\n",
              "    </tr>\n",
              "    <tr>\n",
              "      <th>72735</th>\n",
              "      <td>2015-08-29</td>\n",
              "      <td>Mildura</td>\n",
              "      <td>1.4</td>\n",
              "      <td>16.4</td>\n",
              "      <td>0.0</td>\n",
              "      <td>2.6</td>\n",
              "      <td>9.0</td>\n",
              "      <td>SE</td>\n",
              "      <td>30.0</td>\n",
              "      <td>SE</td>\n",
              "      <td>SSW</td>\n",
              "      <td>22.0</td>\n",
              "      <td>13.0</td>\n",
              "      <td>73.0</td>\n",
              "      <td>35.0</td>\n",
              "      <td>1028.5</td>\n",
              "      <td>1025.6</td>\n",
              "      <td>3.0</td>\n",
              "      <td>6.0</td>\n",
              "      <td>8.9</td>\n",
              "      <td>14.9</td>\n",
              "      <td>No</td>\n",
              "      <td>No</td>\n",
              "    </tr>\n",
              "    <tr>\n",
              "      <th>72736</th>\n",
              "      <td>2015-08-30</td>\n",
              "      <td>Mildura</td>\n",
              "      <td>-0.5</td>\n",
              "      <td>17.2</td>\n",
              "      <td>0.0</td>\n",
              "      <td>2.6</td>\n",
              "      <td>10.2</td>\n",
              "      <td>SSW</td>\n",
              "      <td>28.0</td>\n",
              "      <td>SE</td>\n",
              "      <td>SSE</td>\n",
              "      <td>11.0</td>\n",
              "      <td>11.0</td>\n",
              "      <td>74.0</td>\n",
              "      <td>35.0</td>\n",
              "      <td>1027.2</td>\n",
              "      <td>1022.8</td>\n",
              "      <td>0.0</td>\n",
              "      <td>0.0</td>\n",
              "      <td>7.9</td>\n",
              "      <td>16.8</td>\n",
              "      <td>No</td>\n",
              "      <td>No</td>\n",
              "    </tr>\n",
              "    <tr>\n",
              "      <th>72737</th>\n",
              "      <td>2015-08-31</td>\n",
              "      <td>Mildura</td>\n",
              "      <td>-0.3</td>\n",
              "      <td>18.7</td>\n",
              "      <td>0.0</td>\n",
              "      <td>2.6</td>\n",
              "      <td>10.9</td>\n",
              "      <td>NW</td>\n",
              "      <td>24.0</td>\n",
              "      <td>ESE</td>\n",
              "      <td>SW</td>\n",
              "      <td>9.0</td>\n",
              "      <td>13.0</td>\n",
              "      <td>74.0</td>\n",
              "      <td>30.0</td>\n",
              "      <td>1022.5</td>\n",
              "      <td>1018.6</td>\n",
              "      <td>2.0</td>\n",
              "      <td>0.0</td>\n",
              "      <td>8.4</td>\n",
              "      <td>17.8</td>\n",
              "      <td>No</td>\n",
              "      <td>No</td>\n",
              "    </tr>\n",
              "    <tr>\n",
              "      <th>72738</th>\n",
              "      <td>2015-09-01</td>\n",
              "      <td>Mildura</td>\n",
              "      <td>3.7</td>\n",
              "      <td>21.9</td>\n",
              "      <td>0.0</td>\n",
              "      <td>2.8</td>\n",
              "      <td>7.9</td>\n",
              "      <td>NNE</td>\n",
              "      <td>41.0</td>\n",
              "      <td>N</td>\n",
              "      <td>N</td>\n",
              "      <td>11.0</td>\n",
              "      <td>20.0</td>\n",
              "      <td>52.0</td>\n",
              "      <td>27.0</td>\n",
              "      <td>1016.7</td>\n",
              "      <td>1012.6</td>\n",
              "      <td>1.0</td>\n",
              "      <td>6.0</td>\n",
              "      <td>11.6</td>\n",
              "      <td>20.1</td>\n",
              "      <td>No</td>\n",
              "      <td>No</td>\n",
              "    </tr>\n",
              "    <tr>\n",
              "      <th>72739</th>\n",
              "      <td>2015-09-02</td>\n",
              "      <td>Mildura</td>\n",
              "      <td>10.5</td>\n",
              "      <td>14.6</td>\n",
              "      <td>0.8</td>\n",
              "      <td>6.0</td>\n",
              "      <td>6.3</td>\n",
              "      <td>NE</td>\n",
              "      <td>26.0</td>\n",
              "      <td>ENE</td>\n",
              "      <td>ENE</td>\n",
              "      <td>15.0</td>\n",
              "      <td>9.0</td>\n",
              "      <td>71.0</td>\n",
              "      <td>84.0</td>\n",
              "      <td>1008.1</td>\n",
              "      <td>1004.6</td>\n",
              "      <td>6.0</td>\n",
              "      <td>7.0</td>\n",
              "      <td>12.7</td>\n",
              "      <td>12.4</td>\n",
              "      <td>No</td>\n",
              "      <td>Yes</td>\n",
              "    </tr>\n",
              "  </tbody>\n",
              "</table>\n",
              "</div>"
            ],
            "text/plain": [
              "             Date Location  MinTemp  ...  Temp3pm  RainToday  RainTomorrow\n",
              "72730  2015-08-24  Mildura      8.8  ...     13.1        Yes            No\n",
              "72731  2015-08-25  Mildura      7.4  ...     15.7         No            No\n",
              "72732  2015-08-26  Mildura      7.8  ...     17.8         No            No\n",
              "72733  2015-08-27  Mildura      7.6  ...     17.6         No            No\n",
              "72734  2015-08-28  Mildura      4.3  ...     15.4         No            No\n",
              "72735  2015-08-29  Mildura      1.4  ...     14.9         No            No\n",
              "72736  2015-08-30  Mildura     -0.5  ...     16.8         No            No\n",
              "72737  2015-08-31  Mildura     -0.3  ...     17.8         No            No\n",
              "72738  2015-09-01  Mildura      3.7  ...     20.1         No            No\n",
              "72739  2015-09-02  Mildura     10.5  ...     12.4         No           Yes\n",
              "\n",
              "[10 rows x 23 columns]"
            ]
          },
          "metadata": {},
          "execution_count": 7
        }
      ]
    },
    {
      "cell_type": "markdown",
      "metadata": {
        "id": "f2PCM2V--a-M"
      },
      "source": [
        "**Melihat isi 10 data terakhir**"
      ]
    },
    {
      "cell_type": "code",
      "metadata": {
        "id": "HKnN-BBsM3Dz",
        "colab": {
          "base_uri": "https://localhost:8080/",
          "height": 550
        },
        "outputId": "4025f5e7-a05c-4284-8e6d-ef1672928208"
      },
      "source": [
        "data.tail(10)"
      ],
      "execution_count": 8,
      "outputs": [
        {
          "output_type": "execute_result",
          "data": {
            "text/html": [
              "<div>\n",
              "<style scoped>\n",
              "    .dataframe tbody tr th:only-of-type {\n",
              "        vertical-align: middle;\n",
              "    }\n",
              "\n",
              "    .dataframe tbody tr th {\n",
              "        vertical-align: top;\n",
              "    }\n",
              "\n",
              "    .dataframe thead th {\n",
              "        text-align: right;\n",
              "    }\n",
              "</style>\n",
              "<table border=\"1\" class=\"dataframe\">\n",
              "  <thead>\n",
              "    <tr style=\"text-align: right;\">\n",
              "      <th></th>\n",
              "      <th>Date</th>\n",
              "      <th>Location</th>\n",
              "      <th>MinTemp</th>\n",
              "      <th>MaxTemp</th>\n",
              "      <th>Rainfall</th>\n",
              "      <th>Evaporation</th>\n",
              "      <th>Sunshine</th>\n",
              "      <th>WindGustDir</th>\n",
              "      <th>WindGustSpeed</th>\n",
              "      <th>WindDir9am</th>\n",
              "      <th>WindDir3pm</th>\n",
              "      <th>WindSpeed9am</th>\n",
              "      <th>WindSpeed3pm</th>\n",
              "      <th>Humidity9am</th>\n",
              "      <th>Humidity3pm</th>\n",
              "      <th>Pressure9am</th>\n",
              "      <th>Pressure3pm</th>\n",
              "      <th>Cloud9am</th>\n",
              "      <th>Cloud3pm</th>\n",
              "      <th>Temp9am</th>\n",
              "      <th>Temp3pm</th>\n",
              "      <th>RainToday</th>\n",
              "      <th>RainTomorrow</th>\n",
              "    </tr>\n",
              "  </thead>\n",
              "  <tbody>\n",
              "    <tr>\n",
              "      <th>145450</th>\n",
              "      <td>2017-06-16</td>\n",
              "      <td>Uluru</td>\n",
              "      <td>5.2</td>\n",
              "      <td>24.3</td>\n",
              "      <td>0.0</td>\n",
              "      <td>NaN</td>\n",
              "      <td>NaN</td>\n",
              "      <td>E</td>\n",
              "      <td>24.0</td>\n",
              "      <td>SE</td>\n",
              "      <td>E</td>\n",
              "      <td>11.0</td>\n",
              "      <td>11.0</td>\n",
              "      <td>53.0</td>\n",
              "      <td>24.0</td>\n",
              "      <td>1023.8</td>\n",
              "      <td>1020.0</td>\n",
              "      <td>NaN</td>\n",
              "      <td>NaN</td>\n",
              "      <td>12.3</td>\n",
              "      <td>23.3</td>\n",
              "      <td>No</td>\n",
              "      <td>No</td>\n",
              "    </tr>\n",
              "    <tr>\n",
              "      <th>145451</th>\n",
              "      <td>2017-06-17</td>\n",
              "      <td>Uluru</td>\n",
              "      <td>6.4</td>\n",
              "      <td>23.4</td>\n",
              "      <td>0.0</td>\n",
              "      <td>NaN</td>\n",
              "      <td>NaN</td>\n",
              "      <td>ESE</td>\n",
              "      <td>31.0</td>\n",
              "      <td>S</td>\n",
              "      <td>ESE</td>\n",
              "      <td>15.0</td>\n",
              "      <td>17.0</td>\n",
              "      <td>53.0</td>\n",
              "      <td>25.0</td>\n",
              "      <td>1025.8</td>\n",
              "      <td>1023.0</td>\n",
              "      <td>NaN</td>\n",
              "      <td>NaN</td>\n",
              "      <td>11.2</td>\n",
              "      <td>23.1</td>\n",
              "      <td>No</td>\n",
              "      <td>No</td>\n",
              "    </tr>\n",
              "    <tr>\n",
              "      <th>145452</th>\n",
              "      <td>2017-06-18</td>\n",
              "      <td>Uluru</td>\n",
              "      <td>8.0</td>\n",
              "      <td>20.7</td>\n",
              "      <td>0.0</td>\n",
              "      <td>NaN</td>\n",
              "      <td>NaN</td>\n",
              "      <td>ESE</td>\n",
              "      <td>41.0</td>\n",
              "      <td>SE</td>\n",
              "      <td>E</td>\n",
              "      <td>19.0</td>\n",
              "      <td>26.0</td>\n",
              "      <td>56.0</td>\n",
              "      <td>32.0</td>\n",
              "      <td>1028.1</td>\n",
              "      <td>1024.3</td>\n",
              "      <td>NaN</td>\n",
              "      <td>7.0</td>\n",
              "      <td>11.6</td>\n",
              "      <td>20.0</td>\n",
              "      <td>No</td>\n",
              "      <td>No</td>\n",
              "    </tr>\n",
              "    <tr>\n",
              "      <th>145453</th>\n",
              "      <td>2017-06-19</td>\n",
              "      <td>Uluru</td>\n",
              "      <td>7.4</td>\n",
              "      <td>20.6</td>\n",
              "      <td>0.0</td>\n",
              "      <td>NaN</td>\n",
              "      <td>NaN</td>\n",
              "      <td>E</td>\n",
              "      <td>35.0</td>\n",
              "      <td>ESE</td>\n",
              "      <td>E</td>\n",
              "      <td>15.0</td>\n",
              "      <td>17.0</td>\n",
              "      <td>63.0</td>\n",
              "      <td>33.0</td>\n",
              "      <td>1027.2</td>\n",
              "      <td>1023.3</td>\n",
              "      <td>NaN</td>\n",
              "      <td>NaN</td>\n",
              "      <td>11.0</td>\n",
              "      <td>20.3</td>\n",
              "      <td>No</td>\n",
              "      <td>No</td>\n",
              "    </tr>\n",
              "    <tr>\n",
              "      <th>145454</th>\n",
              "      <td>2017-06-20</td>\n",
              "      <td>Uluru</td>\n",
              "      <td>3.5</td>\n",
              "      <td>21.8</td>\n",
              "      <td>0.0</td>\n",
              "      <td>NaN</td>\n",
              "      <td>NaN</td>\n",
              "      <td>E</td>\n",
              "      <td>31.0</td>\n",
              "      <td>ESE</td>\n",
              "      <td>E</td>\n",
              "      <td>15.0</td>\n",
              "      <td>13.0</td>\n",
              "      <td>59.0</td>\n",
              "      <td>27.0</td>\n",
              "      <td>1024.7</td>\n",
              "      <td>1021.2</td>\n",
              "      <td>NaN</td>\n",
              "      <td>NaN</td>\n",
              "      <td>9.4</td>\n",
              "      <td>20.9</td>\n",
              "      <td>No</td>\n",
              "      <td>No</td>\n",
              "    </tr>\n",
              "    <tr>\n",
              "      <th>145455</th>\n",
              "      <td>2017-06-21</td>\n",
              "      <td>Uluru</td>\n",
              "      <td>2.8</td>\n",
              "      <td>23.4</td>\n",
              "      <td>0.0</td>\n",
              "      <td>NaN</td>\n",
              "      <td>NaN</td>\n",
              "      <td>E</td>\n",
              "      <td>31.0</td>\n",
              "      <td>SE</td>\n",
              "      <td>ENE</td>\n",
              "      <td>13.0</td>\n",
              "      <td>11.0</td>\n",
              "      <td>51.0</td>\n",
              "      <td>24.0</td>\n",
              "      <td>1024.6</td>\n",
              "      <td>1020.3</td>\n",
              "      <td>NaN</td>\n",
              "      <td>NaN</td>\n",
              "      <td>10.1</td>\n",
              "      <td>22.4</td>\n",
              "      <td>No</td>\n",
              "      <td>No</td>\n",
              "    </tr>\n",
              "    <tr>\n",
              "      <th>145456</th>\n",
              "      <td>2017-06-22</td>\n",
              "      <td>Uluru</td>\n",
              "      <td>3.6</td>\n",
              "      <td>25.3</td>\n",
              "      <td>0.0</td>\n",
              "      <td>NaN</td>\n",
              "      <td>NaN</td>\n",
              "      <td>NNW</td>\n",
              "      <td>22.0</td>\n",
              "      <td>SE</td>\n",
              "      <td>N</td>\n",
              "      <td>13.0</td>\n",
              "      <td>9.0</td>\n",
              "      <td>56.0</td>\n",
              "      <td>21.0</td>\n",
              "      <td>1023.5</td>\n",
              "      <td>1019.1</td>\n",
              "      <td>NaN</td>\n",
              "      <td>NaN</td>\n",
              "      <td>10.9</td>\n",
              "      <td>24.5</td>\n",
              "      <td>No</td>\n",
              "      <td>No</td>\n",
              "    </tr>\n",
              "    <tr>\n",
              "      <th>145457</th>\n",
              "      <td>2017-06-23</td>\n",
              "      <td>Uluru</td>\n",
              "      <td>5.4</td>\n",
              "      <td>26.9</td>\n",
              "      <td>0.0</td>\n",
              "      <td>NaN</td>\n",
              "      <td>NaN</td>\n",
              "      <td>N</td>\n",
              "      <td>37.0</td>\n",
              "      <td>SE</td>\n",
              "      <td>WNW</td>\n",
              "      <td>9.0</td>\n",
              "      <td>9.0</td>\n",
              "      <td>53.0</td>\n",
              "      <td>24.0</td>\n",
              "      <td>1021.0</td>\n",
              "      <td>1016.8</td>\n",
              "      <td>NaN</td>\n",
              "      <td>NaN</td>\n",
              "      <td>12.5</td>\n",
              "      <td>26.1</td>\n",
              "      <td>No</td>\n",
              "      <td>No</td>\n",
              "    </tr>\n",
              "    <tr>\n",
              "      <th>145458</th>\n",
              "      <td>2017-06-24</td>\n",
              "      <td>Uluru</td>\n",
              "      <td>7.8</td>\n",
              "      <td>27.0</td>\n",
              "      <td>0.0</td>\n",
              "      <td>NaN</td>\n",
              "      <td>NaN</td>\n",
              "      <td>SE</td>\n",
              "      <td>28.0</td>\n",
              "      <td>SSE</td>\n",
              "      <td>N</td>\n",
              "      <td>13.0</td>\n",
              "      <td>7.0</td>\n",
              "      <td>51.0</td>\n",
              "      <td>24.0</td>\n",
              "      <td>1019.4</td>\n",
              "      <td>1016.5</td>\n",
              "      <td>3.0</td>\n",
              "      <td>2.0</td>\n",
              "      <td>15.1</td>\n",
              "      <td>26.0</td>\n",
              "      <td>No</td>\n",
              "      <td>No</td>\n",
              "    </tr>\n",
              "    <tr>\n",
              "      <th>145459</th>\n",
              "      <td>2017-06-25</td>\n",
              "      <td>Uluru</td>\n",
              "      <td>14.9</td>\n",
              "      <td>NaN</td>\n",
              "      <td>0.0</td>\n",
              "      <td>NaN</td>\n",
              "      <td>NaN</td>\n",
              "      <td>NaN</td>\n",
              "      <td>NaN</td>\n",
              "      <td>ESE</td>\n",
              "      <td>ESE</td>\n",
              "      <td>17.0</td>\n",
              "      <td>17.0</td>\n",
              "      <td>62.0</td>\n",
              "      <td>36.0</td>\n",
              "      <td>1020.2</td>\n",
              "      <td>1017.9</td>\n",
              "      <td>8.0</td>\n",
              "      <td>8.0</td>\n",
              "      <td>15.0</td>\n",
              "      <td>20.9</td>\n",
              "      <td>No</td>\n",
              "      <td>NaN</td>\n",
              "    </tr>\n",
              "  </tbody>\n",
              "</table>\n",
              "</div>"
            ],
            "text/plain": [
              "              Date Location  MinTemp  ...  Temp3pm  RainToday  RainTomorrow\n",
              "145450  2017-06-16    Uluru      5.2  ...     23.3         No            No\n",
              "145451  2017-06-17    Uluru      6.4  ...     23.1         No            No\n",
              "145452  2017-06-18    Uluru      8.0  ...     20.0         No            No\n",
              "145453  2017-06-19    Uluru      7.4  ...     20.3         No            No\n",
              "145454  2017-06-20    Uluru      3.5  ...     20.9         No            No\n",
              "145455  2017-06-21    Uluru      2.8  ...     22.4         No            No\n",
              "145456  2017-06-22    Uluru      3.6  ...     24.5         No            No\n",
              "145457  2017-06-23    Uluru      5.4  ...     26.1         No            No\n",
              "145458  2017-06-24    Uluru      7.8  ...     26.0         No            No\n",
              "145459  2017-06-25    Uluru     14.9  ...     20.9         No           NaN\n",
              "\n",
              "[10 rows x 23 columns]"
            ]
          },
          "metadata": {},
          "execution_count": 8
        }
      ]
    },
    {
      "cell_type": "markdown",
      "metadata": {
        "id": "DSerd77P-g9E"
      },
      "source": [
        "**Melihat nama kolom pada data**"
      ]
    },
    {
      "cell_type": "code",
      "metadata": {
        "id": "llkFF4MgM89H",
        "colab": {
          "base_uri": "https://localhost:8080/"
        },
        "outputId": "b246b819-acf5-4f85-aabf-317e9bc3979b"
      },
      "source": [
        "data.columns.values"
      ],
      "execution_count": 9,
      "outputs": [
        {
          "output_type": "execute_result",
          "data": {
            "text/plain": [
              "array(['Date', 'Location', 'MinTemp', 'MaxTemp', 'Rainfall',\n",
              "       'Evaporation', 'Sunshine', 'WindGustDir', 'WindGustSpeed',\n",
              "       'WindDir9am', 'WindDir3pm', 'WindSpeed9am', 'WindSpeed3pm',\n",
              "       'Humidity9am', 'Humidity3pm', 'Pressure9am', 'Pressure3pm',\n",
              "       'Cloud9am', 'Cloud3pm', 'Temp9am', 'Temp3pm', 'RainToday',\n",
              "       'RainTomorrow'], dtype=object)"
            ]
          },
          "metadata": {},
          "execution_count": 9
        }
      ]
    },
    {
      "cell_type": "markdown",
      "metadata": {
        "id": "ZjgvYVFe-lc-"
      },
      "source": [
        "**Melihat info data dan mengambil informasi tipe data semua kolom**"
      ]
    },
    {
      "cell_type": "code",
      "metadata": {
        "id": "wG46BBU8M_oF",
        "colab": {
          "base_uri": "https://localhost:8080/"
        },
        "outputId": "adecb449-8570-432c-b07e-e6eb3cdfd60c"
      },
      "source": [
        "data.info()"
      ],
      "execution_count": 10,
      "outputs": [
        {
          "output_type": "stream",
          "name": "stdout",
          "text": [
            "<class 'pandas.core.frame.DataFrame'>\n",
            "RangeIndex: 145460 entries, 0 to 145459\n",
            "Data columns (total 23 columns):\n",
            " #   Column         Non-Null Count   Dtype  \n",
            "---  ------         --------------   -----  \n",
            " 0   Date           145460 non-null  object \n",
            " 1   Location       145460 non-null  object \n",
            " 2   MinTemp        143975 non-null  float64\n",
            " 3   MaxTemp        144199 non-null  float64\n",
            " 4   Rainfall       142199 non-null  float64\n",
            " 5   Evaporation    82670 non-null   float64\n",
            " 6   Sunshine       75625 non-null   float64\n",
            " 7   WindGustDir    135134 non-null  object \n",
            " 8   WindGustSpeed  135197 non-null  float64\n",
            " 9   WindDir9am     134894 non-null  object \n",
            " 10  WindDir3pm     141232 non-null  object \n",
            " 11  WindSpeed9am   143693 non-null  float64\n",
            " 12  WindSpeed3pm   142398 non-null  float64\n",
            " 13  Humidity9am    142806 non-null  float64\n",
            " 14  Humidity3pm    140953 non-null  float64\n",
            " 15  Pressure9am    130395 non-null  float64\n",
            " 16  Pressure3pm    130432 non-null  float64\n",
            " 17  Cloud9am       89572 non-null   float64\n",
            " 18  Cloud3pm       86102 non-null   float64\n",
            " 19  Temp9am        143693 non-null  float64\n",
            " 20  Temp3pm        141851 non-null  float64\n",
            " 21  RainToday      142199 non-null  object \n",
            " 22  RainTomorrow   142193 non-null  object \n",
            "dtypes: float64(16), object(7)\n",
            "memory usage: 25.5+ MB\n"
          ]
        }
      ]
    },
    {
      "cell_type": "markdown",
      "metadata": {
        "id": "hblVUpTm-1z-"
      },
      "source": [
        "**Melihat nilai keseluruhan data dari masing-masing kolom**"
      ]
    },
    {
      "cell_type": "code",
      "metadata": {
        "id": "0cAd09INNE8s",
        "colab": {
          "base_uri": "https://localhost:8080/",
          "height": 317
        },
        "outputId": "4005c7da-0d6c-46df-c475-2f11eece44c6"
      },
      "source": [
        "data.describe()"
      ],
      "execution_count": 11,
      "outputs": [
        {
          "output_type": "execute_result",
          "data": {
            "text/html": [
              "<div>\n",
              "<style scoped>\n",
              "    .dataframe tbody tr th:only-of-type {\n",
              "        vertical-align: middle;\n",
              "    }\n",
              "\n",
              "    .dataframe tbody tr th {\n",
              "        vertical-align: top;\n",
              "    }\n",
              "\n",
              "    .dataframe thead th {\n",
              "        text-align: right;\n",
              "    }\n",
              "</style>\n",
              "<table border=\"1\" class=\"dataframe\">\n",
              "  <thead>\n",
              "    <tr style=\"text-align: right;\">\n",
              "      <th></th>\n",
              "      <th>MinTemp</th>\n",
              "      <th>MaxTemp</th>\n",
              "      <th>Rainfall</th>\n",
              "      <th>Evaporation</th>\n",
              "      <th>Sunshine</th>\n",
              "      <th>WindGustSpeed</th>\n",
              "      <th>WindSpeed9am</th>\n",
              "      <th>WindSpeed3pm</th>\n",
              "      <th>Humidity9am</th>\n",
              "      <th>Humidity3pm</th>\n",
              "      <th>Pressure9am</th>\n",
              "      <th>Pressure3pm</th>\n",
              "      <th>Cloud9am</th>\n",
              "      <th>Cloud3pm</th>\n",
              "      <th>Temp9am</th>\n",
              "      <th>Temp3pm</th>\n",
              "    </tr>\n",
              "  </thead>\n",
              "  <tbody>\n",
              "    <tr>\n",
              "      <th>count</th>\n",
              "      <td>143975.000000</td>\n",
              "      <td>144199.000000</td>\n",
              "      <td>142199.000000</td>\n",
              "      <td>82670.000000</td>\n",
              "      <td>75625.000000</td>\n",
              "      <td>135197.000000</td>\n",
              "      <td>143693.000000</td>\n",
              "      <td>142398.000000</td>\n",
              "      <td>142806.000000</td>\n",
              "      <td>140953.000000</td>\n",
              "      <td>130395.00000</td>\n",
              "      <td>130432.000000</td>\n",
              "      <td>89572.000000</td>\n",
              "      <td>86102.000000</td>\n",
              "      <td>143693.000000</td>\n",
              "      <td>141851.00000</td>\n",
              "    </tr>\n",
              "    <tr>\n",
              "      <th>mean</th>\n",
              "      <td>12.194034</td>\n",
              "      <td>23.221348</td>\n",
              "      <td>2.360918</td>\n",
              "      <td>5.468232</td>\n",
              "      <td>7.611178</td>\n",
              "      <td>40.035230</td>\n",
              "      <td>14.043426</td>\n",
              "      <td>18.662657</td>\n",
              "      <td>68.880831</td>\n",
              "      <td>51.539116</td>\n",
              "      <td>1017.64994</td>\n",
              "      <td>1015.255889</td>\n",
              "      <td>4.447461</td>\n",
              "      <td>4.509930</td>\n",
              "      <td>16.990631</td>\n",
              "      <td>21.68339</td>\n",
              "    </tr>\n",
              "    <tr>\n",
              "      <th>std</th>\n",
              "      <td>6.398495</td>\n",
              "      <td>7.119049</td>\n",
              "      <td>8.478060</td>\n",
              "      <td>4.193704</td>\n",
              "      <td>3.785483</td>\n",
              "      <td>13.607062</td>\n",
              "      <td>8.915375</td>\n",
              "      <td>8.809800</td>\n",
              "      <td>19.029164</td>\n",
              "      <td>20.795902</td>\n",
              "      <td>7.10653</td>\n",
              "      <td>7.037414</td>\n",
              "      <td>2.887159</td>\n",
              "      <td>2.720357</td>\n",
              "      <td>6.488753</td>\n",
              "      <td>6.93665</td>\n",
              "    </tr>\n",
              "    <tr>\n",
              "      <th>min</th>\n",
              "      <td>-8.500000</td>\n",
              "      <td>-4.800000</td>\n",
              "      <td>0.000000</td>\n",
              "      <td>0.000000</td>\n",
              "      <td>0.000000</td>\n",
              "      <td>6.000000</td>\n",
              "      <td>0.000000</td>\n",
              "      <td>0.000000</td>\n",
              "      <td>0.000000</td>\n",
              "      <td>0.000000</td>\n",
              "      <td>980.50000</td>\n",
              "      <td>977.100000</td>\n",
              "      <td>0.000000</td>\n",
              "      <td>0.000000</td>\n",
              "      <td>-7.200000</td>\n",
              "      <td>-5.40000</td>\n",
              "    </tr>\n",
              "    <tr>\n",
              "      <th>25%</th>\n",
              "      <td>7.600000</td>\n",
              "      <td>17.900000</td>\n",
              "      <td>0.000000</td>\n",
              "      <td>2.600000</td>\n",
              "      <td>4.800000</td>\n",
              "      <td>31.000000</td>\n",
              "      <td>7.000000</td>\n",
              "      <td>13.000000</td>\n",
              "      <td>57.000000</td>\n",
              "      <td>37.000000</td>\n",
              "      <td>1012.90000</td>\n",
              "      <td>1010.400000</td>\n",
              "      <td>1.000000</td>\n",
              "      <td>2.000000</td>\n",
              "      <td>12.300000</td>\n",
              "      <td>16.60000</td>\n",
              "    </tr>\n",
              "    <tr>\n",
              "      <th>50%</th>\n",
              "      <td>12.000000</td>\n",
              "      <td>22.600000</td>\n",
              "      <td>0.000000</td>\n",
              "      <td>4.800000</td>\n",
              "      <td>8.400000</td>\n",
              "      <td>39.000000</td>\n",
              "      <td>13.000000</td>\n",
              "      <td>19.000000</td>\n",
              "      <td>70.000000</td>\n",
              "      <td>52.000000</td>\n",
              "      <td>1017.60000</td>\n",
              "      <td>1015.200000</td>\n",
              "      <td>5.000000</td>\n",
              "      <td>5.000000</td>\n",
              "      <td>16.700000</td>\n",
              "      <td>21.10000</td>\n",
              "    </tr>\n",
              "    <tr>\n",
              "      <th>75%</th>\n",
              "      <td>16.900000</td>\n",
              "      <td>28.200000</td>\n",
              "      <td>0.800000</td>\n",
              "      <td>7.400000</td>\n",
              "      <td>10.600000</td>\n",
              "      <td>48.000000</td>\n",
              "      <td>19.000000</td>\n",
              "      <td>24.000000</td>\n",
              "      <td>83.000000</td>\n",
              "      <td>66.000000</td>\n",
              "      <td>1022.40000</td>\n",
              "      <td>1020.000000</td>\n",
              "      <td>7.000000</td>\n",
              "      <td>7.000000</td>\n",
              "      <td>21.600000</td>\n",
              "      <td>26.40000</td>\n",
              "    </tr>\n",
              "    <tr>\n",
              "      <th>max</th>\n",
              "      <td>33.900000</td>\n",
              "      <td>48.100000</td>\n",
              "      <td>371.000000</td>\n",
              "      <td>145.000000</td>\n",
              "      <td>14.500000</td>\n",
              "      <td>135.000000</td>\n",
              "      <td>130.000000</td>\n",
              "      <td>87.000000</td>\n",
              "      <td>100.000000</td>\n",
              "      <td>100.000000</td>\n",
              "      <td>1041.00000</td>\n",
              "      <td>1039.600000</td>\n",
              "      <td>9.000000</td>\n",
              "      <td>9.000000</td>\n",
              "      <td>40.200000</td>\n",
              "      <td>46.70000</td>\n",
              "    </tr>\n",
              "  </tbody>\n",
              "</table>\n",
              "</div>"
            ],
            "text/plain": [
              "             MinTemp        MaxTemp  ...        Temp9am       Temp3pm\n",
              "count  143975.000000  144199.000000  ...  143693.000000  141851.00000\n",
              "mean       12.194034      23.221348  ...      16.990631      21.68339\n",
              "std         6.398495       7.119049  ...       6.488753       6.93665\n",
              "min        -8.500000      -4.800000  ...      -7.200000      -5.40000\n",
              "25%         7.600000      17.900000  ...      12.300000      16.60000\n",
              "50%        12.000000      22.600000  ...      16.700000      21.10000\n",
              "75%        16.900000      28.200000  ...      21.600000      26.40000\n",
              "max        33.900000      48.100000  ...      40.200000      46.70000\n",
              "\n",
              "[8 rows x 16 columns]"
            ]
          },
          "metadata": {},
          "execution_count": 11
        }
      ]
    },
    {
      "cell_type": "markdown",
      "metadata": {
        "id": "PbPSoUrq_Djj"
      },
      "source": [
        "**Melihat nilai data yang kolomnya bertipe data object**"
      ]
    },
    {
      "cell_type": "code",
      "metadata": {
        "id": "jPqG3hPmNIDk",
        "colab": {
          "base_uri": "https://localhost:8080/",
          "height": 266
        },
        "outputId": "2c84214d-1f35-43a6-b8fb-045d2778bb20"
      },
      "source": [
        "data.select_dtypes(\"object\").describe().T"
      ],
      "execution_count": 12,
      "outputs": [
        {
          "output_type": "execute_result",
          "data": {
            "text/html": [
              "<div>\n",
              "<style scoped>\n",
              "    .dataframe tbody tr th:only-of-type {\n",
              "        vertical-align: middle;\n",
              "    }\n",
              "\n",
              "    .dataframe tbody tr th {\n",
              "        vertical-align: top;\n",
              "    }\n",
              "\n",
              "    .dataframe thead th {\n",
              "        text-align: right;\n",
              "    }\n",
              "</style>\n",
              "<table border=\"1\" class=\"dataframe\">\n",
              "  <thead>\n",
              "    <tr style=\"text-align: right;\">\n",
              "      <th></th>\n",
              "      <th>count</th>\n",
              "      <th>unique</th>\n",
              "      <th>top</th>\n",
              "      <th>freq</th>\n",
              "    </tr>\n",
              "  </thead>\n",
              "  <tbody>\n",
              "    <tr>\n",
              "      <th>Date</th>\n",
              "      <td>145460</td>\n",
              "      <td>3436</td>\n",
              "      <td>2017-01-29</td>\n",
              "      <td>49</td>\n",
              "    </tr>\n",
              "    <tr>\n",
              "      <th>Location</th>\n",
              "      <td>145460</td>\n",
              "      <td>49</td>\n",
              "      <td>Canberra</td>\n",
              "      <td>3436</td>\n",
              "    </tr>\n",
              "    <tr>\n",
              "      <th>WindGustDir</th>\n",
              "      <td>135134</td>\n",
              "      <td>16</td>\n",
              "      <td>W</td>\n",
              "      <td>9915</td>\n",
              "    </tr>\n",
              "    <tr>\n",
              "      <th>WindDir9am</th>\n",
              "      <td>134894</td>\n",
              "      <td>16</td>\n",
              "      <td>N</td>\n",
              "      <td>11758</td>\n",
              "    </tr>\n",
              "    <tr>\n",
              "      <th>WindDir3pm</th>\n",
              "      <td>141232</td>\n",
              "      <td>16</td>\n",
              "      <td>SE</td>\n",
              "      <td>10838</td>\n",
              "    </tr>\n",
              "    <tr>\n",
              "      <th>RainToday</th>\n",
              "      <td>142199</td>\n",
              "      <td>2</td>\n",
              "      <td>No</td>\n",
              "      <td>110319</td>\n",
              "    </tr>\n",
              "    <tr>\n",
              "      <th>RainTomorrow</th>\n",
              "      <td>142193</td>\n",
              "      <td>2</td>\n",
              "      <td>No</td>\n",
              "      <td>110316</td>\n",
              "    </tr>\n",
              "  </tbody>\n",
              "</table>\n",
              "</div>"
            ],
            "text/plain": [
              "               count unique         top    freq\n",
              "Date          145460   3436  2017-01-29      49\n",
              "Location      145460     49    Canberra    3436\n",
              "WindGustDir   135134     16           W    9915\n",
              "WindDir9am    134894     16           N   11758\n",
              "WindDir3pm    141232     16          SE   10838\n",
              "RainToday     142199      2          No  110319\n",
              "RainTomorrow  142193      2          No  110316"
            ]
          },
          "metadata": {},
          "execution_count": 12
        }
      ]
    },
    {
      "cell_type": "markdown",
      "metadata": {
        "id": "_jB6IblV_RH7"
      },
      "source": [
        "**Melihat nilai data yang kolomnya bertipe data number**"
      ]
    },
    {
      "cell_type": "code",
      "metadata": {
        "id": "3EPfSlVtNlUb",
        "colab": {
          "base_uri": "https://localhost:8080/",
          "height": 545
        },
        "outputId": "63e82766-f5e0-45dc-c9bb-c05acbd2d955"
      },
      "source": [
        "data.select_dtypes(\"number\").describe().T"
      ],
      "execution_count": 13,
      "outputs": [
        {
          "output_type": "execute_result",
          "data": {
            "text/html": [
              "<div>\n",
              "<style scoped>\n",
              "    .dataframe tbody tr th:only-of-type {\n",
              "        vertical-align: middle;\n",
              "    }\n",
              "\n",
              "    .dataframe tbody tr th {\n",
              "        vertical-align: top;\n",
              "    }\n",
              "\n",
              "    .dataframe thead th {\n",
              "        text-align: right;\n",
              "    }\n",
              "</style>\n",
              "<table border=\"1\" class=\"dataframe\">\n",
              "  <thead>\n",
              "    <tr style=\"text-align: right;\">\n",
              "      <th></th>\n",
              "      <th>count</th>\n",
              "      <th>mean</th>\n",
              "      <th>std</th>\n",
              "      <th>min</th>\n",
              "      <th>25%</th>\n",
              "      <th>50%</th>\n",
              "      <th>75%</th>\n",
              "      <th>max</th>\n",
              "    </tr>\n",
              "  </thead>\n",
              "  <tbody>\n",
              "    <tr>\n",
              "      <th>MinTemp</th>\n",
              "      <td>143975.0</td>\n",
              "      <td>12.194034</td>\n",
              "      <td>6.398495</td>\n",
              "      <td>-8.5</td>\n",
              "      <td>7.6</td>\n",
              "      <td>12.0</td>\n",
              "      <td>16.9</td>\n",
              "      <td>33.9</td>\n",
              "    </tr>\n",
              "    <tr>\n",
              "      <th>MaxTemp</th>\n",
              "      <td>144199.0</td>\n",
              "      <td>23.221348</td>\n",
              "      <td>7.119049</td>\n",
              "      <td>-4.8</td>\n",
              "      <td>17.9</td>\n",
              "      <td>22.6</td>\n",
              "      <td>28.2</td>\n",
              "      <td>48.1</td>\n",
              "    </tr>\n",
              "    <tr>\n",
              "      <th>Rainfall</th>\n",
              "      <td>142199.0</td>\n",
              "      <td>2.360918</td>\n",
              "      <td>8.478060</td>\n",
              "      <td>0.0</td>\n",
              "      <td>0.0</td>\n",
              "      <td>0.0</td>\n",
              "      <td>0.8</td>\n",
              "      <td>371.0</td>\n",
              "    </tr>\n",
              "    <tr>\n",
              "      <th>Evaporation</th>\n",
              "      <td>82670.0</td>\n",
              "      <td>5.468232</td>\n",
              "      <td>4.193704</td>\n",
              "      <td>0.0</td>\n",
              "      <td>2.6</td>\n",
              "      <td>4.8</td>\n",
              "      <td>7.4</td>\n",
              "      <td>145.0</td>\n",
              "    </tr>\n",
              "    <tr>\n",
              "      <th>Sunshine</th>\n",
              "      <td>75625.0</td>\n",
              "      <td>7.611178</td>\n",
              "      <td>3.785483</td>\n",
              "      <td>0.0</td>\n",
              "      <td>4.8</td>\n",
              "      <td>8.4</td>\n",
              "      <td>10.6</td>\n",
              "      <td>14.5</td>\n",
              "    </tr>\n",
              "    <tr>\n",
              "      <th>WindGustSpeed</th>\n",
              "      <td>135197.0</td>\n",
              "      <td>40.035230</td>\n",
              "      <td>13.607062</td>\n",
              "      <td>6.0</td>\n",
              "      <td>31.0</td>\n",
              "      <td>39.0</td>\n",
              "      <td>48.0</td>\n",
              "      <td>135.0</td>\n",
              "    </tr>\n",
              "    <tr>\n",
              "      <th>WindSpeed9am</th>\n",
              "      <td>143693.0</td>\n",
              "      <td>14.043426</td>\n",
              "      <td>8.915375</td>\n",
              "      <td>0.0</td>\n",
              "      <td>7.0</td>\n",
              "      <td>13.0</td>\n",
              "      <td>19.0</td>\n",
              "      <td>130.0</td>\n",
              "    </tr>\n",
              "    <tr>\n",
              "      <th>WindSpeed3pm</th>\n",
              "      <td>142398.0</td>\n",
              "      <td>18.662657</td>\n",
              "      <td>8.809800</td>\n",
              "      <td>0.0</td>\n",
              "      <td>13.0</td>\n",
              "      <td>19.0</td>\n",
              "      <td>24.0</td>\n",
              "      <td>87.0</td>\n",
              "    </tr>\n",
              "    <tr>\n",
              "      <th>Humidity9am</th>\n",
              "      <td>142806.0</td>\n",
              "      <td>68.880831</td>\n",
              "      <td>19.029164</td>\n",
              "      <td>0.0</td>\n",
              "      <td>57.0</td>\n",
              "      <td>70.0</td>\n",
              "      <td>83.0</td>\n",
              "      <td>100.0</td>\n",
              "    </tr>\n",
              "    <tr>\n",
              "      <th>Humidity3pm</th>\n",
              "      <td>140953.0</td>\n",
              "      <td>51.539116</td>\n",
              "      <td>20.795902</td>\n",
              "      <td>0.0</td>\n",
              "      <td>37.0</td>\n",
              "      <td>52.0</td>\n",
              "      <td>66.0</td>\n",
              "      <td>100.0</td>\n",
              "    </tr>\n",
              "    <tr>\n",
              "      <th>Pressure9am</th>\n",
              "      <td>130395.0</td>\n",
              "      <td>1017.649940</td>\n",
              "      <td>7.106530</td>\n",
              "      <td>980.5</td>\n",
              "      <td>1012.9</td>\n",
              "      <td>1017.6</td>\n",
              "      <td>1022.4</td>\n",
              "      <td>1041.0</td>\n",
              "    </tr>\n",
              "    <tr>\n",
              "      <th>Pressure3pm</th>\n",
              "      <td>130432.0</td>\n",
              "      <td>1015.255889</td>\n",
              "      <td>7.037414</td>\n",
              "      <td>977.1</td>\n",
              "      <td>1010.4</td>\n",
              "      <td>1015.2</td>\n",
              "      <td>1020.0</td>\n",
              "      <td>1039.6</td>\n",
              "    </tr>\n",
              "    <tr>\n",
              "      <th>Cloud9am</th>\n",
              "      <td>89572.0</td>\n",
              "      <td>4.447461</td>\n",
              "      <td>2.887159</td>\n",
              "      <td>0.0</td>\n",
              "      <td>1.0</td>\n",
              "      <td>5.0</td>\n",
              "      <td>7.0</td>\n",
              "      <td>9.0</td>\n",
              "    </tr>\n",
              "    <tr>\n",
              "      <th>Cloud3pm</th>\n",
              "      <td>86102.0</td>\n",
              "      <td>4.509930</td>\n",
              "      <td>2.720357</td>\n",
              "      <td>0.0</td>\n",
              "      <td>2.0</td>\n",
              "      <td>5.0</td>\n",
              "      <td>7.0</td>\n",
              "      <td>9.0</td>\n",
              "    </tr>\n",
              "    <tr>\n",
              "      <th>Temp9am</th>\n",
              "      <td>143693.0</td>\n",
              "      <td>16.990631</td>\n",
              "      <td>6.488753</td>\n",
              "      <td>-7.2</td>\n",
              "      <td>12.3</td>\n",
              "      <td>16.7</td>\n",
              "      <td>21.6</td>\n",
              "      <td>40.2</td>\n",
              "    </tr>\n",
              "    <tr>\n",
              "      <th>Temp3pm</th>\n",
              "      <td>141851.0</td>\n",
              "      <td>21.683390</td>\n",
              "      <td>6.936650</td>\n",
              "      <td>-5.4</td>\n",
              "      <td>16.6</td>\n",
              "      <td>21.1</td>\n",
              "      <td>26.4</td>\n",
              "      <td>46.7</td>\n",
              "    </tr>\n",
              "  </tbody>\n",
              "</table>\n",
              "</div>"
            ],
            "text/plain": [
              "                  count         mean        std  ...     50%     75%     max\n",
              "MinTemp        143975.0    12.194034   6.398495  ...    12.0    16.9    33.9\n",
              "MaxTemp        144199.0    23.221348   7.119049  ...    22.6    28.2    48.1\n",
              "Rainfall       142199.0     2.360918   8.478060  ...     0.0     0.8   371.0\n",
              "Evaporation     82670.0     5.468232   4.193704  ...     4.8     7.4   145.0\n",
              "Sunshine        75625.0     7.611178   3.785483  ...     8.4    10.6    14.5\n",
              "WindGustSpeed  135197.0    40.035230  13.607062  ...    39.0    48.0   135.0\n",
              "WindSpeed9am   143693.0    14.043426   8.915375  ...    13.0    19.0   130.0\n",
              "WindSpeed3pm   142398.0    18.662657   8.809800  ...    19.0    24.0    87.0\n",
              "Humidity9am    142806.0    68.880831  19.029164  ...    70.0    83.0   100.0\n",
              "Humidity3pm    140953.0    51.539116  20.795902  ...    52.0    66.0   100.0\n",
              "Pressure9am    130395.0  1017.649940   7.106530  ...  1017.6  1022.4  1041.0\n",
              "Pressure3pm    130432.0  1015.255889   7.037414  ...  1015.2  1020.0  1039.6\n",
              "Cloud9am        89572.0     4.447461   2.887159  ...     5.0     7.0     9.0\n",
              "Cloud3pm        86102.0     4.509930   2.720357  ...     5.0     7.0     9.0\n",
              "Temp9am        143693.0    16.990631   6.488753  ...    16.7    21.6    40.2\n",
              "Temp3pm        141851.0    21.683390   6.936650  ...    21.1    26.4    46.7\n",
              "\n",
              "[16 rows x 8 columns]"
            ]
          },
          "metadata": {},
          "execution_count": 13
        }
      ]
    },
    {
      "cell_type": "markdown",
      "metadata": {
        "id": "yVHiixGwlVKV"
      },
      "source": [
        "## **STEP 4 : DATA CLEANING**\n",
        "\n",
        "**Bagian ini berisi proses penyiapan data berupa data cleaning sebelum dilakukan explorasi data lebih lanjut. Proses cleaning dapat berupa memberi nama baru untuk setiap kolom, mengisi missing values, menghapus kolom yang tidak dipakai, dan lain sebagainya.**"
      ]
    },
    {
      "cell_type": "code",
      "metadata": {
        "id": "PfRnOICaNyIw"
      },
      "source": [
        "dtc =  data.copy()"
      ],
      "execution_count": 14,
      "outputs": []
    },
    {
      "cell_type": "markdown",
      "metadata": {
        "id": "nFObWnHr_VoJ"
      },
      "source": [
        "**Mengubah tipe data kolom Date yang sebelumnya bertipe data Object menjadi Datetime**"
      ]
    },
    {
      "cell_type": "code",
      "metadata": {
        "id": "cY830mj6On8N"
      },
      "source": [
        "dtc['Date'] = pd.to_datetime(dtc['Date']).dt.normalize()"
      ],
      "execution_count": 15,
      "outputs": []
    },
    {
      "cell_type": "markdown",
      "metadata": {
        "id": "8OR9vR5W_fmr"
      },
      "source": [
        "**Melihat jumlah data yang missing values pada tiap kolom**"
      ]
    },
    {
      "cell_type": "code",
      "metadata": {
        "id": "To0b84vmPR0u",
        "colab": {
          "base_uri": "https://localhost:8080/"
        },
        "outputId": "7fe837c6-50bb-40c9-d32a-7ebefed6f03a"
      },
      "source": [
        "dtc.isna().sum()"
      ],
      "execution_count": 16,
      "outputs": [
        {
          "output_type": "execute_result",
          "data": {
            "text/plain": [
              "Date                 0\n",
              "Location             0\n",
              "MinTemp           1485\n",
              "MaxTemp           1261\n",
              "Rainfall          3261\n",
              "Evaporation      62790\n",
              "Sunshine         69835\n",
              "WindGustDir      10326\n",
              "WindGustSpeed    10263\n",
              "WindDir9am       10566\n",
              "WindDir3pm        4228\n",
              "WindSpeed9am      1767\n",
              "WindSpeed3pm      3062\n",
              "Humidity9am       2654\n",
              "Humidity3pm       4507\n",
              "Pressure9am      15065\n",
              "Pressure3pm      15028\n",
              "Cloud9am         55888\n",
              "Cloud3pm         59358\n",
              "Temp9am           1767\n",
              "Temp3pm           3609\n",
              "RainToday         3261\n",
              "RainTomorrow      3267\n",
              "dtype: int64"
            ]
          },
          "metadata": {},
          "execution_count": 16
        }
      ]
    },
    {
      "cell_type": "code",
      "metadata": {
        "id": "D9MXOAIpPwpM",
        "colab": {
          "base_uri": "https://localhost:8080/"
        },
        "outputId": "d0653258-9d47-422d-f0a4-10a05ef8a0a8"
      },
      "source": [
        "dtc.isnull().sum() * 100 / len(data)"
      ],
      "execution_count": 17,
      "outputs": [
        {
          "output_type": "execute_result",
          "data": {
            "text/plain": [
              "Date              0.000000\n",
              "Location          0.000000\n",
              "MinTemp           1.020899\n",
              "MaxTemp           0.866905\n",
              "Rainfall          2.241853\n",
              "Evaporation      43.166506\n",
              "Sunshine         48.009762\n",
              "WindGustDir       7.098859\n",
              "WindGustSpeed     7.055548\n",
              "WindDir9am        7.263853\n",
              "WindDir3pm        2.906641\n",
              "WindSpeed9am      1.214767\n",
              "WindSpeed3pm      2.105046\n",
              "Humidity9am       1.824557\n",
              "Humidity3pm       3.098446\n",
              "Pressure9am      10.356799\n",
              "Pressure3pm      10.331363\n",
              "Cloud9am         38.421559\n",
              "Cloud3pm         40.807095\n",
              "Temp9am           1.214767\n",
              "Temp3pm           2.481094\n",
              "RainToday         2.241853\n",
              "RainTomorrow      2.245978\n",
              "dtype: float64"
            ]
          },
          "metadata": {},
          "execution_count": 17
        }
      ]
    },
    {
      "cell_type": "markdown",
      "metadata": {
        "id": "92C6bwXo_p2Q"
      },
      "source": [
        "**Drop data yang kolomnya berisi nilai Null**"
      ]
    },
    {
      "cell_type": "code",
      "metadata": {
        "id": "ndVZ2H2A9PSw"
      },
      "source": [
        "dtc.dropna(inplace=True)"
      ],
      "execution_count": 18,
      "outputs": []
    },
    {
      "cell_type": "markdown",
      "metadata": {
        "id": "RyS91Lzr_253"
      },
      "source": [
        "**Menghapus kolom Cloud9am dan Cloud3pm karena merasa tidak dipakai**"
      ]
    },
    {
      "cell_type": "code",
      "metadata": {
        "id": "FBC5ebsm9eX-"
      },
      "source": [
        "dtc.drop(['Cloud9am', 'Cloud3pm'], axis=1, inplace=True)"
      ],
      "execution_count": 19,
      "outputs": []
    },
    {
      "cell_type": "code",
      "metadata": {
        "id": "shBfOVSg9ukj",
        "colab": {
          "base_uri": "https://localhost:8080/",
          "height": 550
        },
        "outputId": "77ed4ed6-a9d2-4eb3-b771-7b50ca929945"
      },
      "source": [
        "dtc.head(10)"
      ],
      "execution_count": 20,
      "outputs": [
        {
          "output_type": "execute_result",
          "data": {
            "text/html": [
              "<div>\n",
              "<style scoped>\n",
              "    .dataframe tbody tr th:only-of-type {\n",
              "        vertical-align: middle;\n",
              "    }\n",
              "\n",
              "    .dataframe tbody tr th {\n",
              "        vertical-align: top;\n",
              "    }\n",
              "\n",
              "    .dataframe thead th {\n",
              "        text-align: right;\n",
              "    }\n",
              "</style>\n",
              "<table border=\"1\" class=\"dataframe\">\n",
              "  <thead>\n",
              "    <tr style=\"text-align: right;\">\n",
              "      <th></th>\n",
              "      <th>Date</th>\n",
              "      <th>Location</th>\n",
              "      <th>MinTemp</th>\n",
              "      <th>MaxTemp</th>\n",
              "      <th>Rainfall</th>\n",
              "      <th>Evaporation</th>\n",
              "      <th>Sunshine</th>\n",
              "      <th>WindGustDir</th>\n",
              "      <th>WindGustSpeed</th>\n",
              "      <th>WindDir9am</th>\n",
              "      <th>WindDir3pm</th>\n",
              "      <th>WindSpeed9am</th>\n",
              "      <th>WindSpeed3pm</th>\n",
              "      <th>Humidity9am</th>\n",
              "      <th>Humidity3pm</th>\n",
              "      <th>Pressure9am</th>\n",
              "      <th>Pressure3pm</th>\n",
              "      <th>Temp9am</th>\n",
              "      <th>Temp3pm</th>\n",
              "      <th>RainToday</th>\n",
              "      <th>RainTomorrow</th>\n",
              "    </tr>\n",
              "  </thead>\n",
              "  <tbody>\n",
              "    <tr>\n",
              "      <th>6049</th>\n",
              "      <td>2009-01-01</td>\n",
              "      <td>Cobar</td>\n",
              "      <td>17.9</td>\n",
              "      <td>35.2</td>\n",
              "      <td>0.0</td>\n",
              "      <td>12.0</td>\n",
              "      <td>12.3</td>\n",
              "      <td>SSW</td>\n",
              "      <td>48.0</td>\n",
              "      <td>ENE</td>\n",
              "      <td>SW</td>\n",
              "      <td>6.0</td>\n",
              "      <td>20.0</td>\n",
              "      <td>20.0</td>\n",
              "      <td>13.0</td>\n",
              "      <td>1006.3</td>\n",
              "      <td>1004.4</td>\n",
              "      <td>26.6</td>\n",
              "      <td>33.4</td>\n",
              "      <td>No</td>\n",
              "      <td>No</td>\n",
              "    </tr>\n",
              "    <tr>\n",
              "      <th>6050</th>\n",
              "      <td>2009-01-02</td>\n",
              "      <td>Cobar</td>\n",
              "      <td>18.4</td>\n",
              "      <td>28.9</td>\n",
              "      <td>0.0</td>\n",
              "      <td>14.8</td>\n",
              "      <td>13.0</td>\n",
              "      <td>S</td>\n",
              "      <td>37.0</td>\n",
              "      <td>SSE</td>\n",
              "      <td>SSE</td>\n",
              "      <td>19.0</td>\n",
              "      <td>19.0</td>\n",
              "      <td>30.0</td>\n",
              "      <td>8.0</td>\n",
              "      <td>1012.9</td>\n",
              "      <td>1012.1</td>\n",
              "      <td>20.3</td>\n",
              "      <td>27.0</td>\n",
              "      <td>No</td>\n",
              "      <td>No</td>\n",
              "    </tr>\n",
              "    <tr>\n",
              "      <th>6052</th>\n",
              "      <td>2009-01-04</td>\n",
              "      <td>Cobar</td>\n",
              "      <td>19.4</td>\n",
              "      <td>37.6</td>\n",
              "      <td>0.0</td>\n",
              "      <td>10.8</td>\n",
              "      <td>10.6</td>\n",
              "      <td>NNE</td>\n",
              "      <td>46.0</td>\n",
              "      <td>NNE</td>\n",
              "      <td>NNW</td>\n",
              "      <td>30.0</td>\n",
              "      <td>15.0</td>\n",
              "      <td>42.0</td>\n",
              "      <td>22.0</td>\n",
              "      <td>1012.3</td>\n",
              "      <td>1009.2</td>\n",
              "      <td>28.7</td>\n",
              "      <td>34.9</td>\n",
              "      <td>No</td>\n",
              "      <td>No</td>\n",
              "    </tr>\n",
              "    <tr>\n",
              "      <th>6053</th>\n",
              "      <td>2009-01-05</td>\n",
              "      <td>Cobar</td>\n",
              "      <td>21.9</td>\n",
              "      <td>38.4</td>\n",
              "      <td>0.0</td>\n",
              "      <td>11.4</td>\n",
              "      <td>12.2</td>\n",
              "      <td>WNW</td>\n",
              "      <td>31.0</td>\n",
              "      <td>WNW</td>\n",
              "      <td>WSW</td>\n",
              "      <td>6.0</td>\n",
              "      <td>6.0</td>\n",
              "      <td>37.0</td>\n",
              "      <td>22.0</td>\n",
              "      <td>1012.7</td>\n",
              "      <td>1009.1</td>\n",
              "      <td>29.1</td>\n",
              "      <td>35.6</td>\n",
              "      <td>No</td>\n",
              "      <td>No</td>\n",
              "    </tr>\n",
              "    <tr>\n",
              "      <th>6054</th>\n",
              "      <td>2009-01-06</td>\n",
              "      <td>Cobar</td>\n",
              "      <td>24.2</td>\n",
              "      <td>41.0</td>\n",
              "      <td>0.0</td>\n",
              "      <td>11.2</td>\n",
              "      <td>8.4</td>\n",
              "      <td>WNW</td>\n",
              "      <td>35.0</td>\n",
              "      <td>NW</td>\n",
              "      <td>WNW</td>\n",
              "      <td>17.0</td>\n",
              "      <td>13.0</td>\n",
              "      <td>19.0</td>\n",
              "      <td>15.0</td>\n",
              "      <td>1010.7</td>\n",
              "      <td>1007.4</td>\n",
              "      <td>33.6</td>\n",
              "      <td>37.6</td>\n",
              "      <td>No</td>\n",
              "      <td>No</td>\n",
              "    </tr>\n",
              "    <tr>\n",
              "      <th>6055</th>\n",
              "      <td>2009-01-07</td>\n",
              "      <td>Cobar</td>\n",
              "      <td>27.1</td>\n",
              "      <td>36.1</td>\n",
              "      <td>0.0</td>\n",
              "      <td>13.0</td>\n",
              "      <td>0.0</td>\n",
              "      <td>N</td>\n",
              "      <td>43.0</td>\n",
              "      <td>N</td>\n",
              "      <td>WNW</td>\n",
              "      <td>7.0</td>\n",
              "      <td>20.0</td>\n",
              "      <td>26.0</td>\n",
              "      <td>19.0</td>\n",
              "      <td>1007.7</td>\n",
              "      <td>1007.4</td>\n",
              "      <td>30.7</td>\n",
              "      <td>34.3</td>\n",
              "      <td>No</td>\n",
              "      <td>No</td>\n",
              "    </tr>\n",
              "    <tr>\n",
              "      <th>6056</th>\n",
              "      <td>2009-01-08</td>\n",
              "      <td>Cobar</td>\n",
              "      <td>23.3</td>\n",
              "      <td>34.0</td>\n",
              "      <td>0.0</td>\n",
              "      <td>9.8</td>\n",
              "      <td>12.6</td>\n",
              "      <td>SSW</td>\n",
              "      <td>41.0</td>\n",
              "      <td>S</td>\n",
              "      <td>SSE</td>\n",
              "      <td>17.0</td>\n",
              "      <td>19.0</td>\n",
              "      <td>33.0</td>\n",
              "      <td>15.0</td>\n",
              "      <td>1011.3</td>\n",
              "      <td>1009.9</td>\n",
              "      <td>25.0</td>\n",
              "      <td>31.5</td>\n",
              "      <td>No</td>\n",
              "      <td>No</td>\n",
              "    </tr>\n",
              "    <tr>\n",
              "      <th>6057</th>\n",
              "      <td>2009-01-09</td>\n",
              "      <td>Cobar</td>\n",
              "      <td>16.1</td>\n",
              "      <td>34.2</td>\n",
              "      <td>0.0</td>\n",
              "      <td>14.6</td>\n",
              "      <td>13.2</td>\n",
              "      <td>SE</td>\n",
              "      <td>37.0</td>\n",
              "      <td>SE</td>\n",
              "      <td>S</td>\n",
              "      <td>15.0</td>\n",
              "      <td>6.0</td>\n",
              "      <td>25.0</td>\n",
              "      <td>9.0</td>\n",
              "      <td>1013.3</td>\n",
              "      <td>1009.2</td>\n",
              "      <td>20.7</td>\n",
              "      <td>32.8</td>\n",
              "      <td>No</td>\n",
              "      <td>No</td>\n",
              "    </tr>\n",
              "    <tr>\n",
              "      <th>6058</th>\n",
              "      <td>2009-01-10</td>\n",
              "      <td>Cobar</td>\n",
              "      <td>19.0</td>\n",
              "      <td>35.5</td>\n",
              "      <td>0.0</td>\n",
              "      <td>12.0</td>\n",
              "      <td>12.3</td>\n",
              "      <td>ENE</td>\n",
              "      <td>48.0</td>\n",
              "      <td>ENE</td>\n",
              "      <td>WSW</td>\n",
              "      <td>30.0</td>\n",
              "      <td>9.0</td>\n",
              "      <td>46.0</td>\n",
              "      <td>28.0</td>\n",
              "      <td>1008.3</td>\n",
              "      <td>1004.0</td>\n",
              "      <td>23.4</td>\n",
              "      <td>33.3</td>\n",
              "      <td>No</td>\n",
              "      <td>No</td>\n",
              "    </tr>\n",
              "    <tr>\n",
              "      <th>6059</th>\n",
              "      <td>2009-01-11</td>\n",
              "      <td>Cobar</td>\n",
              "      <td>19.7</td>\n",
              "      <td>35.5</td>\n",
              "      <td>0.0</td>\n",
              "      <td>11.0</td>\n",
              "      <td>12.7</td>\n",
              "      <td>NE</td>\n",
              "      <td>41.0</td>\n",
              "      <td>NNE</td>\n",
              "      <td>WSW</td>\n",
              "      <td>15.0</td>\n",
              "      <td>17.0</td>\n",
              "      <td>61.0</td>\n",
              "      <td>14.0</td>\n",
              "      <td>1007.9</td>\n",
              "      <td>1005.8</td>\n",
              "      <td>24.0</td>\n",
              "      <td>33.6</td>\n",
              "      <td>No</td>\n",
              "      <td>No</td>\n",
              "    </tr>\n",
              "  </tbody>\n",
              "</table>\n",
              "</div>"
            ],
            "text/plain": [
              "           Date Location  MinTemp  ...  Temp3pm  RainToday  RainTomorrow\n",
              "6049 2009-01-01    Cobar     17.9  ...     33.4         No            No\n",
              "6050 2009-01-02    Cobar     18.4  ...     27.0         No            No\n",
              "6052 2009-01-04    Cobar     19.4  ...     34.9         No            No\n",
              "6053 2009-01-05    Cobar     21.9  ...     35.6         No            No\n",
              "6054 2009-01-06    Cobar     24.2  ...     37.6         No            No\n",
              "6055 2009-01-07    Cobar     27.1  ...     34.3         No            No\n",
              "6056 2009-01-08    Cobar     23.3  ...     31.5         No            No\n",
              "6057 2009-01-09    Cobar     16.1  ...     32.8         No            No\n",
              "6058 2009-01-10    Cobar     19.0  ...     33.3         No            No\n",
              "6059 2009-01-11    Cobar     19.7  ...     33.6         No            No\n",
              "\n",
              "[10 rows x 21 columns]"
            ]
          },
          "metadata": {},
          "execution_count": 20
        }
      ]
    },
    {
      "cell_type": "markdown",
      "metadata": {
        "id": "47ovb11PABnM"
      },
      "source": [
        "**Cek kembali missing valuesnya**"
      ]
    },
    {
      "cell_type": "code",
      "metadata": {
        "id": "5qKF43g-VwFS",
        "colab": {
          "base_uri": "https://localhost:8080/"
        },
        "outputId": "2aa4fa98-052f-4d8a-e83f-d0af9d60867f"
      },
      "source": [
        "dtc.isna().sum()"
      ],
      "execution_count": 21,
      "outputs": [
        {
          "output_type": "execute_result",
          "data": {
            "text/plain": [
              "Date             0\n",
              "Location         0\n",
              "MinTemp          0\n",
              "MaxTemp          0\n",
              "Rainfall         0\n",
              "Evaporation      0\n",
              "Sunshine         0\n",
              "WindGustDir      0\n",
              "WindGustSpeed    0\n",
              "WindDir9am       0\n",
              "WindDir3pm       0\n",
              "WindSpeed9am     0\n",
              "WindSpeed3pm     0\n",
              "Humidity9am      0\n",
              "Humidity3pm      0\n",
              "Pressure9am      0\n",
              "Pressure3pm      0\n",
              "Temp9am          0\n",
              "Temp3pm          0\n",
              "RainToday        0\n",
              "RainTomorrow     0\n",
              "dtype: int64"
            ]
          },
          "metadata": {},
          "execution_count": 21
        }
      ]
    },
    {
      "cell_type": "markdown",
      "metadata": {
        "id": "Ix5jWTNKAHFX"
      },
      "source": [
        "**Data yang sudah di cleaning sekarang menjadi 56420 total baris dan 21 total kolom**"
      ]
    },
    {
      "cell_type": "code",
      "metadata": {
        "id": "xfG6JgDQWIlo",
        "colab": {
          "base_uri": "https://localhost:8080/"
        },
        "outputId": "fde42878-5881-4c29-91a1-6b118437a648"
      },
      "source": [
        "dtc.shape"
      ],
      "execution_count": 22,
      "outputs": [
        {
          "output_type": "execute_result",
          "data": {
            "text/plain": [
              "(56420, 21)"
            ]
          },
          "metadata": {},
          "execution_count": 22
        }
      ]
    },
    {
      "cell_type": "markdown",
      "metadata": {
        "id": "9mIeNZa9l99w"
      },
      "source": [
        "##**STEP 5 : EXPLORATORY DATA ANALYSIS (EDA)**"
      ]
    },
    {
      "cell_type": "markdown",
      "metadata": {
        "id": "UNn25bxrAfR8"
      },
      "source": [
        "**Memisahkan fitur berdasarkan tipe data**"
      ]
    },
    {
      "cell_type": "code",
      "metadata": {
        "id": "U0r36M4x-Zsj",
        "colab": {
          "base_uri": "https://localhost:8080/",
          "height": 483
        },
        "outputId": "4d1c73ff-085f-49f0-d487-6c6a483deba4"
      },
      "source": [
        "#find feature based on their data types\n",
        "datype = dtc.dtypes.reset_index()\n",
        "datype.columns = ['feature', 'type']\n",
        "\n",
        "#excluding object data types and feautre 'Date'\n",
        "datype[(datype['type'] != 'object') & (datype['feature'] != 'Date')]"
      ],
      "execution_count": 23,
      "outputs": [
        {
          "output_type": "execute_result",
          "data": {
            "text/html": [
              "<div>\n",
              "<style scoped>\n",
              "    .dataframe tbody tr th:only-of-type {\n",
              "        vertical-align: middle;\n",
              "    }\n",
              "\n",
              "    .dataframe tbody tr th {\n",
              "        vertical-align: top;\n",
              "    }\n",
              "\n",
              "    .dataframe thead th {\n",
              "        text-align: right;\n",
              "    }\n",
              "</style>\n",
              "<table border=\"1\" class=\"dataframe\">\n",
              "  <thead>\n",
              "    <tr style=\"text-align: right;\">\n",
              "      <th></th>\n",
              "      <th>feature</th>\n",
              "      <th>type</th>\n",
              "    </tr>\n",
              "  </thead>\n",
              "  <tbody>\n",
              "    <tr>\n",
              "      <th>2</th>\n",
              "      <td>MinTemp</td>\n",
              "      <td>float64</td>\n",
              "    </tr>\n",
              "    <tr>\n",
              "      <th>3</th>\n",
              "      <td>MaxTemp</td>\n",
              "      <td>float64</td>\n",
              "    </tr>\n",
              "    <tr>\n",
              "      <th>4</th>\n",
              "      <td>Rainfall</td>\n",
              "      <td>float64</td>\n",
              "    </tr>\n",
              "    <tr>\n",
              "      <th>5</th>\n",
              "      <td>Evaporation</td>\n",
              "      <td>float64</td>\n",
              "    </tr>\n",
              "    <tr>\n",
              "      <th>6</th>\n",
              "      <td>Sunshine</td>\n",
              "      <td>float64</td>\n",
              "    </tr>\n",
              "    <tr>\n",
              "      <th>8</th>\n",
              "      <td>WindGustSpeed</td>\n",
              "      <td>float64</td>\n",
              "    </tr>\n",
              "    <tr>\n",
              "      <th>11</th>\n",
              "      <td>WindSpeed9am</td>\n",
              "      <td>float64</td>\n",
              "    </tr>\n",
              "    <tr>\n",
              "      <th>12</th>\n",
              "      <td>WindSpeed3pm</td>\n",
              "      <td>float64</td>\n",
              "    </tr>\n",
              "    <tr>\n",
              "      <th>13</th>\n",
              "      <td>Humidity9am</td>\n",
              "      <td>float64</td>\n",
              "    </tr>\n",
              "    <tr>\n",
              "      <th>14</th>\n",
              "      <td>Humidity3pm</td>\n",
              "      <td>float64</td>\n",
              "    </tr>\n",
              "    <tr>\n",
              "      <th>15</th>\n",
              "      <td>Pressure9am</td>\n",
              "      <td>float64</td>\n",
              "    </tr>\n",
              "    <tr>\n",
              "      <th>16</th>\n",
              "      <td>Pressure3pm</td>\n",
              "      <td>float64</td>\n",
              "    </tr>\n",
              "    <tr>\n",
              "      <th>17</th>\n",
              "      <td>Temp9am</td>\n",
              "      <td>float64</td>\n",
              "    </tr>\n",
              "    <tr>\n",
              "      <th>18</th>\n",
              "      <td>Temp3pm</td>\n",
              "      <td>float64</td>\n",
              "    </tr>\n",
              "  </tbody>\n",
              "</table>\n",
              "</div>"
            ],
            "text/plain": [
              "          feature     type\n",
              "2         MinTemp  float64\n",
              "3         MaxTemp  float64\n",
              "4        Rainfall  float64\n",
              "5     Evaporation  float64\n",
              "6        Sunshine  float64\n",
              "8   WindGustSpeed  float64\n",
              "11   WindSpeed9am  float64\n",
              "12   WindSpeed3pm  float64\n",
              "13    Humidity9am  float64\n",
              "14    Humidity3pm  float64\n",
              "15    Pressure9am  float64\n",
              "16    Pressure3pm  float64\n",
              "17        Temp9am  float64\n",
              "18        Temp3pm  float64"
            ]
          },
          "metadata": {},
          "execution_count": 23
        }
      ]
    },
    {
      "cell_type": "code",
      "metadata": {
        "id": "d6gOrxwe-lZ2"
      },
      "source": [
        "dfeats = dtc.dtypes.reset_index()\n",
        "dfeats.columns = ['feature', 'type']\n",
        "\n",
        "#grouping all features with object datatype as 'column category'\n",
        "col_category = list(dfeats[dfeats['type'] == 'object']['feature'])"
      ],
      "execution_count": 24,
      "outputs": []
    },
    {
      "cell_type": "code",
      "metadata": {
        "id": "bd-EOvRQ-1JF",
        "colab": {
          "base_uri": "https://localhost:8080/",
          "height": 359
        },
        "outputId": "e9c499ba-0741-4e05-80fd-cad413b0f043"
      },
      "source": [
        "dtc[col_category].head(10)"
      ],
      "execution_count": 25,
      "outputs": [
        {
          "output_type": "execute_result",
          "data": {
            "text/html": [
              "<div>\n",
              "<style scoped>\n",
              "    .dataframe tbody tr th:only-of-type {\n",
              "        vertical-align: middle;\n",
              "    }\n",
              "\n",
              "    .dataframe tbody tr th {\n",
              "        vertical-align: top;\n",
              "    }\n",
              "\n",
              "    .dataframe thead th {\n",
              "        text-align: right;\n",
              "    }\n",
              "</style>\n",
              "<table border=\"1\" class=\"dataframe\">\n",
              "  <thead>\n",
              "    <tr style=\"text-align: right;\">\n",
              "      <th></th>\n",
              "      <th>Location</th>\n",
              "      <th>WindGustDir</th>\n",
              "      <th>WindDir9am</th>\n",
              "      <th>WindDir3pm</th>\n",
              "      <th>RainToday</th>\n",
              "      <th>RainTomorrow</th>\n",
              "    </tr>\n",
              "  </thead>\n",
              "  <tbody>\n",
              "    <tr>\n",
              "      <th>6049</th>\n",
              "      <td>Cobar</td>\n",
              "      <td>SSW</td>\n",
              "      <td>ENE</td>\n",
              "      <td>SW</td>\n",
              "      <td>No</td>\n",
              "      <td>No</td>\n",
              "    </tr>\n",
              "    <tr>\n",
              "      <th>6050</th>\n",
              "      <td>Cobar</td>\n",
              "      <td>S</td>\n",
              "      <td>SSE</td>\n",
              "      <td>SSE</td>\n",
              "      <td>No</td>\n",
              "      <td>No</td>\n",
              "    </tr>\n",
              "    <tr>\n",
              "      <th>6052</th>\n",
              "      <td>Cobar</td>\n",
              "      <td>NNE</td>\n",
              "      <td>NNE</td>\n",
              "      <td>NNW</td>\n",
              "      <td>No</td>\n",
              "      <td>No</td>\n",
              "    </tr>\n",
              "    <tr>\n",
              "      <th>6053</th>\n",
              "      <td>Cobar</td>\n",
              "      <td>WNW</td>\n",
              "      <td>WNW</td>\n",
              "      <td>WSW</td>\n",
              "      <td>No</td>\n",
              "      <td>No</td>\n",
              "    </tr>\n",
              "    <tr>\n",
              "      <th>6054</th>\n",
              "      <td>Cobar</td>\n",
              "      <td>WNW</td>\n",
              "      <td>NW</td>\n",
              "      <td>WNW</td>\n",
              "      <td>No</td>\n",
              "      <td>No</td>\n",
              "    </tr>\n",
              "    <tr>\n",
              "      <th>6055</th>\n",
              "      <td>Cobar</td>\n",
              "      <td>N</td>\n",
              "      <td>N</td>\n",
              "      <td>WNW</td>\n",
              "      <td>No</td>\n",
              "      <td>No</td>\n",
              "    </tr>\n",
              "    <tr>\n",
              "      <th>6056</th>\n",
              "      <td>Cobar</td>\n",
              "      <td>SSW</td>\n",
              "      <td>S</td>\n",
              "      <td>SSE</td>\n",
              "      <td>No</td>\n",
              "      <td>No</td>\n",
              "    </tr>\n",
              "    <tr>\n",
              "      <th>6057</th>\n",
              "      <td>Cobar</td>\n",
              "      <td>SE</td>\n",
              "      <td>SE</td>\n",
              "      <td>S</td>\n",
              "      <td>No</td>\n",
              "      <td>No</td>\n",
              "    </tr>\n",
              "    <tr>\n",
              "      <th>6058</th>\n",
              "      <td>Cobar</td>\n",
              "      <td>ENE</td>\n",
              "      <td>ENE</td>\n",
              "      <td>WSW</td>\n",
              "      <td>No</td>\n",
              "      <td>No</td>\n",
              "    </tr>\n",
              "    <tr>\n",
              "      <th>6059</th>\n",
              "      <td>Cobar</td>\n",
              "      <td>NE</td>\n",
              "      <td>NNE</td>\n",
              "      <td>WSW</td>\n",
              "      <td>No</td>\n",
              "      <td>No</td>\n",
              "    </tr>\n",
              "  </tbody>\n",
              "</table>\n",
              "</div>"
            ],
            "text/plain": [
              "     Location WindGustDir WindDir9am WindDir3pm RainToday RainTomorrow\n",
              "6049    Cobar         SSW        ENE         SW        No           No\n",
              "6050    Cobar           S        SSE        SSE        No           No\n",
              "6052    Cobar         NNE        NNE        NNW        No           No\n",
              "6053    Cobar         WNW        WNW        WSW        No           No\n",
              "6054    Cobar         WNW         NW        WNW        No           No\n",
              "6055    Cobar           N          N        WNW        No           No\n",
              "6056    Cobar         SSW          S        SSE        No           No\n",
              "6057    Cobar          SE         SE          S        No           No\n",
              "6058    Cobar         ENE        ENE        WSW        No           No\n",
              "6059    Cobar          NE        NNE        WSW        No           No"
            ]
          },
          "metadata": {},
          "execution_count": 25
        }
      ]
    },
    {
      "cell_type": "code",
      "metadata": {
        "id": "fLFj7mK3-uI3"
      },
      "source": [
        "#grouping all features with numeric(int and float) datatype as 'column numeric'\n",
        "col_numeric = list(dfeats[(dfeats['type'] != 'object') & (~dfeats.feature.isin(['Date']))]['feature'])"
      ],
      "execution_count": 26,
      "outputs": []
    },
    {
      "cell_type": "code",
      "metadata": {
        "id": "ZgPnsjQi-7YB",
        "colab": {
          "base_uri": "https://localhost:8080/",
          "height": 359
        },
        "outputId": "faae4ad6-f418-4c4d-e4ce-c62bdce8fbbc"
      },
      "source": [
        "dtc[col_numeric].head(10)"
      ],
      "execution_count": 27,
      "outputs": [
        {
          "output_type": "execute_result",
          "data": {
            "text/html": [
              "<div>\n",
              "<style scoped>\n",
              "    .dataframe tbody tr th:only-of-type {\n",
              "        vertical-align: middle;\n",
              "    }\n",
              "\n",
              "    .dataframe tbody tr th {\n",
              "        vertical-align: top;\n",
              "    }\n",
              "\n",
              "    .dataframe thead th {\n",
              "        text-align: right;\n",
              "    }\n",
              "</style>\n",
              "<table border=\"1\" class=\"dataframe\">\n",
              "  <thead>\n",
              "    <tr style=\"text-align: right;\">\n",
              "      <th></th>\n",
              "      <th>MinTemp</th>\n",
              "      <th>MaxTemp</th>\n",
              "      <th>Rainfall</th>\n",
              "      <th>Evaporation</th>\n",
              "      <th>Sunshine</th>\n",
              "      <th>WindGustSpeed</th>\n",
              "      <th>WindSpeed9am</th>\n",
              "      <th>WindSpeed3pm</th>\n",
              "      <th>Humidity9am</th>\n",
              "      <th>Humidity3pm</th>\n",
              "      <th>Pressure9am</th>\n",
              "      <th>Pressure3pm</th>\n",
              "      <th>Temp9am</th>\n",
              "      <th>Temp3pm</th>\n",
              "    </tr>\n",
              "  </thead>\n",
              "  <tbody>\n",
              "    <tr>\n",
              "      <th>6049</th>\n",
              "      <td>17.9</td>\n",
              "      <td>35.2</td>\n",
              "      <td>0.0</td>\n",
              "      <td>12.0</td>\n",
              "      <td>12.3</td>\n",
              "      <td>48.0</td>\n",
              "      <td>6.0</td>\n",
              "      <td>20.0</td>\n",
              "      <td>20.0</td>\n",
              "      <td>13.0</td>\n",
              "      <td>1006.3</td>\n",
              "      <td>1004.4</td>\n",
              "      <td>26.6</td>\n",
              "      <td>33.4</td>\n",
              "    </tr>\n",
              "    <tr>\n",
              "      <th>6050</th>\n",
              "      <td>18.4</td>\n",
              "      <td>28.9</td>\n",
              "      <td>0.0</td>\n",
              "      <td>14.8</td>\n",
              "      <td>13.0</td>\n",
              "      <td>37.0</td>\n",
              "      <td>19.0</td>\n",
              "      <td>19.0</td>\n",
              "      <td>30.0</td>\n",
              "      <td>8.0</td>\n",
              "      <td>1012.9</td>\n",
              "      <td>1012.1</td>\n",
              "      <td>20.3</td>\n",
              "      <td>27.0</td>\n",
              "    </tr>\n",
              "    <tr>\n",
              "      <th>6052</th>\n",
              "      <td>19.4</td>\n",
              "      <td>37.6</td>\n",
              "      <td>0.0</td>\n",
              "      <td>10.8</td>\n",
              "      <td>10.6</td>\n",
              "      <td>46.0</td>\n",
              "      <td>30.0</td>\n",
              "      <td>15.0</td>\n",
              "      <td>42.0</td>\n",
              "      <td>22.0</td>\n",
              "      <td>1012.3</td>\n",
              "      <td>1009.2</td>\n",
              "      <td>28.7</td>\n",
              "      <td>34.9</td>\n",
              "    </tr>\n",
              "    <tr>\n",
              "      <th>6053</th>\n",
              "      <td>21.9</td>\n",
              "      <td>38.4</td>\n",
              "      <td>0.0</td>\n",
              "      <td>11.4</td>\n",
              "      <td>12.2</td>\n",
              "      <td>31.0</td>\n",
              "      <td>6.0</td>\n",
              "      <td>6.0</td>\n",
              "      <td>37.0</td>\n",
              "      <td>22.0</td>\n",
              "      <td>1012.7</td>\n",
              "      <td>1009.1</td>\n",
              "      <td>29.1</td>\n",
              "      <td>35.6</td>\n",
              "    </tr>\n",
              "    <tr>\n",
              "      <th>6054</th>\n",
              "      <td>24.2</td>\n",
              "      <td>41.0</td>\n",
              "      <td>0.0</td>\n",
              "      <td>11.2</td>\n",
              "      <td>8.4</td>\n",
              "      <td>35.0</td>\n",
              "      <td>17.0</td>\n",
              "      <td>13.0</td>\n",
              "      <td>19.0</td>\n",
              "      <td>15.0</td>\n",
              "      <td>1010.7</td>\n",
              "      <td>1007.4</td>\n",
              "      <td>33.6</td>\n",
              "      <td>37.6</td>\n",
              "    </tr>\n",
              "    <tr>\n",
              "      <th>6055</th>\n",
              "      <td>27.1</td>\n",
              "      <td>36.1</td>\n",
              "      <td>0.0</td>\n",
              "      <td>13.0</td>\n",
              "      <td>0.0</td>\n",
              "      <td>43.0</td>\n",
              "      <td>7.0</td>\n",
              "      <td>20.0</td>\n",
              "      <td>26.0</td>\n",
              "      <td>19.0</td>\n",
              "      <td>1007.7</td>\n",
              "      <td>1007.4</td>\n",
              "      <td>30.7</td>\n",
              "      <td>34.3</td>\n",
              "    </tr>\n",
              "    <tr>\n",
              "      <th>6056</th>\n",
              "      <td>23.3</td>\n",
              "      <td>34.0</td>\n",
              "      <td>0.0</td>\n",
              "      <td>9.8</td>\n",
              "      <td>12.6</td>\n",
              "      <td>41.0</td>\n",
              "      <td>17.0</td>\n",
              "      <td>19.0</td>\n",
              "      <td>33.0</td>\n",
              "      <td>15.0</td>\n",
              "      <td>1011.3</td>\n",
              "      <td>1009.9</td>\n",
              "      <td>25.0</td>\n",
              "      <td>31.5</td>\n",
              "    </tr>\n",
              "    <tr>\n",
              "      <th>6057</th>\n",
              "      <td>16.1</td>\n",
              "      <td>34.2</td>\n",
              "      <td>0.0</td>\n",
              "      <td>14.6</td>\n",
              "      <td>13.2</td>\n",
              "      <td>37.0</td>\n",
              "      <td>15.0</td>\n",
              "      <td>6.0</td>\n",
              "      <td>25.0</td>\n",
              "      <td>9.0</td>\n",
              "      <td>1013.3</td>\n",
              "      <td>1009.2</td>\n",
              "      <td>20.7</td>\n",
              "      <td>32.8</td>\n",
              "    </tr>\n",
              "    <tr>\n",
              "      <th>6058</th>\n",
              "      <td>19.0</td>\n",
              "      <td>35.5</td>\n",
              "      <td>0.0</td>\n",
              "      <td>12.0</td>\n",
              "      <td>12.3</td>\n",
              "      <td>48.0</td>\n",
              "      <td>30.0</td>\n",
              "      <td>9.0</td>\n",
              "      <td>46.0</td>\n",
              "      <td>28.0</td>\n",
              "      <td>1008.3</td>\n",
              "      <td>1004.0</td>\n",
              "      <td>23.4</td>\n",
              "      <td>33.3</td>\n",
              "    </tr>\n",
              "    <tr>\n",
              "      <th>6059</th>\n",
              "      <td>19.7</td>\n",
              "      <td>35.5</td>\n",
              "      <td>0.0</td>\n",
              "      <td>11.0</td>\n",
              "      <td>12.7</td>\n",
              "      <td>41.0</td>\n",
              "      <td>15.0</td>\n",
              "      <td>17.0</td>\n",
              "      <td>61.0</td>\n",
              "      <td>14.0</td>\n",
              "      <td>1007.9</td>\n",
              "      <td>1005.8</td>\n",
              "      <td>24.0</td>\n",
              "      <td>33.6</td>\n",
              "    </tr>\n",
              "  </tbody>\n",
              "</table>\n",
              "</div>"
            ],
            "text/plain": [
              "      MinTemp  MaxTemp  Rainfall  ...  Pressure3pm  Temp9am  Temp3pm\n",
              "6049     17.9     35.2       0.0  ...       1004.4     26.6     33.4\n",
              "6050     18.4     28.9       0.0  ...       1012.1     20.3     27.0\n",
              "6052     19.4     37.6       0.0  ...       1009.2     28.7     34.9\n",
              "6053     21.9     38.4       0.0  ...       1009.1     29.1     35.6\n",
              "6054     24.2     41.0       0.0  ...       1007.4     33.6     37.6\n",
              "6055     27.1     36.1       0.0  ...       1007.4     30.7     34.3\n",
              "6056     23.3     34.0       0.0  ...       1009.9     25.0     31.5\n",
              "6057     16.1     34.2       0.0  ...       1009.2     20.7     32.8\n",
              "6058     19.0     35.5       0.0  ...       1004.0     23.4     33.3\n",
              "6059     19.7     35.5       0.0  ...       1005.8     24.0     33.6\n",
              "\n",
              "[10 rows x 14 columns]"
            ]
          },
          "metadata": {},
          "execution_count": 27
        }
      ]
    },
    {
      "cell_type": "code",
      "metadata": {
        "id": "4lCrLB91-_eW",
        "colab": {
          "base_uri": "https://localhost:8080/",
          "height": 624
        },
        "outputId": "e3f115ec-dd30-4f04-ea74-51298805ab96"
      },
      "source": [
        "plt.figure(figsize=(13,10))\n",
        "sns.scatterplot(data=dtc,x='Sunshine',y=\"Evaporation\",hue='Rainfall')"
      ],
      "execution_count": 28,
      "outputs": [
        {
          "output_type": "execute_result",
          "data": {
            "text/plain": [
              "<matplotlib.axes._subplots.AxesSubplot at 0x7fd210127f90>"
            ]
          },
          "metadata": {},
          "execution_count": 28
        },
        {
          "output_type": "display_data",
          "data": {
            "image/png": "[encoded data removed]",
            "text/plain": [
              "<Figure size 936x720 with 1 Axes>"
            ]
          },
          "metadata": {
            "needs_background": "light"
          }
        }
      ]
    },
    {
      "cell_type": "markdown",
      "metadata": {
        "id": "5_uFb7XIA9qY"
      },
      "source": [
        "**Rata-rata hujan turun saat intensitas matahari dan penguapan rendah.**"
      ]
    },
    {
      "cell_type": "code",
      "metadata": {
        "id": "N5Gp7bbh7xlh",
        "colab": {
          "base_uri": "https://localhost:8080/",
          "height": 774
        },
        "outputId": "a575033e-b8c2-460a-b6d5-a4e56c0b9ad6"
      },
      "source": [
        "#Check all numeric column correlated with Rainfall\n",
        "plt.figure(figsize = (16, 12))\n",
        "hm = sns.heatmap(dtc[col_numeric].corr(), annot = True)"
      ],
      "execution_count": 29,
      "outputs": [
        {
          "output_type": "display_data",
          "data": {
            "image/png": "[encoded data removed]",
            "text/plain": [
              "<Figure size 1152x864 with 2 Axes>"
            ]
          },
          "metadata": {
            "needs_background": "light"
          }
        }
      ]
    },
    {
      "cell_type": "markdown",
      "metadata": {
        "id": "2Ocgci0GBWFw"
      },
      "source": [
        "**Fitur yang berkorelasi dengan 'Rainfall' adalah 'WindGustSpeed','Humidity9am', 'Humidity3pm', dan 'MinTemp'**"
      ]
    },
    {
      "cell_type": "code",
      "metadata": {
        "id": "SCh2F-Wp_ZS3",
        "colab": {
          "base_uri": "https://localhost:8080/",
          "height": 418
        },
        "outputId": "8eae4ba1-4411-49f4-f727-23817a2146dc"
      },
      "source": [
        "fig = plt.figure(figsize=(20, 18))\n",
        "fig.subplots_adjust(hspace=0.4, wspace=0.4)\n",
        "for i in range(1, len(col_numeric)):\n",
        "    ax = fig.add_subplot(5, 7, i)\n",
        "    sns.histplot(dtc[col_numeric[i]])\n",
        "    plt.xlabel(col_numeric[i])"
      ],
      "execution_count": 30,
      "outputs": [
        {
          "output_type": "display_data",
          "data": {
            "image/png": "[encoded data removed]",
            "text/plain": [
              "<Figure size 1440x1296 with 13 Axes>"
            ]
          },
          "metadata": {
            "needs_background": "light"
          }
        }
      ]
    },
    {
      "cell_type": "markdown",
      "metadata": {
        "id": "HoSivOfNB5Fp"
      },
      "source": [
        "**Rata-rata kolom numerik terdistribusi secara normal**"
      ]
    },
    {
      "cell_type": "markdown",
      "metadata": {
        "id": "tCAcHlTmmaPG"
      },
      "source": [
        "##**STEP 6 : DATA TRANSFORMATION**"
      ]
    },
    {
      "cell_type": "code",
      "metadata": {
        "id": "fBlfayQw_qYX"
      },
      "source": [
        "dtc['RainTomorrow'].replace(['Yes', 'No'],[1,0], inplace=True)\n",
        "dtc['RainToday'].replace(['Yes', 'No'],[1,0], inplace=True)"
      ],
      "execution_count": 31,
      "outputs": []
    },
    {
      "cell_type": "code",
      "metadata": {
        "id": "LieQCBm8_t1a",
        "colab": {
          "base_uri": "https://localhost:8080/",
          "height": 550
        },
        "outputId": "881e3ecf-e0cc-435c-a19d-4e29762a565f"
      },
      "source": [
        "dtc.head(10)"
      ],
      "execution_count": 32,
      "outputs": [
        {
          "output_type": "execute_result",
          "data": {
            "text/html": [
              "<div>\n",
              "<style scoped>\n",
              "    .dataframe tbody tr th:only-of-type {\n",
              "        vertical-align: middle;\n",
              "    }\n",
              "\n",
              "    .dataframe tbody tr th {\n",
              "        vertical-align: top;\n",
              "    }\n",
              "\n",
              "    .dataframe thead th {\n",
              "        text-align: right;\n",
              "    }\n",
              "</style>\n",
              "<table border=\"1\" class=\"dataframe\">\n",
              "  <thead>\n",
              "    <tr style=\"text-align: right;\">\n",
              "      <th></th>\n",
              "      <th>Date</th>\n",
              "      <th>Location</th>\n",
              "      <th>MinTemp</th>\n",
              "      <th>MaxTemp</th>\n",
              "      <th>Rainfall</th>\n",
              "      <th>Evaporation</th>\n",
              "      <th>Sunshine</th>\n",
              "      <th>WindGustDir</th>\n",
              "      <th>WindGustSpeed</th>\n",
              "      <th>WindDir9am</th>\n",
              "      <th>WindDir3pm</th>\n",
              "      <th>WindSpeed9am</th>\n",
              "      <th>WindSpeed3pm</th>\n",
              "      <th>Humidity9am</th>\n",
              "      <th>Humidity3pm</th>\n",
              "      <th>Pressure9am</th>\n",
              "      <th>Pressure3pm</th>\n",
              "      <th>Temp9am</th>\n",
              "      <th>Temp3pm</th>\n",
              "      <th>RainToday</th>\n",
              "      <th>RainTomorrow</th>\n",
              "    </tr>\n",
              "  </thead>\n",
              "  <tbody>\n",
              "    <tr>\n",
              "      <th>6049</th>\n",
              "      <td>2009-01-01</td>\n",
              "      <td>Cobar</td>\n",
              "      <td>17.9</td>\n",
              "      <td>35.2</td>\n",
              "      <td>0.0</td>\n",
              "      <td>12.0</td>\n",
              "      <td>12.3</td>\n",
              "      <td>SSW</td>\n",
              "      <td>48.0</td>\n",
              "      <td>ENE</td>\n",
              "      <td>SW</td>\n",
              "      <td>6.0</td>\n",
              "      <td>20.0</td>\n",
              "      <td>20.0</td>\n",
              "      <td>13.0</td>\n",
              "      <td>1006.3</td>\n",
              "      <td>1004.4</td>\n",
              "      <td>26.6</td>\n",
              "      <td>33.4</td>\n",
              "      <td>0</td>\n",
              "      <td>0</td>\n",
              "    </tr>\n",
              "    <tr>\n",
              "      <th>6050</th>\n",
              "      <td>2009-01-02</td>\n",
              "      <td>Cobar</td>\n",
              "      <td>18.4</td>\n",
              "      <td>28.9</td>\n",
              "      <td>0.0</td>\n",
              "      <td>14.8</td>\n",
              "      <td>13.0</td>\n",
              "      <td>S</td>\n",
              "      <td>37.0</td>\n",
              "      <td>SSE</td>\n",
              "      <td>SSE</td>\n",
              "      <td>19.0</td>\n",
              "      <td>19.0</td>\n",
              "      <td>30.0</td>\n",
              "      <td>8.0</td>\n",
              "      <td>1012.9</td>\n",
              "      <td>1012.1</td>\n",
              "      <td>20.3</td>\n",
              "      <td>27.0</td>\n",
              "      <td>0</td>\n",
              "      <td>0</td>\n",
              "    </tr>\n",
              "    <tr>\n",
              "      <th>6052</th>\n",
              "      <td>2009-01-04</td>\n",
              "      <td>Cobar</td>\n",
              "      <td>19.4</td>\n",
              "      <td>37.6</td>\n",
              "      <td>0.0</td>\n",
              "      <td>10.8</td>\n",
              "      <td>10.6</td>\n",
              "      <td>NNE</td>\n",
              "      <td>46.0</td>\n",
              "      <td>NNE</td>\n",
              "      <td>NNW</td>\n",
              "      <td>30.0</td>\n",
              "      <td>15.0</td>\n",
              "      <td>42.0</td>\n",
              "      <td>22.0</td>\n",
              "      <td>1012.3</td>\n",
              "      <td>1009.2</td>\n",
              "      <td>28.7</td>\n",
              "      <td>34.9</td>\n",
              "      <td>0</td>\n",
              "      <td>0</td>\n",
              "    </tr>\n",
              "    <tr>\n",
              "      <th>6053</th>\n",
              "      <td>2009-01-05</td>\n",
              "      <td>Cobar</td>\n",
              "      <td>21.9</td>\n",
              "      <td>38.4</td>\n",
              "      <td>0.0</td>\n",
              "      <td>11.4</td>\n",
              "      <td>12.2</td>\n",
              "      <td>WNW</td>\n",
              "      <td>31.0</td>\n",
              "      <td>WNW</td>\n",
              "      <td>WSW</td>\n",
              "      <td>6.0</td>\n",
              "      <td>6.0</td>\n",
              "      <td>37.0</td>\n",
              "      <td>22.0</td>\n",
              "      <td>1012.7</td>\n",
              "      <td>1009.1</td>\n",
              "      <td>29.1</td>\n",
              "      <td>35.6</td>\n",
              "      <td>0</td>\n",
              "      <td>0</td>\n",
              "    </tr>\n",
              "    <tr>\n",
              "      <th>6054</th>\n",
              "      <td>2009-01-06</td>\n",
              "      <td>Cobar</td>\n",
              "      <td>24.2</td>\n",
              "      <td>41.0</td>\n",
              "      <td>0.0</td>\n",
              "      <td>11.2</td>\n",
              "      <td>8.4</td>\n",
              "      <td>WNW</td>\n",
              "      <td>35.0</td>\n",
              "      <td>NW</td>\n",
              "      <td>WNW</td>\n",
              "      <td>17.0</td>\n",
              "      <td>13.0</td>\n",
              "      <td>19.0</td>\n",
              "      <td>15.0</td>\n",
              "      <td>1010.7</td>\n",
              "      <td>1007.4</td>\n",
              "      <td>33.6</td>\n",
              "      <td>37.6</td>\n",
              "      <td>0</td>\n",
              "      <td>0</td>\n",
              "    </tr>\n",
              "    <tr>\n",
              "      <th>6055</th>\n",
              "      <td>2009-01-07</td>\n",
              "      <td>Cobar</td>\n",
              "      <td>27.1</td>\n",
              "      <td>36.1</td>\n",
              "      <td>0.0</td>\n",
              "      <td>13.0</td>\n",
              "      <td>0.0</td>\n",
              "      <td>N</td>\n",
              "      <td>43.0</td>\n",
              "      <td>N</td>\n",
              "      <td>WNW</td>\n",
              "      <td>7.0</td>\n",
              "      <td>20.0</td>\n",
              "      <td>26.0</td>\n",
              "      <td>19.0</td>\n",
              "      <td>1007.7</td>\n",
              "      <td>1007.4</td>\n",
              "      <td>30.7</td>\n",
              "      <td>34.3</td>\n",
              "      <td>0</td>\n",
              "      <td>0</td>\n",
              "    </tr>\n",
              "    <tr>\n",
              "      <th>6056</th>\n",
              "      <td>2009-01-08</td>\n",
              "      <td>Cobar</td>\n",
              "      <td>23.3</td>\n",
              "      <td>34.0</td>\n",
              "      <td>0.0</td>\n",
              "      <td>9.8</td>\n",
              "      <td>12.6</td>\n",
              "      <td>SSW</td>\n",
              "      <td>41.0</td>\n",
              "      <td>S</td>\n",
              "      <td>SSE</td>\n",
              "      <td>17.0</td>\n",
              "      <td>19.0</td>\n",
              "      <td>33.0</td>\n",
              "      <td>15.0</td>\n",
              "      <td>1011.3</td>\n",
              "      <td>1009.9</td>\n",
              "      <td>25.0</td>\n",
              "      <td>31.5</td>\n",
              "      <td>0</td>\n",
              "      <td>0</td>\n",
              "    </tr>\n",
              "    <tr>\n",
              "      <th>6057</th>\n",
              "      <td>2009-01-09</td>\n",
              "      <td>Cobar</td>\n",
              "      <td>16.1</td>\n",
              "      <td>34.2</td>\n",
              "      <td>0.0</td>\n",
              "      <td>14.6</td>\n",
              "      <td>13.2</td>\n",
              "      <td>SE</td>\n",
              "      <td>37.0</td>\n",
              "      <td>SE</td>\n",
              "      <td>S</td>\n",
              "      <td>15.0</td>\n",
              "      <td>6.0</td>\n",
              "      <td>25.0</td>\n",
              "      <td>9.0</td>\n",
              "      <td>1013.3</td>\n",
              "      <td>1009.2</td>\n",
              "      <td>20.7</td>\n",
              "      <td>32.8</td>\n",
              "      <td>0</td>\n",
              "      <td>0</td>\n",
              "    </tr>\n",
              "    <tr>\n",
              "      <th>6058</th>\n",
              "      <td>2009-01-10</td>\n",
              "      <td>Cobar</td>\n",
              "      <td>19.0</td>\n",
              "      <td>35.5</td>\n",
              "      <td>0.0</td>\n",
              "      <td>12.0</td>\n",
              "      <td>12.3</td>\n",
              "      <td>ENE</td>\n",
              "      <td>48.0</td>\n",
              "      <td>ENE</td>\n",
              "      <td>WSW</td>\n",
              "      <td>30.0</td>\n",
              "      <td>9.0</td>\n",
              "      <td>46.0</td>\n",
              "      <td>28.0</td>\n",
              "      <td>1008.3</td>\n",
              "      <td>1004.0</td>\n",
              "      <td>23.4</td>\n",
              "      <td>33.3</td>\n",
              "      <td>0</td>\n",
              "      <td>0</td>\n",
              "    </tr>\n",
              "    <tr>\n",
              "      <th>6059</th>\n",
              "      <td>2009-01-11</td>\n",
              "      <td>Cobar</td>\n",
              "      <td>19.7</td>\n",
              "      <td>35.5</td>\n",
              "      <td>0.0</td>\n",
              "      <td>11.0</td>\n",
              "      <td>12.7</td>\n",
              "      <td>NE</td>\n",
              "      <td>41.0</td>\n",
              "      <td>NNE</td>\n",
              "      <td>WSW</td>\n",
              "      <td>15.0</td>\n",
              "      <td>17.0</td>\n",
              "      <td>61.0</td>\n",
              "      <td>14.0</td>\n",
              "      <td>1007.9</td>\n",
              "      <td>1005.8</td>\n",
              "      <td>24.0</td>\n",
              "      <td>33.6</td>\n",
              "      <td>0</td>\n",
              "      <td>0</td>\n",
              "    </tr>\n",
              "  </tbody>\n",
              "</table>\n",
              "</div>"
            ],
            "text/plain": [
              "           Date Location  MinTemp  ...  Temp3pm  RainToday  RainTomorrow\n",
              "6049 2009-01-01    Cobar     17.9  ...     33.4          0             0\n",
              "6050 2009-01-02    Cobar     18.4  ...     27.0          0             0\n",
              "6052 2009-01-04    Cobar     19.4  ...     34.9          0             0\n",
              "6053 2009-01-05    Cobar     21.9  ...     35.6          0             0\n",
              "6054 2009-01-06    Cobar     24.2  ...     37.6          0             0\n",
              "6055 2009-01-07    Cobar     27.1  ...     34.3          0             0\n",
              "6056 2009-01-08    Cobar     23.3  ...     31.5          0             0\n",
              "6057 2009-01-09    Cobar     16.1  ...     32.8          0             0\n",
              "6058 2009-01-10    Cobar     19.0  ...     33.3          0             0\n",
              "6059 2009-01-11    Cobar     19.7  ...     33.6          0             0\n",
              "\n",
              "[10 rows x 21 columns]"
            ]
          },
          "metadata": {},
          "execution_count": 32
        }
      ]
    },
    {
      "cell_type": "code",
      "metadata": {
        "id": "98LBsNuE_y2J"
      },
      "source": [
        "#features based on column that most correlated with RainTomorrow\n",
        "feature_cols = ['Rainfall','WindGustSpeed','WindSpeed9am','WindSpeed3pm','Humidity3pm','Humidity9am','RainToday']\n",
        "X = dtc[feature_cols]\n",
        "y = dtc['RainTomorrow']"
      ],
      "execution_count": 33,
      "outputs": []
    },
    {
      "cell_type": "code",
      "metadata": {
        "id": "KBvKWM0J_9Eu",
        "colab": {
          "base_uri": "https://localhost:8080/",
          "height": 297
        },
        "outputId": "e89511fd-f169-48ea-a6e0-acbe14ac6408"
      },
      "source": [
        "dtc[feature_cols+['RainTomorrow']].corr()"
      ],
      "execution_count": 34,
      "outputs": [
        {
          "output_type": "execute_result",
          "data": {
            "text/html": [
              "<div>\n",
              "<style scoped>\n",
              "    .dataframe tbody tr th:only-of-type {\n",
              "        vertical-align: middle;\n",
              "    }\n",
              "\n",
              "    .dataframe tbody tr th {\n",
              "        vertical-align: top;\n",
              "    }\n",
              "\n",
              "    .dataframe thead th {\n",
              "        text-align: right;\n",
              "    }\n",
              "</style>\n",
              "<table border=\"1\" class=\"dataframe\">\n",
              "  <thead>\n",
              "    <tr style=\"text-align: right;\">\n",
              "      <th></th>\n",
              "      <th>Rainfall</th>\n",
              "      <th>WindGustSpeed</th>\n",
              "      <th>WindSpeed9am</th>\n",
              "      <th>WindSpeed3pm</th>\n",
              "      <th>Humidity3pm</th>\n",
              "      <th>Humidity9am</th>\n",
              "      <th>RainToday</th>\n",
              "      <th>RainTomorrow</th>\n",
              "    </tr>\n",
              "  </thead>\n",
              "  <tbody>\n",
              "    <tr>\n",
              "      <th>Rainfall</th>\n",
              "      <td>1.000000</td>\n",
              "      <td>0.106308</td>\n",
              "      <td>0.050584</td>\n",
              "      <td>0.044112</td>\n",
              "      <td>0.277625</td>\n",
              "      <td>0.263625</td>\n",
              "      <td>0.550515</td>\n",
              "      <td>0.254342</td>\n",
              "    </tr>\n",
              "    <tr>\n",
              "      <th>WindGustSpeed</th>\n",
              "      <td>0.106308</td>\n",
              "      <td>1.000000</td>\n",
              "      <td>0.608852</td>\n",
              "      <td>0.685236</td>\n",
              "      <td>-0.042653</td>\n",
              "      <td>-0.193410</td>\n",
              "      <td>0.146276</td>\n",
              "      <td>0.233158</td>\n",
              "    </tr>\n",
              "    <tr>\n",
              "      <th>WindSpeed9am</th>\n",
              "      <td>0.050584</td>\n",
              "      <td>0.608852</td>\n",
              "      <td>1.000000</td>\n",
              "      <td>0.502226</td>\n",
              "      <td>-0.058449</td>\n",
              "      <td>-0.236795</td>\n",
              "      <td>0.083125</td>\n",
              "      <td>0.083904</td>\n",
              "    </tr>\n",
              "    <tr>\n",
              "      <th>WindSpeed3pm</th>\n",
              "      <td>0.044112</td>\n",
              "      <td>0.685236</td>\n",
              "      <td>0.502226</td>\n",
              "      <td>1.000000</td>\n",
              "      <td>0.031843</td>\n",
              "      <td>-0.100626</td>\n",
              "      <td>0.085627</td>\n",
              "      <td>0.088862</td>\n",
              "    </tr>\n",
              "    <tr>\n",
              "      <th>Humidity3pm</th>\n",
              "      <td>0.277625</td>\n",
              "      <td>-0.042653</td>\n",
              "      <td>-0.058449</td>\n",
              "      <td>0.031843</td>\n",
              "      <td>1.000000</td>\n",
              "      <td>0.685697</td>\n",
              "      <td>0.385440</td>\n",
              "      <td>0.455358</td>\n",
              "    </tr>\n",
              "    <tr>\n",
              "      <th>Humidity9am</th>\n",
              "      <td>0.263625</td>\n",
              "      <td>-0.193410</td>\n",
              "      <td>-0.236795</td>\n",
              "      <td>-0.100626</td>\n",
              "      <td>0.685697</td>\n",
              "      <td>1.000000</td>\n",
              "      <td>0.379451</td>\n",
              "      <td>0.271033</td>\n",
              "    </tr>\n",
              "    <tr>\n",
              "      <th>RainToday</th>\n",
              "      <td>0.550515</td>\n",
              "      <td>0.146276</td>\n",
              "      <td>0.083125</td>\n",
              "      <td>0.085627</td>\n",
              "      <td>0.385440</td>\n",
              "      <td>0.379451</td>\n",
              "      <td>1.000000</td>\n",
              "      <td>0.309098</td>\n",
              "    </tr>\n",
              "    <tr>\n",
              "      <th>RainTomorrow</th>\n",
              "      <td>0.254342</td>\n",
              "      <td>0.233158</td>\n",
              "      <td>0.083904</td>\n",
              "      <td>0.088862</td>\n",
              "      <td>0.455358</td>\n",
              "      <td>0.271033</td>\n",
              "      <td>0.309098</td>\n",
              "      <td>1.000000</td>\n",
              "    </tr>\n",
              "  </tbody>\n",
              "</table>\n",
              "</div>"
            ],
            "text/plain": [
              "               Rainfall  WindGustSpeed  ...  RainToday  RainTomorrow\n",
              "Rainfall       1.000000       0.106308  ...   0.550515      0.254342\n",
              "WindGustSpeed  0.106308       1.000000  ...   0.146276      0.233158\n",
              "WindSpeed9am   0.050584       0.608852  ...   0.083125      0.083904\n",
              "WindSpeed3pm   0.044112       0.685236  ...   0.085627      0.088862\n",
              "Humidity3pm    0.277625      -0.042653  ...   0.385440      0.455358\n",
              "Humidity9am    0.263625      -0.193410  ...   0.379451      0.271033\n",
              "RainToday      0.550515       0.146276  ...   1.000000      0.309098\n",
              "RainTomorrow   0.254342       0.233158  ...   0.309098      1.000000\n",
              "\n",
              "[8 rows x 8 columns]"
            ]
          },
          "metadata": {},
          "execution_count": 34
        }
      ]
    },
    {
      "cell_type": "markdown",
      "metadata": {
        "id": "JWC45zyCmtnt"
      },
      "source": [
        "##**STEP 7 : MODELING**"
      ]
    },
    {
      "cell_type": "markdown",
      "metadata": {
        "id": "_QrWLw4j4hQp"
      },
      "source": [
        "### **Data Split**"
      ]
    },
    {
      "cell_type": "code",
      "metadata": {
        "id": "pGtxgykCACmz"
      },
      "source": [
        "X_train, X_test, y_train, y_test = train_test_split(X, y, test_size=0.3, random_state=77, stratify=y)"
      ],
      "execution_count": 35,
      "outputs": []
    },
    {
      "cell_type": "markdown",
      "metadata": {
        "id": "kh8zPwzf4qrh"
      },
      "source": [
        "### **Data scaling**"
      ]
    },
    {
      "cell_type": "code",
      "metadata": {
        "id": "DY24DjK9AF9F"
      },
      "source": [
        "scaler = StandardScaler()\n",
        "scaler.fit(X_train)\n",
        "\n",
        "X_train_trf = scaler.transform(X_train)"
      ],
      "execution_count": 36,
      "outputs": []
    },
    {
      "cell_type": "markdown",
      "metadata": {
        "id": "qliLXq0J47s-"
      },
      "source": [
        "### **Create Model**"
      ]
    },
    {
      "cell_type": "code",
      "metadata": {
        "id": "7CK6Ll7gAJWh",
        "colab": {
          "base_uri": "https://localhost:8080/"
        },
        "outputId": "b960b723-23fa-4890-b084-9d5f89dd648d"
      },
      "source": [
        "lr_model = LogisticRegression(solver=\"lbfgs\", random_state=77)\n",
        "%time lr_model.fit(X_train_trf, y_train)"
      ],
      "execution_count": 37,
      "outputs": [
        {
          "output_type": "stream",
          "name": "stdout",
          "text": [
            "CPU times: user 112 ms, sys: 79.7 ms, total: 192 ms\n",
            "Wall time: 106 ms\n"
          ]
        },
        {
          "output_type": "execute_result",
          "data": {
            "text/plain": [
              "LogisticRegression(C=1.0, class_weight=None, dual=False, fit_intercept=True,\n",
              "                   intercept_scaling=1, l1_ratio=None, max_iter=100,\n",
              "                   multi_class='auto', n_jobs=None, penalty='l2',\n",
              "                   random_state=77, solver='lbfgs', tol=0.0001, verbose=0,\n",
              "                   warm_start=False)"
            ]
          },
          "metadata": {},
          "execution_count": 37
        }
      ]
    },
    {
      "cell_type": "code",
      "metadata": {
        "id": "cZX1So9cBB0g",
        "colab": {
          "base_uri": "https://localhost:8080/"
        },
        "outputId": "45bce7b5-1796-486b-8bcf-79daa1d53928"
      },
      "source": [
        "svc_model = SVC(kernel='linear', random_state=77,C=1)\n",
        "%time svc_model.fit(X_train_trf, y_train)"
      ],
      "execution_count": 38,
      "outputs": [
        {
          "output_type": "stream",
          "name": "stdout",
          "text": [
            "CPU times: user 28 s, sys: 304 ms, total: 28.3 s\n",
            "Wall time: 28.1 s\n"
          ]
        },
        {
          "output_type": "execute_result",
          "data": {
            "text/plain": [
              "SVC(C=1, break_ties=False, cache_size=200, class_weight=None, coef0=0.0,\n",
              "    decision_function_shape='ovr', degree=3, gamma='scale', kernel='linear',\n",
              "    max_iter=-1, probability=False, random_state=77, shrinking=True, tol=0.001,\n",
              "    verbose=False)"
            ]
          },
          "metadata": {},
          "execution_count": 38
        }
      ]
    },
    {
      "cell_type": "markdown",
      "metadata": {
        "id": "Za-tiGP75ESg"
      },
      "source": [
        "### **Model Inference Logistic Regression**"
      ]
    },
    {
      "cell_type": "code",
      "metadata": {
        "id": "TKQWLw89XhvX",
        "colab": {
          "base_uri": "https://localhost:8080/"
        },
        "outputId": "e9e094f1-6610-4359-f355-feac1ce8c3f7"
      },
      "source": [
        "# classification_report\n",
        "%time y_test_predict = lr_model.predict(X_test)\n",
        "print(classification_report(y_test, y_test_predict))"
      ],
      "execution_count": 39,
      "outputs": [
        {
          "output_type": "stream",
          "name": "stdout",
          "text": [
            "CPU times: user 4.82 ms, sys: 3.08 ms, total: 7.9 ms\n",
            "Wall time: 7.31 ms\n",
            "              precision    recall  f1-score   support\n",
            "\n",
            "           0       0.00      0.00      0.00     13198\n",
            "           1       0.22      1.00      0.36      3728\n",
            "\n",
            "    accuracy                           0.22     16926\n",
            "   macro avg       0.11      0.50      0.18     16926\n",
            "weighted avg       0.05      0.22      0.08     16926\n",
            "\n"
          ]
        }
      ]
    },
    {
      "cell_type": "markdown",
      "metadata": {
        "id": "qVtSf0_45J9m"
      },
      "source": [
        "### **Confusion Matrix**"
      ]
    },
    {
      "cell_type": "code",
      "metadata": {
        "id": "mekz5GSkYqSt"
      },
      "source": [
        "cm = confusion_matrix(y_test, y_test_predict)"
      ],
      "execution_count": 40,
      "outputs": []
    },
    {
      "cell_type": "code",
      "metadata": {
        "id": "c_GEkXDVZIav",
        "colab": {
          "base_uri": "https://localhost:8080/"
        },
        "outputId": "d0019f89-bb52-446d-b44f-7da85f049ff4"
      },
      "source": [
        "print(cm)\n",
        "print(precision_score(y_test, y_test_predict))\n",
        "print(recall_score(y_test, y_test_predict))"
      ],
      "execution_count": 41,
      "outputs": [
        {
          "output_type": "stream",
          "name": "stdout",
          "text": [
            "[[    0 13198]\n",
            " [    0  3728]]\n",
            "0.22025286541415573\n",
            "1.0\n"
          ]
        }
      ]
    },
    {
      "cell_type": "code",
      "metadata": {
        "id": "PA9hLLmcZMzh",
        "colab": {
          "base_uri": "https://localhost:8080/"
        },
        "outputId": "c60eb70e-0958-4ced-b3b4-954ebb88757e"
      },
      "source": [
        "%time y_scores = cross_val_predict(lr_model, X_train, y_train, cv=3,method=\"decision_function\")\n",
        "y_scores"
      ],
      "execution_count": 42,
      "outputs": [
        {
          "output_type": "stream",
          "name": "stdout",
          "text": [
            "CPU times: user 1.41 s, sys: 1.03 s, total: 2.45 s\n",
            "Wall time: 1.3 s\n"
          ]
        },
        {
          "output_type": "execute_result",
          "data": {
            "text/plain": [
              "array([-3.82595226,  0.01902646, -3.27023   , ..., -3.38172946,\n",
              "       -0.94397173, -5.69226304])"
            ]
          },
          "metadata": {},
          "execution_count": 42
        }
      ]
    },
    {
      "cell_type": "code",
      "metadata": {
        "id": "u1_vcrwXZQeZ",
        "colab": {
          "base_uri": "https://localhost:8080/"
        },
        "outputId": "a690dc70-9cf0-45df-bf28-d8df780949d5"
      },
      "source": [
        "%time precisions, recalls, thresholds = precision_recall_curve(y_train, y_scores)"
      ],
      "execution_count": 43,
      "outputs": [
        {
          "output_type": "stream",
          "name": "stdout",
          "text": [
            "CPU times: user 11.7 ms, sys: 12.1 ms, total: 23.8 ms\n",
            "Wall time: 14 ms\n"
          ]
        }
      ]
    },
    {
      "cell_type": "code",
      "metadata": {
        "id": "FbZ4VQnhZTjy",
        "colab": {
          "base_uri": "https://localhost:8080/",
          "height": 397
        },
        "outputId": "2a0b5378-6c7e-43a7-ac06-da2ba6df3a4a"
      },
      "source": [
        "def plot_precision_vs_recall(precisions, recalls):\n",
        "    plt.plot(recalls, precisions, \"b-\", linewidth=2)\n",
        "    plt.xlabel(\"Recall\", fontsize=16)\n",
        "    plt.ylabel(\"Precision\", fontsize=16)\n",
        "    plt.axis([0, 1, 0, 1])\n",
        "    plt.grid(True)\n",
        "\n",
        "plt.figure(figsize=(8, 6))\n",
        "plot_precision_vs_recall(precisions, recalls)\n",
        "plt.show()"
      ],
      "execution_count": 44,
      "outputs": [
        {
          "output_type": "display_data",
          "data": {
            "image/png": "[encoded data removed]",
            "text/plain": [
              "<Figure size 576x432 with 1 Axes>"
            ]
          },
          "metadata": {
            "needs_background": "light"
          }
        }
      ]
    },
    {
      "cell_type": "markdown",
      "metadata": {
        "id": "LWWVWrYP5QCH"
      },
      "source": [
        "### **Model Inference SVC**"
      ]
    },
    {
      "cell_type": "code",
      "metadata": {
        "id": "y9asbiuUZaTC",
        "colab": {
          "base_uri": "https://localhost:8080/"
        },
        "outputId": "7b0f192a-2b56-4a67-85f3-b80c0c228d8a"
      },
      "source": [
        "# classification_report\n",
        "%time y_test_predict = svc_model.predict(X_test)\n",
        "print(classification_report(y_test, y_test_predict))"
      ],
      "execution_count": 45,
      "outputs": [
        {
          "output_type": "stream",
          "name": "stdout",
          "text": [
            "CPU times: user 2.46 s, sys: 4.04 ms, total: 2.47 s\n",
            "Wall time: 2.46 s\n",
            "              precision    recall  f1-score   support\n",
            "\n",
            "           0       0.00      0.00      0.00     13198\n",
            "           1       0.22      1.00      0.36      3728\n",
            "\n",
            "    accuracy                           0.22     16926\n",
            "   macro avg       0.11      0.50      0.18     16926\n",
            "weighted avg       0.05      0.22      0.08     16926\n",
            "\n"
          ]
        }
      ]
    },
    {
      "cell_type": "code",
      "metadata": {
        "id": "_NjDJgP-ZxHZ",
        "colab": {
          "base_uri": "https://localhost:8080/"
        },
        "outputId": "761a07e6-5ce1-4f05-c5d9-e70f7e357c50"
      },
      "source": [
        "%time cm = confusion_matrix(y_test, y_test_predict)"
      ],
      "execution_count": 46,
      "outputs": [
        {
          "output_type": "stream",
          "name": "stdout",
          "text": [
            "CPU times: user 14.8 ms, sys: 0 ns, total: 14.8 ms\n",
            "Wall time: 15.7 ms\n"
          ]
        }
      ]
    },
    {
      "cell_type": "code",
      "metadata": {
        "id": "IvC_P0IdZy1u",
        "colab": {
          "base_uri": "https://localhost:8080/"
        },
        "outputId": "f57e180c-4f9a-4a9a-ab61-383b5b341319"
      },
      "source": [
        "print(cm)\n",
        "print(precision_score(y_test, y_test_predict))\n",
        "print(recall_score(y_test, y_test_predict))"
      ],
      "execution_count": 47,
      "outputs": [
        {
          "output_type": "stream",
          "name": "stdout",
          "text": [
            "[[    0 13198]\n",
            " [    0  3728]]\n",
            "0.22025286541415573\n",
            "1.0\n"
          ]
        }
      ]
    },
    {
      "cell_type": "code",
      "metadata": {
        "id": "AnuE8ryQZ5LW",
        "colab": {
          "base_uri": "https://localhost:8080/"
        },
        "outputId": "d130a530-e51d-4fc0-dc07-c8102bc8ef4c"
      },
      "source": [
        "%time y_scores = cross_val_predict(svc_model, X_train, y_train, cv=3,method=\"decision_function\")\n",
        "y_scores"
      ],
      "execution_count": 48,
      "outputs": [
        {
          "output_type": "stream",
          "name": "stdout",
          "text": [
            "CPU times: user 20min 54s, sys: 1.23 s, total: 20min 55s\n",
            "Wall time: 20min 48s\n"
          ]
        },
        {
          "output_type": "execute_result",
          "data": {
            "text/plain": [
              "array([-2.57975872,  0.47855302, -2.14258712, ..., -2.16402134,\n",
              "       -0.78414154, -3.77427257])"
            ]
          },
          "metadata": {},
          "execution_count": 48
        }
      ]
    },
    {
      "cell_type": "code",
      "metadata": {
        "id": "xFrnRvXKZ8Xd",
        "colab": {
          "base_uri": "https://localhost:8080/"
        },
        "outputId": "b9ad66fa-5fe0-44ed-b1d6-f11c77da24e0"
      },
      "source": [
        "%time precisions, recalls, thresholds = precision_recall_curve(y_train, y_scores)"
      ],
      "execution_count": 49,
      "outputs": [
        {
          "output_type": "stream",
          "name": "stdout",
          "text": [
            "CPU times: user 10.2 ms, sys: 1 µs, total: 10.2 ms\n",
            "Wall time: 12.3 ms\n"
          ]
        }
      ]
    },
    {
      "cell_type": "code",
      "metadata": {
        "id": "8KW1uAG7aAtQ",
        "colab": {
          "base_uri": "https://localhost:8080/",
          "height": 397
        },
        "outputId": "8f873b95-7069-4c2d-88f2-92d9596c06d0"
      },
      "source": [
        "def plot_precision_vs_recall(precisions, recalls):\n",
        "    plt.plot(recalls, precisions, \"b-\", linewidth=2)\n",
        "    plt.xlabel(\"Recall\", fontsize=16)\n",
        "    plt.ylabel(\"Precision\", fontsize=16)\n",
        "    plt.axis([0, 1, 0, 1])\n",
        "    plt.grid(True)\n",
        "\n",
        "plt.figure(figsize=(8, 6))\n",
        "plot_precision_vs_recall(precisions, recalls)\n",
        "plt.show()"
      ],
      "execution_count": 50,
      "outputs": [
        {
          "output_type": "display_data",
          "data": {
            "image/png": "[encoded data removed]",
            "text/plain": [
              "<Figure size 576x432 with 1 Axes>"
            ]
          },
          "metadata": {
            "needs_background": "light"
          }
        }
      ]
    },
    {
      "cell_type": "markdown",
      "metadata": {
        "id": "CofvSXrz5Yv-"
      },
      "source": [
        "## **STEP 8 : MODEL ANALYSIS**"
      ]
    },
    {
      "cell_type": "markdown",
      "metadata": {
        "id": "wxwqhDdS5r5x"
      },
      "source": [
        "### **Evaluation Logistic Regression**"
      ]
    },
    {
      "cell_type": "code",
      "metadata": {
        "id": "3W_1bHDAdSfK",
        "colab": {
          "base_uri": "https://localhost:8080/",
          "height": 415
        },
        "outputId": "378a0194-3352-47d9-b700-ad4bbdcf435e"
      },
      "source": [
        "plt.figure(figsize=(8, 6))                                   \n",
        "plt.axis([0, 1, 0, 1])                                    \n",
        "plt.xlabel('False Positive Rate (Fall-Out)', fontsize=16) \n",
        "plt.ylabel('True Positive Rate (Recall)', fontsize=16)   \n",
        "plt.grid(True)                                            \n",
        "plt.plot([0, 1], [0, 1], 'k--') # dashed diagonal\n",
        "\n",
        "y_scores = lr_model.decision_function(X_test)\n",
        "fpr, tpr, thresholds = roc_curve(y_test, y_scores)\n",
        "roc_auc = auc(fpr, tpr)\n",
        "plt.plot(fpr, tpr, linewidth=2,label=' ROC curve (area = %0.2f)' % roc_auc)\n",
        "\n",
        "plt.legend(loc=\"lower right\")"
      ],
      "execution_count": 51,
      "outputs": [
        {
          "output_type": "execute_result",
          "data": {
            "text/plain": [
              "<matplotlib.legend.Legend at 0x7fd205393850>"
            ]
          },
          "metadata": {},
          "execution_count": 51
        },
        {
          "output_type": "display_data",
          "data": {
            "image/png": "[encoded data removed]",
            "text/plain": [
              "<Figure size 576x432 with 1 Axes>"
            ]
          },
          "metadata": {
            "needs_background": "light"
          }
        }
      ]
    },
    {
      "cell_type": "code",
      "metadata": {
        "id": "OWCJmqkddZZO",
        "colab": {
          "base_uri": "https://localhost:8080/"
        },
        "outputId": "85799762-76de-428c-d5a0-a2b2b70533f9"
      },
      "source": [
        "#prediction training result\n",
        "model_pred_train = lr_model.predict(X_train)\n",
        "\n",
        "MAE_train = mean_absolute_error(y_train, model_pred_train)\n",
        "RMSE_train = np.sqrt(mean_squared_error(y_train, model_pred_train))\n",
        "\n",
        "print('MAE Train : ', MAE_train)\n",
        "print('RMSE Train : ', MAE_train)\n",
        "print(\"R2 score : %.2f\" % r2_score(y_train, model_pred_train))"
      ],
      "execution_count": 52,
      "outputs": [
        {
          "output_type": "stream",
          "name": "stdout",
          "text": [
            "MAE Train :  0.7797386944852382\n",
            "RMSE Train :  0.7797386944852382\n",
            "R2 score : -3.54\n"
          ]
        }
      ]
    },
    {
      "cell_type": "code",
      "metadata": {
        "id": "OspT8Kq7dtsw",
        "colab": {
          "base_uri": "https://localhost:8080/"
        },
        "outputId": "41550509-456a-41be-a29c-dee2ea486a40"
      },
      "source": [
        "#prediction test result\n",
        "model_pred_test = lr_model.predict(X_test)\n",
        "\n",
        "MAE_test = mean_absolute_error(y_test, model_pred_test)\n",
        "RMSE_test = np.sqrt(mean_squared_error(y_test, model_pred_test))\n",
        "\n",
        "print('MAE Test : ', MAE_test)\n",
        "print('RMSE Test : ', RMSE_test)\n",
        "print(\"R2 score : %.2f\" % r2_score(y_test, model_pred_test))"
      ],
      "execution_count": 53,
      "outputs": [
        {
          "output_type": "stream",
          "name": "stdout",
          "text": [
            "MAE Test :  0.7797471345858442\n",
            "RMSE Test :  0.8830329181779376\n",
            "R2 score : -3.54\n"
          ]
        }
      ]
    },
    {
      "cell_type": "markdown",
      "metadata": {
        "id": "vb6bFp4Z6DdH"
      },
      "source": [
        "### **Evaluation SVC**"
      ]
    },
    {
      "cell_type": "code",
      "metadata": {
        "id": "ajgrqxCZd4jb",
        "colab": {
          "base_uri": "https://localhost:8080/",
          "height": 415
        },
        "outputId": "0a21e0d0-11bd-4da2-cdaf-973919ecff78"
      },
      "source": [
        "plt.figure(figsize=(8, 6))                                   \n",
        "plt.axis([0, 1, 0, 1])                                    \n",
        "plt.xlabel('False Positive Rate (Fall-Out)', fontsize=16) \n",
        "plt.ylabel('True Positive Rate (Recall)', fontsize=16)   \n",
        "plt.grid(True)                                            \n",
        "plt.plot([0, 1], [0, 1], 'k--') # dashed diagonal\n",
        "\n",
        "y_scores = svc_model.decision_function(X_test)\n",
        "fpr, tpr, thresholds = roc_curve(y_test, y_scores)\n",
        "roc_auc = auc(fpr, tpr)\n",
        "plt.plot(fpr, tpr, linewidth=2,label=' ROC curve (area = %0.2f)' % roc_auc)\n",
        "\n",
        "plt.legend(loc=\"lower right\")"
      ],
      "execution_count": 54,
      "outputs": [
        {
          "output_type": "execute_result",
          "data": {
            "text/plain": [
              "<matplotlib.legend.Legend at 0x7fd1ffcddd10>"
            ]
          },
          "metadata": {},
          "execution_count": 54
        },
        {
          "output_type": "display_data",
          "data": {
            "image/png": "[encoded data removed]",
            "text/plain": [
              "<Figure size 576x432 with 1 Axes>"
            ]
          },
          "metadata": {
            "needs_background": "light"
          }
        }
      ]
    },
    {
      "cell_type": "markdown",
      "metadata": {
        "id": "2hgt472Z6JbM"
      },
      "source": [
        "## **STEP 9 : KESIMPULAN**"
      ]
    },
    {
      "cell_type": "markdown",
      "metadata": {
        "id": "jRZ5htwzE-P-"
      },
      "source": [
        "Metode yang digunakan pada klasifikasi pada program ini menggunakan metode Logistic Regression dan Support Vector Machine(SVM) untuk memprediksi hujan dengan menggunakan dataset weatherAUS.csv\n",
        "\n",
        "Source : https://www.kaggle.com/jsphyg/weather-dataset-rattle-package\n",
        "\n",
        "Fungsi Recall dan Precision adalah untuk mengecek akurasi modelnya. Jika Precision semakin tinggi, maka recall akan turun. Begitu juga sebaliknya.\n",
        "\n",
        "**Logistic Regression :**\n",
        "* ROC curve = 0.85\n",
        "* Precision = 0.22\n",
        "* Recall = 1.00\n",
        "* f1 score = 0.36\n",
        "\n",
        "**SVC Linear :**\n",
        "* ROC curve = 0.85\n",
        "* Precision = 0.22\n",
        "* Recall = 1.00\n",
        "* f1 score = 0.36\n",
        "\n",
        "**Kecepatan Training Model :**\n",
        "* Logistic Regression : Wall time 106 ms\n",
        "* SVC : Wall time 28.1 s.\n",
        "\n",
        "**Kecepatan Training Inference :**\n",
        "* Logistic Regression : Wall time: 1.3 s. \n",
        "* SVC : Wall time 20min 48s\n",
        "\n",
        "Pada kedua model di atas, keduanya mendapatkan Roc dan Auc yang besar dan cocok untuk dataset ini. Namun perlu diperhatikan waktu yang dibutuhkan untuk menjalankan masing-masing model.\n",
        "\n",
        "**Prediction training result :**\n",
        "* MAE Train  : 0.7797386944852382\n",
        "* RMSE Train : 0.7797386944852382\n",
        "* R2 score   : -3.54\n",
        "\n",
        "**prediction test result :**\n",
        "* MAE Test  : 0.7797471345858442\n",
        "* RMSE Test : 0.8830329181779376\n",
        "* R2 score  : -3.54\n",
        "\n",
        "Kedua pengujian tersebut memiliki hasil yang tidak jauh berbeda, dari segi nilai MAE, RMSE R2 Score tetap mendapatkan keakuratan dan error yang tidak jauh berbeda."
      ]
    }
  ]
}